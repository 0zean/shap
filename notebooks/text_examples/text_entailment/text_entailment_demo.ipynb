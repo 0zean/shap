{
 "cells": [
  {
   "cell_type": "markdown",
   "id": "desirable-above",
   "metadata": {},
   "source": [
    "## Multi-Input Text Explanation: Textual Entailment with Facebook BART\n"
   ]
  },
  {
   "cell_type": "markdown",
   "id": "packed-capitol",
   "metadata": {},
   "source": [
    "This notebook demonstrates how to get explanations for the output of BART trained on the mnli dataset and used for textual entailment. \n"
   ]
  },
  {
   "cell_type": "code",
   "execution_count": 1,
   "id": "prescription-terrorist",
   "metadata": {},
   "outputs": [],
   "source": [
    "import numpy as np\n",
    "from transformers import AutoModelForSequenceClassification, AutoTokenizer\n",
    "import shap\n",
    "from datasets import load_dataset"
   ]
  },
  {
   "cell_type": "markdown",
   "id": "written-network",
   "metadata": {},
   "source": [
    "### Load model and tokenizer"
   ]
  },
  {
   "cell_type": "code",
   "execution_count": 2,
   "id": "meaning-terminology",
   "metadata": {},
   "outputs": [
    {
     "name": "stderr",
     "output_type": "stream",
     "text": [
      "Some weights of the model checkpoint at facebook/bart-large-mnli were not used when initializing BartForSequenceClassification: ['model.encoder.version', 'model.decoder.version']\n",
      "- This IS expected if you are initializing BartForSequenceClassification from the checkpoint of a model trained on another task or with another architecture (e.g. initializing a BertForSequenceClassification model from a BertForPreTraining model).\n",
      "- This IS NOT expected if you are initializing BartForSequenceClassification from the checkpoint of a model that you expect to be exactly identical (initializing a BertForSequenceClassification model from a BertForSequenceClassification model).\n"
     ]
    }
   ],
   "source": [
    "tokenizer = AutoTokenizer.from_pretrained(\"facebook/bart-large-mnli\", use_fast=False)\n",
    "model = AutoModelForSequenceClassification.from_pretrained(\"facebook/bart-large-mnli\")"
   ]
  },
  {
   "cell_type": "code",
   "execution_count": 3,
   "id": "heated-republican",
   "metadata": {},
   "outputs": [
    {
     "name": "stdout",
     "output_type": "stream",
     "text": [
      "[0, 100, 14964, 103, 11637, 4, 2, 2, 1185, 32, 10, 2335, 4, 2]\n",
      "<s>I ate some pie.</s></s>You are a dog.</s>\n",
      "{'input_ids': [0, 100, 14964, 103, 11637, 4, 2, 2, 1185, 32, 10, 2335, 4, 2], 'attention_mask': [1, 1, 1, 1, 1, 1, 1, 1, 1, 1, 1, 1, 1, 1]}\n"
     ]
    }
   ],
   "source": [
    "# testing tokenizer\n",
    "s1 = 'I ate some pie.'\n",
    "s2 = 'You are a dog.'\n",
    "\n",
    "s_combined = tokenizer(s1, s2)['input_ids']\n",
    "print(s_combined)\n",
    "\n",
    "s_decoded = tokenizer.decode(s_combined)\n",
    "print(s_decoded)\n",
    "\n",
    "s_one = tokenizer(s1 + '</s></s>' + s2)\n",
    "print(s_one)"
   ]
  },
  {
   "cell_type": "code",
   "execution_count": 4,
   "id": "concerned-sequence",
   "metadata": {},
   "outputs": [
    {
     "name": "stderr",
     "output_type": "stream",
     "text": [
      "Reusing dataset snli (C:\\Users\\v-jocelinsu\\.cache\\huggingface\\datasets\\snli\\plain_text\\1.0.0\\bb1102591c6230bd78813e229d5dd4c7fbf4fc478cec28f298761eb69e5b537c)\n"
     ]
    },
    {
     "name": "stdout",
     "output_type": "stream",
     "text": [
      "DatasetDict({\n",
      "    test: Dataset({\n",
      "        features: ['premise', 'hypothesis', 'label'],\n",
      "        num_rows: 10000\n",
      "    })\n",
      "    train: Dataset({\n",
      "        features: ['premise', 'hypothesis', 'label'],\n",
      "        num_rows: 550152\n",
      "    })\n",
      "    validation: Dataset({\n",
      "        features: ['premise', 'hypothesis', 'label'],\n",
      "        num_rows: 10000\n",
      "    })\n",
      "})\n",
      "A boy is jumping on skateboard in the middle of a red bridge.\n",
      "The boy skates down the sidewalk.\n",
      "2\n",
      "tensor([[    0,   250,  2143,    16,  9755,    15, 12800,  4929,    11,     5,\n",
      "          1692,     9,    10,  1275,  4081,     4,     2,     2,   133,  2143,\n",
      "          2972,  1626,   159,     5, 15032,     4,     2]])\n",
      "Contradiction Probability: 99.95%, Neutral Probability: 0.03%, Entailment Probability: 0.02%\n",
      "The true label is: contradiction\n"
     ]
    }
   ],
   "source": [
    "# dataset\n",
    "dataset = load_dataset(\"snli\")\n",
    "print(dataset)\n",
    "\n",
    "example_ind = 6\n",
    "premise, hypothesis, label = dataset['train']['premise'][example_ind], dataset['train']['hypothesis'][example_ind], dataset['train']['label'][example_ind]\n",
    "print(premise)\n",
    "print(hypothesis)\n",
    "print(label)\n",
    "# p2, h2, l2 = (\n",
    "#     dataset[\"train\"][\"premise\"][example_ind + 1],\n",
    "#     dataset[\"train\"][\"hypothesis\"][example_ind + 1],\n",
    "#     dataset[\"train\"][\"label\"][example_ind + 1]\n",
    "# )\n",
    "# print(p2)\n",
    "# print(h2)\n",
    "# print(l2)\n",
    "\n",
    "\n",
    "input_ids = tokenizer.encode(premise, hypothesis, return_tensors='pt')\n",
    "print(input_ids)\n",
    "logits = model(input_ids)[0]\n",
    "\n",
    "probs = logits.softmax(dim=1)\n",
    "p1, p2, p3 = probs[:,0].item() * 100, probs[:,1].item()*100, probs[:,2].item()*100\n",
    "print('Contradiction Probability: {p1:0.2f}%, Neutral Probability: {p2:0.2f}%, Entailment Probability: {p3:0.2f}%'.format(p1 = p1, p2 = p2, p3=p3))\n",
    "ind_to_label = {0: 'entailment', 1: 'neural', 2: 'contradiction'}\n",
    "true_label = ind_to_label[label]\n",
    "print('The true label is: {true_label}'.format(true_label=true_label))"
   ]
  },
  {
   "cell_type": "code",
   "execution_count": 5,
   "id": "perfect-pearl",
   "metadata": {},
   "outputs": [],
   "source": [
    "# candidate_labels = ['travel', 'cooking', 'dancing', 'exploration']\n",
    "# label = candidate_labels[0]\n",
    "# premise = 'I want to go to Japan.'\n",
    "# hypothesis = f'This example is {label}.'"
   ]
  },
  {
   "cell_type": "code",
   "execution_count": 6,
   "id": "sunrise-modification",
   "metadata": {},
   "outputs": [],
   "source": [
    "import scipy as sp\n",
    "import torch\n",
    "\n",
    "def f(x): # TODO takes in the already - masked string which is the concatenation of 2 strings\n",
    "    tv = torch.tensor([tokenizer.encode(_x) for _x in x])\n",
    "    outputs = model(tv)[0].detach().cpu().numpy()\n",
    "    scores = (np.exp(outputs).T / np.exp(outputs).sum(-1)).T\n",
    "    val = sp.special.logit(scores)\n",
    "    return val"
   ]
  },
  {
   "cell_type": "code",
   "execution_count": 7,
   "id": "cardiovascular-deposit",
   "metadata": {},
   "outputs": [
    {
     "name": "stdout",
     "output_type": "stream",
     "text": [
      "EXPLAINER\n",
      "A boy is jumping on skateboard in the middle of a red bridge.</s></s>The boy skates down the sidewalk.\n"
     ]
    },
    {
     "name": "stderr",
     "output_type": "stream",
     "text": [
      "explainers.Partition is still in an alpha state, so use with caution...\n"
     ]
    }
   ],
   "source": [
    "print('EXPLAINER')\n",
    "explainer = shap.Explainer(f, tokenizer)\n",
    "\n",
    "encoded = tokenizer(premise, hypothesis)['input_ids'][1:-1]\n",
    "decoded = tokenizer.decode(encoded)\n",
    "print(decoded)"
   ]
  },
  {
   "cell_type": "code",
   "execution_count": 8,
   "id": "fewer-trance",
   "metadata": {},
   "outputs": [
    {
     "data": {
      "application/vnd.jupyter.widget-view+json": {
       "model_id": "",
       "version_major": 2,
       "version_minor": 0
      },
      "text/plain": [
       "HBox(children=(FloatProgress(value=0.0, max=48.0), HTML(value='')))"
      ]
     },
     "metadata": {},
     "output_type": "display_data"
    },
    {
     "name": "stderr",
     "output_type": "stream",
     "text": [
      "Partition explainer: 2it [00:27, 27.50s/it]                                                                            "
     ]
    },
    {
     "name": "stdout",
     "output_type": "stream",
     "text": [
      "SHAP VALUES\n",
      ".values =\n",
      "array([[[-1.97328143e-02,  7.36486093e-02, -2.42517870e-01],\n",
      "        [-1.97328143e-02,  7.36486093e-02, -2.42517870e-01],\n",
      "        [-1.97328143e-02,  7.36486093e-02, -2.42517870e-01],\n",
      "        [-1.97328143e-02,  7.36486093e-02, -2.42517870e-01],\n",
      "        [ 4.76632901e-02, -4.57190182e-02, -6.23079912e-02],\n",
      "        [ 4.76632901e-02, -4.57190182e-02, -6.23079912e-02],\n",
      "        [-7.82758575e-01,  5.22523442e-01,  2.56501220e-01],\n",
      "        [-7.82758575e-01,  5.22523442e-01,  2.56501220e-01],\n",
      "        [ 3.56486602e-01, -2.54778087e-01, -3.86819989e-01],\n",
      "        [ 3.56486602e-01, -2.54778087e-01, -3.86819989e-01],\n",
      "        [ 6.25450788e-01, -4.70197290e-01, -6.32266417e-01],\n",
      "        [ 6.25450788e-01, -4.70197290e-01, -6.32266417e-01],\n",
      "        [ 5.63202636e-01, -4.65998700e-01, -4.47784823e-01],\n",
      "        [ 5.63202636e-01, -4.65998700e-01, -4.47784823e-01],\n",
      "        [ 5.63202636e-01, -4.65998700e-01, -4.47784823e-01],\n",
      "        [ 5.63202636e-01, -4.65998700e-01, -4.47784823e-01],\n",
      "        [-3.87430191e-07, -1.35600567e-06,  7.84173608e-07],\n",
      "        [ 7.38920338e-01, -5.87296699e-01, -4.93850308e-01],\n",
      "        [ 7.38920338e-01, -5.87296699e-01, -4.93850308e-01],\n",
      "        [ 7.38920338e-01, -5.87296699e-01, -4.93850308e-01],\n",
      "        [ 7.38920338e-01, -5.87296699e-01, -4.93850308e-01],\n",
      "        [ 7.38920338e-01, -5.87296699e-01, -4.93850308e-01],\n",
      "        [ 7.38920338e-01, -5.87296699e-01, -4.93850308e-01],\n",
      "        [ 7.38920338e-01, -5.87296699e-01, -4.93850308e-01],\n",
      "        [ 7.38920338e-01, -5.87296699e-01, -4.93850308e-01],\n",
      "        [ 7.38920338e-01, -5.87296699e-01, -4.93850308e-01],\n",
      "        [-2.47359276e-06,  1.26659870e-06, -2.55368650e-06]]])\n",
      "\n",
      ".base_values =\n",
      "array([[-1.6151073 , -0.76175129,  0.06343345]])\n",
      "\n",
      ".data =\n",
      "array([[' ', 'A ', 'Ġboy ', 'Ġis ', 'Ġjumping ', 'Ġon ', 'Ġskate ',\n",
      "        'board ', 'Ġin ', 'Ġthe ', 'Ġmiddle ', 'Ġof ', 'Ġa ', 'Ġred ',\n",
      "        'Ġbridge ', '. ', '</s> ', '</s> ', 'The ', 'Ġboy ', 'Ġsk ',\n",
      "        'ates ', 'Ġdown ', 'Ġthe ', 'Ġsidewalk ', '. ', ' ']],\n",
      "      dtype='<U10')\n"
     ]
    },
    {
     "name": "stderr",
     "output_type": "stream",
     "text": [
      "\n"
     ]
    }
   ],
   "source": [
    "shap_values = explainer([decoded]) # wrap in list, otherwise zip would iterate across letters\n",
    "print('SHAP VALUES')\n",
    "print(shap_values)"
   ]
  },
  {
   "cell_type": "code",
   "execution_count": 18,
   "id": "realistic-eligibility",
   "metadata": {},
   "outputs": [
    {
     "name": "stdout",
     "output_type": "stream",
     "text": [
      "25\n"
     ]
    }
   ],
   "source": [
    "print(len(encoded))\n"
   ]
  },
  {
   "cell_type": "markdown",
   "id": "italian-martin",
   "metadata": {},
   "source": [
    "## Sentence Partition Tree - Dendrogram"
   ]
  },
  {
   "cell_type": "code",
   "execution_count": 31,
   "id": "homeless-foundation",
   "metadata": {},
   "outputs": [
    {
     "name": "stdout",
     "output_type": "stream",
     "text": [
      "[[0.0e+00 1.0e+00 0.0e+00 2.0e+00]\n",
      " [2.0e+00 3.0e+00 1.3e+01 2.0e+00]\n",
      " [4.0e+00 5.0e+00 1.3e+01 2.0e+00]\n",
      " [6.0e+00 7.0e+00 0.0e+00 2.0e+00]\n",
      " [8.0e+00 9.0e+00 1.3e+01 2.0e+00]\n",
      " [1.0e+01 1.1e+01 1.3e+01 2.0e+00]\n",
      " [1.2e+01 1.3e+01 1.3e+01 2.0e+00]\n",
      " [1.7e+01 1.8e+01 0.0e+00 2.0e+00]\n",
      " [1.9e+01 2.0e+01 1.3e+01 2.0e+00]\n",
      " [2.1e+01 2.2e+01 1.3e+01 2.0e+00]\n",
      " [2.3e+01 2.4e+01 1.3e+01 2.0e+00]\n",
      " [3.3e+01 1.4e+01 1.4e+01 3.0e+00]\n",
      " [2.7e+01 2.8e+01 1.5e+01 4.0e+00]\n",
      " [2.9e+01 3.0e+01 1.5e+01 4.0e+00]\n",
      " [3.1e+01 3.2e+01 1.5e+01 4.0e+00]\n",
      " [3.4e+01 3.5e+01 1.5e+01 4.0e+00]\n",
      " [3.6e+01 3.7e+01 1.5e+01 4.0e+00]\n",
      " [3.8e+01 1.5e+01 0.0e+00 4.0e+00]\n",
      " [4.3e+01 2.5e+01 0.0e+00 5.0e+00]\n",
      " [3.9e+01 4.0e+01 1.9e+01 8.0e+00]\n",
      " [4.1e+01 4.4e+01 1.9e+01 8.0e+00]\n",
      " [4.2e+01 4.5e+01 0.0e+00 9.0e+00]\n",
      " [4.6e+01 4.7e+01 2.7e+01 1.6e+01]\n",
      " [4.8e+01 2.6e+01 4.1e+01 1.0e+01]\n",
      " [4.9e+01 1.6e+01 4.8e+01 1.7e+01]\n",
      " [5.1e+01 5.0e+01 1.0e+10 2.7e+01]]\n"
     ]
    }
   ],
   "source": [
    "contradiction_ind = 0\n",
    "inp = shap_values[0][:,contradiction_ind].abs\n",
    "print(inp.clustering)"
   ]
  },
  {
   "cell_type": "code",
   "execution_count": 10,
   "id": "radical-harris",
   "metadata": {},
   "outputs": [],
   "source": [
    "from scipy.cluster.hierarchy import dendrogram, linkage\n",
    "from matplotlib import pyplot as plt"
   ]
  },
  {
   "cell_type": "code",
   "execution_count": 32,
   "id": "dying-surgeon",
   "metadata": {},
   "outputs": [],
   "source": [
    "Z = np.array(inp.clustering)#.astype(int)"
   ]
  },
  {
   "cell_type": "code",
   "execution_count": 33,
   "id": "continuous-aberdeen",
   "metadata": {},
   "outputs": [
    {
     "data": {
      "text/plain": [
       "array([[ 0.,  1.,  0.,  2.],\n",
       "       [ 2.,  3., 13.,  2.],\n",
       "       [ 4.,  5., 13.,  2.],\n",
       "       [ 6.,  7.,  0.,  2.],\n",
       "       [ 8.,  9., 13.,  2.],\n",
       "       [10., 11., 13.,  2.],\n",
       "       [12., 13., 13.,  2.],\n",
       "       [17., 18.,  0.,  2.],\n",
       "       [19., 20., 13.,  2.],\n",
       "       [21., 22., 13.,  2.],\n",
       "       [23., 24., 13.,  2.],\n",
       "       [33., 14., 14.,  3.],\n",
       "       [27., 28., 15.,  4.],\n",
       "       [29., 30., 15.,  4.],\n",
       "       [31., 32., 15.,  4.],\n",
       "       [34., 35., 15.,  4.],\n",
       "       [36., 37., 15.,  4.],\n",
       "       [38., 15.,  0.,  4.],\n",
       "       [43., 25.,  0.,  5.],\n",
       "       [39., 40., 19.,  8.],\n",
       "       [41., 44., 19.,  8.],\n",
       "       [42., 45.,  0.,  9.],\n",
       "       [46., 47., 27., 16.],\n",
       "       [48., 26., 41., 10.],\n",
       "       [49., 16., 48., 17.],\n",
       "       [51., 50., 55., 27.]])"
      ]
     },
     "execution_count": 33,
     "metadata": {},
     "output_type": "execute_result"
    }
   ],
   "source": [
    "Z[-1][2] = 55\n",
    "Z"
   ]
  },
  {
   "cell_type": "code",
   "execution_count": 30,
   "id": "empty-divide",
   "metadata": {},
   "outputs": [
    {
     "data": {
      "image/png": "[encoded data removed]",
      "text/plain": [
       "<Figure size 1944x720 with 1 Axes>"
      ]
     },
     "metadata": {
      "needs_background": "light"
     },
     "output_type": "display_data"
    }
   ],
   "source": [
    "fig = plt.figure(figsize=(len(Z) + 1, 10))\n",
    "dn = dendrogram(Z)\n",
    "plt.show()"
   ]
  },
  {
   "cell_type": "code",
   "execution_count": 34,
   "id": "applicable-christianity",
   "metadata": {},
   "outputs": [
    {
     "name": "stdout",
     "output_type": "stream",
     "text": [
      "(26, 4)\n"
     ]
    }
   ],
   "source": [
    "# what Max got\n",
    "Z = np.array([[ 0.,  1., 12.,  2.],\n",
    "       [ 2.,  3., 12.,  2.],\n",
    "       [ 4.,  5., 12.,  2.],\n",
    "       [ 6.,  7., 12.,  2.],\n",
    "       [ 8.,  9., 12.,  2.],\n",
    "       [10., 11., 12.,  2.],\n",
    "       [12., 13., 12.,  2.],\n",
    "       [16., 17., 12.,  2.],\n",
    "       [18., 19., 12.,  2.],\n",
    "       [20., 21., 12.,  2.],\n",
    "       [22., 23., 12.,  2.],\n",
    "       [33., 14., 13.,  3.],\n",
    "       [37., 24., 13.,  3.],\n",
    "       [27., 28., 14.,  4.],\n",
    "       [29., 30., 14.,  4.],\n",
    "       [31., 32., 14.,  4.],\n",
    "       [34., 35., 14.,  4.],\n",
    "       [38., 15., 15.,  4.],\n",
    "       [36., 39., 15.,  5.],\n",
    "       [45., 25., 17.,  6.],\n",
    "       [40., 41., 18.,  8.],\n",
    "       [42., 44., 18.,  8.],\n",
    "       [43., 46., 20., 10.],\n",
    "       [47., 48., 26., 16.],\n",
    "       [49., 26., 41., 11.],\n",
    "       [50., 51., 57., 27.]])\n",
    "print(Z.shape)"
   ]
  },
  {
   "cell_type": "code",
   "execution_count": 37,
   "id": "false-motion",
   "metadata": {},
   "outputs": [
    {
     "data": {
      "image/png": "[encoded data removed]",
      "text/plain": [
       "<Figure size 1944x720 with 1 Axes>"
      ]
     },
     "metadata": {
      "needs_background": "light"
     },
     "output_type": "display_data"
    }
   ],
   "source": [
    "fig = plt.figure(figsize=(len(Z) + 1, 10))\n",
    "dn = dendrogram(Z)\n",
    "plt.show()"
   ]
  },
  {
   "cell_type": "code",
   "execution_count": 35,
   "id": "cloudy-native",
   "metadata": {},
   "outputs": [],
   "source": [
    "# what I got\n",
    "Z2 = [[ 0.,  1.,  2.,  2.],\n",
    "       [ 2.,  3.,  2.,  2.],\n",
    "       [ 4.,  5.,  2.,  2.],\n",
    "       [ 6.,  7.,  2.,  2.],\n",
    "       [ 8.,  9.,  2.,  2.],\n",
    "       [10., 11.,  2.,  2.],\n",
    "       [12., 13.,  2.,  2.],\n",
    "       [17., 18.,  2.,  2.],\n",
    "       [19., 20.,  2.,  2.],\n",
    "       [21., 22.,  2.,  2.],\n",
    "       [23., 24.,  2.,  2.],\n",
    "       [33., 14.,  3.,  3.],\n",
    "       [27., 28.,  4.,  4.],\n",
    "       [29., 30.,  4.,  4.],\n",
    "       [31., 32.,  4.,  4.],\n",
    "       [34., 35.,  4.,  4.],\n",
    "       [36., 37.,  4.,  4.],\n",
    "       [38., 15.,  5.,  4.],\n",
    "       [43., 25.,  6.,  5.],\n",
    "       [39., 40.,  8.,  8.],\n",
    "       [41., 44.,  8.,  8.],\n",
    "       [42., 45.,  9.,  9.],\n",
    "       [46., 47., 16., 16.],\n",
    "       [48., 26., 30., 10.],\n",
    "       [49., 16., 37., 17.],\n",
    "       [ 51.,  50.,  50.,  27.]]"
   ]
  },
  {
   "cell_type": "code",
   "execution_count": 36,
   "id": "lasting-presentation",
   "metadata": {},
   "outputs": [
    {
     "data": {
      "image/png": "[encoded data removed]",
      "text/plain": [
       "<Figure size 1944x720 with 1 Axes>"
      ]
     },
     "metadata": {
      "needs_background": "light"
     },
     "output_type": "display_data"
    }
   ],
   "source": [
    "fig = plt.figure(figsize=(len(Z2) + 1, 10))\n",
    "dn = dendrogram(Z2)\n",
    "plt.show()"
   ]
  },
  {
   "cell_type": "code",
   "execution_count": 8,
   "id": "mature-submission",
   "metadata": {},
   "outputs": [],
   "source": [
    "sort_order = 'positive'\n",
    "perturbation = 'keep'"
   ]
  },
  {
   "cell_type": "code",
   "execution_count": 12,
   "id": "sublime-reason",
   "metadata": {},
   "outputs": [],
   "source": [
    "from shap import benchmark"
   ]
  },
  {
   "cell_type": "code",
   "execution_count": 15,
   "id": "breeding-roulette",
   "metadata": {},
   "outputs": [
    {
     "data": {
      "image/png": "[encoded data removed]",
      "text/plain": [
       "<Figure size 432x288 with 1 Axes>"
      ]
     },
     "metadata": {
      "needs_background": "light"
     },
     "output_type": "display_data"
    }
   ],
   "source": [
    "sper = benchmark.perturbation.SequentialPerturbation(explainer.model, explainer.masker, sort_order, perturbation)\n",
    "xs, ys, auc = sper.model_score(shap_values, [decoded])\n",
    "sper.plot(xs, ys, auc)"
   ]
  },
  {
   "cell_type": "code",
   "execution_count": null,
   "id": "liked-lounge",
   "metadata": {},
   "outputs": [],
   "source": []
  },
  {
   "cell_type": "code",
   "execution_count": null,
   "id": "organized-garage",
   "metadata": {},
   "outputs": [],
   "source": []
  }
 ],
 "metadata": {
  "kernelspec": {
   "display_name": "Python 3",
   "language": "python",
   "name": "python3"
  },
  "language_info": {
   "codemirror_mode": {
    "name": "ipython",
    "version": 3
   },
   "file_extension": ".py",
   "mimetype": "text/x-python",
   "name": "python",
   "nbconvert_exporter": "python",
   "pygments_lexer": "ipython3",
   "version": "3.7.9"
  }
 },
 "nbformat": 4,
 "nbformat_minor": 5
}

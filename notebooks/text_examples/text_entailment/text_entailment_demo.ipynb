{
 "cells": [
  {
   "cell_type": "markdown",
   "id": "desirable-above",
   "metadata": {},
   "source": [
    "# Multi-Input Text Explanation: Textual Entailment with Facebook BART\n"
   ]
  },
  {
   "cell_type": "markdown",
   "id": "packed-capitol",
   "metadata": {},
   "source": [
    "This notebook demonstrates how to get explanations for the output of the Facebook BART model trained on the mnli dataset and used for textual entailment. \n",
    "\n",
    "BART: https://huggingface.co/facebook/bart-large-mnli\n"
   ]
  },
  {
   "cell_type": "code",
   "execution_count": 1,
   "id": "prescription-terrorist",
   "metadata": {},
   "outputs": [],
   "source": [
    "import numpy as np\n",
    "from transformers import AutoModelForSequenceClassification, AutoTokenizer\n",
    "import shap\n",
    "from datasets import load_dataset"
   ]
  },
  {
   "cell_type": "markdown",
   "id": "written-network",
   "metadata": {},
   "source": [
    "### Load model and tokenizer"
   ]
  },
  {
   "cell_type": "code",
   "execution_count": 2,
   "id": "meaning-terminology",
   "metadata": {},
   "outputs": [
    {
     "name": "stderr",
     "output_type": "stream",
     "text": [
      "Some weights of the model checkpoint at facebook/bart-large-mnli were not used when initializing BartForSequenceClassification: ['model.encoder.version', 'model.decoder.version']\n",
      "- This IS expected if you are initializing BartForSequenceClassification from the checkpoint of a model trained on another task or with another architecture (e.g. initializing a BertForSequenceClassification model from a BertForPreTraining model).\n",
      "- This IS NOT expected if you are initializing BartForSequenceClassification from the checkpoint of a model that you expect to be exactly identical (initializing a BertForSequenceClassification model from a BertForSequenceClassification model).\n"
     ]
    }
   ],
   "source": [
    "tokenizer = AutoTokenizer.from_pretrained(\"facebook/bart-large-mnli\", use_fast=False)\n",
    "model = AutoModelForSequenceClassification.from_pretrained(\"facebook/bart-large-mnli\")"
   ]
  },
  {
   "cell_type": "code",
   "execution_count": 3,
   "id": "heated-republican",
   "metadata": {},
   "outputs": [],
   "source": [
    "# # testing tokenizer\n",
    "# s1 = 'I have a dog.'\n",
    "# s2 = 'I have a cat.'\n",
    "\n",
    "# s_combined = tokenizer(s1, s2)['input_ids']\n",
    "# print(s_combined)\n",
    "\n",
    "# s_decoded = tokenizer.decode(s_combined)\n",
    "# print(s_decoded)\n",
    "\n",
    "# s_one = tokenizer(s1 + '</s></s>' + s2)['input_ids']\n",
    "# print(s_one)"
   ]
  },
  {
   "cell_type": "code",
   "execution_count": 4,
   "id": "general-sessions",
   "metadata": {},
   "outputs": [
    {
     "name": "stderr",
     "output_type": "stream",
     "text": [
      "Reusing dataset snli (C:\\Users\\v-jocelinsu\\.cache\\huggingface\\datasets\\snli\\plain_text\\1.0.0\\bb1102591c6230bd78813e229d5dd4c7fbf4fc478cec28f298761eb69e5b537c)\n"
     ]
    },
    {
     "name": "stdout",
     "output_type": "stream",
     "text": [
      "A boy is jumping on skateboard in the middle of a red bridge.\n",
      "The boy skates down the sidewalk.\n",
      "The true label is: contradiction\n"
     ]
    }
   ],
   "source": [
    "# load dataset\n",
    "dataset = load_dataset(\"snli\")\n",
    "snli_label_map = {0: 'entailment', 1: 'neutral', 2: 'contradiction'}\n",
    "example_ind = 6\n",
    "premise, hypothesis, label = ( dataset['train']['premise'][example_ind], \n",
    "                              dataset['train']['hypothesis'][example_ind], \n",
    "                              dataset['train']['label'][example_ind] )\n",
    "print(premise)\n",
    "print(hypothesis)\n",
    "true_label = snli_label_map[label]\n",
    "print('The true label is: {true_label}'.format(true_label=true_label))"
   ]
  },
  {
   "cell_type": "code",
   "execution_count": 5,
   "id": "concerned-sequence",
   "metadata": {
    "scrolled": true
   },
   "outputs": [
    {
     "name": "stdout",
     "output_type": "stream",
     "text": [
      "contradiction probability: 99.95%\n",
      "neutral probability: 0.03%\n",
      "entailment probability: 0.02%\n"
     ]
    }
   ],
   "source": [
    "# test model\n",
    "input_ids = tokenizer.encode(premise, hypothesis, return_tensors='pt')\n",
    "logits = model(input_ids)[0]\n",
    "probs = logits.softmax(dim=1)\n",
    "\n",
    "bart_label_map = {0: 'contradiction', 1: 'neutral', 2: 'entailment'}\n",
    "for i, lab in bart_label_map.items():\n",
    "    print('{lab} probability: {prob:0.2f}%'.format(lab=lab, prob=probs[0][i] * 100))\n"
   ]
  },
  {
   "cell_type": "markdown",
   "id": "ready-majority",
   "metadata": {},
   "source": [
    "## Run shap values"
   ]
  },
  {
   "cell_type": "code",
   "execution_count": 6,
   "id": "sunrise-modification",
   "metadata": {},
   "outputs": [],
   "source": [
    "import scipy as sp\n",
    "import torch\n",
    "\n",
    "# wrapper function for model\n",
    "# takes in masked string which is in the form: premise <separator token(s)> hypothesis \n",
    "def f(x): \n",
    "    tv = torch.tensor([tokenizer.encode(_x) for _x in x])\n",
    "    outputs = model(tv)[0].detach().cpu().numpy()\n",
    "    scores = (np.exp(outputs).T / np.exp(outputs).sum(-1)).T\n",
    "    val = sp.special.logit(scores)\n",
    "    return val"
   ]
  },
  {
   "cell_type": "code",
   "execution_count": 7,
   "id": "cardiovascular-deposit",
   "metadata": {},
   "outputs": [
    {
     "name": "stdout",
     "output_type": "stream",
     "text": [
      "A boy is jumping on skateboard in the middle of a red bridge.</s></s>The boy skates down the sidewalk.\n"
     ]
    },
    {
     "name": "stderr",
     "output_type": "stream",
     "text": [
      "explainers.Partition is still in an alpha state, so use with caution...\n"
     ]
    }
   ],
   "source": [
    "# Construct explainer\n",
    "bart_labels = ['contradiction', 'entailment', 'neutral']    \n",
    "explainer = shap.Explainer(f, tokenizer, output_names=bart_labels)\n",
    "\n",
    "# encode then decode premise, hypothesis to get concatenated sentences\n",
    "encoded = tokenizer(premise, hypothesis)['input_ids'][1:-1] # ignore the start and end tokens, since tokenizer will naturally add them\n",
    "decoded = tokenizer.decode(encoded)\n",
    "print(decoded)"
   ]
  },
  {
   "cell_type": "code",
   "execution_count": 8,
   "id": "retired-scheduling",
   "metadata": {},
   "outputs": [
    {
     "data": {
      "application/vnd.jupyter.widget-view+json": {
       "model_id": "",
       "version_major": 2,
       "version_minor": 0
      },
      "text/plain": [
       "HBox(children=(FloatProgress(value=0.0, max=48.0), HTML(value='')))"
      ]
     },
     "metadata": {},
     "output_type": "display_data"
    },
    {
     "name": "stdout",
     "output_type": "stream",
     "text": [
      "shap values\n",
      ".values =\n",
      "array([[[-1.97328143e-02,  7.36486093e-02, -2.42517870e-01],\n",
      "        [-1.97328143e-02,  7.36486093e-02, -2.42517870e-01],\n",
      "        [-1.97328143e-02,  7.36486093e-02, -2.42517870e-01],\n",
      "        [-1.97328143e-02,  7.36486093e-02, -2.42517870e-01],\n",
      "        [ 4.76632901e-02, -4.57190182e-02, -6.23079912e-02],\n",
      "        [ 4.76632901e-02, -4.57190182e-02, -6.23079912e-02],\n",
      "        [-7.82758575e-01,  5.22523442e-01,  2.56501220e-01],\n",
      "        [-7.82758575e-01,  5.22523442e-01,  2.56501220e-01],\n",
      "        [ 3.56486602e-01, -2.54778087e-01, -3.86819989e-01],\n",
      "        [ 3.56486602e-01, -2.54778087e-01, -3.86819989e-01],\n",
      "        [ 6.25450788e-01, -4.70197290e-01, -6.32266417e-01],\n",
      "        [ 6.25450788e-01, -4.70197290e-01, -6.32266417e-01],\n",
      "        [ 5.63202636e-01, -4.65998700e-01, -4.47784823e-01],\n",
      "        [ 5.63202636e-01, -4.65998700e-01, -4.47784823e-01],\n",
      "        [ 5.63202636e-01, -4.65998700e-01, -4.47784823e-01],\n",
      "        [ 5.63202636e-01, -4.65998700e-01, -4.47784823e-01],\n",
      "        [-3.87430191e-07, -1.35600567e-06,  7.84173608e-07],\n",
      "        [ 7.38920338e-01, -5.87296699e-01, -4.93850308e-01],\n",
      "        [ 7.38920338e-01, -5.87296699e-01, -4.93850308e-01],\n",
      "        [ 7.38920338e-01, -5.87296699e-01, -4.93850308e-01],\n",
      "        [ 7.38920338e-01, -5.87296699e-01, -4.93850308e-01],\n",
      "        [ 7.38920338e-01, -5.87296699e-01, -4.93850308e-01],\n",
      "        [ 7.38920338e-01, -5.87296699e-01, -4.93850308e-01],\n",
      "        [ 7.38920338e-01, -5.87296699e-01, -4.93850308e-01],\n",
      "        [ 7.38920338e-01, -5.87296699e-01, -4.93850308e-01],\n",
      "        [ 7.38920338e-01, -5.87296699e-01, -4.93850308e-01],\n",
      "        [-2.47359276e-06,  1.26659870e-06, -2.55368650e-06]]])\n",
      "\n",
      ".base_values =\n",
      "array([[-1.6151073 , -0.76175129,  0.06343345]])\n",
      "\n",
      ".data =\n",
      "array([[' ', 'A ', 'Ġboy ', 'Ġis ', 'Ġjumping ', 'Ġon ', 'Ġskate ',\n",
      "        'board ', 'Ġin ', 'Ġthe ', 'Ġmiddle ', 'Ġof ', 'Ġa ', 'Ġred ',\n",
      "        'Ġbridge ', '. ', '</s> ', '</s> ', 'The ', 'Ġboy ', 'Ġsk ',\n",
      "        'ates ', 'Ġdown ', 'Ġthe ', 'Ġsidewalk ', '. ', ' ']],\n",
      "      dtype='<U10')\n"
     ]
    }
   ],
   "source": [
    "shap_values = explainer([decoded]) # wrap input in list, otherwise zip would iterate across letters\n",
    "print('shap values')\n",
    "print(shap_values)"
   ]
  },
  {
   "cell_type": "markdown",
   "id": "declared-contractor",
   "metadata": {},
   "source": [
    "## Explanation Visualization"
   ]
  },
  {
   "cell_type": "code",
   "execution_count": 9,
   "id": "thrown-owner",
   "metadata": {},
   "outputs": [
    {
     "data": {
      "text/html": [
       "<br/><b>0th instance:</b><br/>"
      ],
      "text/plain": [
       "<IPython.core.display.HTML object>"
      ]
     },
     "metadata": {},
     "output_type": "display_data"
    },
    {
     "data": {
      "text/html": [
       "\n",
       "    <script>\n",
       "        function selectVizType_tysnximlosecfxplxlbj(selectObject) {\n",
       "\n",
       "          /* Hide all viz */\n",
       "\n",
       "            var elements = document.getElementsByClassName(\"tysnximlosecfxplxlbj_viz_container\")\n",
       "          for (var i = 0; i < elements.length; i++){\n",
       "              elements[i].style.display = 'none';\n",
       "          }\n",
       "\n",
       "          var value = selectObject.value;\n",
       "          if ( value === \"saliency-plot\" ){\n",
       "              document.getElementById('tysnximlosecfxplxlbj_saliency_plot_container').style.display  = \"block\";\n",
       "          }\n",
       "          else if ( value === \"heatmap\" ) {\n",
       "              document.getElementById('tysnximlosecfxplxlbj_heatmap_container').style.display  = \"block\";\n",
       "          }\n",
       "        }\n",
       "    </script>\n",
       "    \n",
       "    <html>\n",
       "    <div id=\"tysnximlosecfxplxlbj_viz_container\">\n",
       "      <div id=\"tysnximlosecfxplxlbj_viz_header\" style=\"padding:15px;border-style:solid;margin:5px;font-family:sans-serif;font-weight:bold;\">\n",
       "        Visualization Type:\n",
       "        <select name=\"viz_type\" id=\"tysnximlosecfxplxlbj_viz_type\" onchange=\"selectVizType_tysnximlosecfxplxlbj(this)\">\n",
       "          <option value=\"heatmap\" selected=\"selected\">Input/Output - Heatmap</option>\n",
       "          <option value=\"saliency-plot\">Saliency Plot</option>\n",
       "        </select>\n",
       "      </div>\n",
       "      <div id=\"tysnximlosecfxplxlbj_content\" style=\"padding:15px;border-style:solid;margin:5px;\">\n",
       "          <div id = \"tysnximlosecfxplxlbj_saliency_plot_container\" class=\"tysnximlosecfxplxlbj_viz_container\" style=\"display:none\"> \n",
       "              \n",
       "        <div id=\"fwfaqhejakhgdckufzdp_saliency_plot\" class=\"fwfaqhejakhgdckufzdp_viz_content\">\n",
       "            <div style=\"margin:5px;font-family:sans-serif;font-weight:bold;\">\n",
       "                <span style=\"font-size: 20px;\"> Saliency Plot </span>\n",
       "                <br>\n",
       "                x-axis: Output Text\n",
       "                <br>\n",
       "                y-axis: Input Text\n",
       "            </div>\n",
       "            <table border = \"1\" cellpadding = \"5\" cellspacing = \"5\" style=\"overflow-x:scroll;display:block;\"><tr><th></th><th> A boy is </th><th>jumping on </th><th>skate board </th><th>in the </th><th>middle of </th><th>a red bridge . </th><th>&lt;/s&gt; </th><th>&lt;/s&gt; The boy sk ates down the sidewalk . </th><th> </th></tr><tr><th>contradiction</th><th style=\"background:rgba(30.0, 136.0, 229.0, 0.006773618538324436)\">-0.079</th><th style=\"background:rgba(255.0, 13.0, 87.0, 0.00677361853832443)\">0.095</th><th style=\"background:rgba(30.0, 136.0, 229.0, 0.23537334125569417)\">-1.566</th><th style=\"background:rgba(255.0, 13.0, 87.0, 0.10136660724896006)\">0.713</th><th style=\"background:rgba(255.0, 13.0, 87.0, 0.1880768469003763)\">1.251</th><th style=\"background:rgba(255.0, 13.0, 87.0, 0.33784907902554967)\">2.253</th><th style=\"background:rgba(54.70588235294111, 122.49411764705886, 213.40784313725496, 0.0)\">-0.0</th><th style=\"background:rgba(255.0, 13.0, 87.0, 1.0)\">6.65</th><th style=\"background:rgba(54.70588235294111, 122.49411764705886, 213.40784313725496, 0.0)\">-0.0</th></tr><tr><th>entailment</th><th style=\"background:rgba(255.0, 13.0, 87.0, 0.03830461477520289)\">0.295</th><th style=\"background:rgba(30.0, 136.0, 229.0, 0.006773618538324436)\">-0.091</th><th style=\"background:rgba(255.0, 13.0, 87.0, 0.15654585066349747)\">1.045</th><th style=\"background:rgba(30.0, 136.0, 229.0, 0.06983561101208147)\">-0.51</th><th style=\"background:rgba(30.0, 136.0, 229.0, 0.14078035254505836)\">-0.94</th><th style=\"background:rgba(30.0, 136.0, 229.0, 0.27478708655179246)\">-1.864</th><th style=\"background:rgba(54.70588235294111, 122.49411764705886, 213.40784313725496, 0.0)\">-0.0</th><th style=\"background:rgba(30.0, 136.0, 229.0, 0.7950485244602892)\">-5.286</th><th style=\"background:rgba(230.2941176470614, 26.505882352939775, 102.59215686274348, 0.0)\">0.0</th></tr><tr><th>neutral</th><th style=\"background:rgba(30.0, 136.0, 229.0, 0.14078035254505836)\">-0.97</th><th style=\"background:rgba(30.0, 136.0, 229.0, 0.014656367597544028)\">-0.125</th><th style=\"background:rgba(255.0, 13.0, 87.0, 0.06983561101208159)\">0.513</th><th style=\"background:rgba(30.0, 136.0, 229.0, 0.10924935630817977)\">-0.774</th><th style=\"background:rgba(30.0, 136.0, 229.0, 0.1880768469003762)\">-1.265</th><th style=\"background:rgba(30.0, 136.0, 229.0, 0.2669043374925727)\">-1.791</th><th style=\"background:rgba(230.2941176470614, 26.505882352939775, 102.59215686274348, 0.0)\">0.0</th><th style=\"background:rgba(30.0, 136.0, 229.0, 0.6689245395127748)\">-4.445</th><th style=\"background:rgba(54.70588235294111, 122.49411764705886, 213.40784313725496, 0.0)\">-0.0</th></tr></table>\n",
       "        </div>\n",
       "    \n",
       "          </div>\n",
       "          \n",
       "          <div id = \"tysnximlosecfxplxlbj_heatmap_container\" class=\"tysnximlosecfxplxlbj_viz_container\">\n",
       "              \n",
       "        <div id=\"ahrgzvmbwdigqrgxktqi_heatmap\" class=\"ahrgzvmbwdigqrgxktqi_viz_content\">\n",
       "          <div id=\"ahrgzvmbwdigqrgxktqi_heatmap_header\" style=\"padding:15px;margin:5px;font-family:sans-serif;font-weight:bold;\">\n",
       "            <div style=\"display:inline\">\n",
       "              <span style=\"font-size: 20px;\"> Input/Output - Heatmap </span>\n",
       "            </div>\n",
       "            <div style=\"display:inline;float:right\">\n",
       "              Layout :\n",
       "              <select name=\"alignment\" id=\"ahrgzvmbwdigqrgxktqi_alignment\" onchange=\"selectAlignment_ahrgzvmbwdigqrgxktqi(this)\">\n",
       "                <option value=\"left-right\" selected=\"selected\">Left/Right</option>\n",
       "                <option value=\"top-bottom\">Top/Bottom</option>\n",
       "              </select>\n",
       "            </div>\n",
       "          </div>\n",
       "          <div id=\"ahrgzvmbwdigqrgxktqi_heatmap_content\" style=\"display:flex;\">\n",
       "            <div id=\"ahrgzvmbwdigqrgxktqi_input_container\" style=\"padding:15px;border-style:solid;margin:5px;flex:1;\">\n",
       "              <div id=\"ahrgzvmbwdigqrgxktqi_input_header\" style=\"margin:5px;font-weight:bold;font-family:sans-serif;margin-bottom:10px\">\n",
       "                Input Text\n",
       "              </div>\n",
       "              <div id=\"ahrgzvmbwdigqrgxktqi_input_content\" style=\"margin:5px;font-family:sans-serif;\">\n",
       "                  <div id=\"ahrgzvmbwdigqrgxktqi_input_node_52_container\" style=\"display:inline;text-align:center\"><div id=\"ahrgzvmbwdigqrgxktqi_input_node_52_label\" style=\"display:none; padding-top: 0px; font-size:12px;\"></div><div id=\"ahrgzvmbwdigqrgxktqi_input_node_52_content\" style=\"display:inline;\"><div id=\"ahrgzvmbwdigqrgxktqi_input_node_51_container\" style=\"display:inline;text-align:center\"><div id=\"ahrgzvmbwdigqrgxktqi_input_node_51_label\" style=\"display:none; padding-top: 0px; font-size:12px;\"></div><div id=\"ahrgzvmbwdigqrgxktqi_input_node_51_content\" style=\"display:inline;\"><div id=\"ahrgzvmbwdigqrgxktqi_input_node_49_container\" style=\"display:inline;text-align:center\"><div id=\"ahrgzvmbwdigqrgxktqi_input_node_49_label\" style=\"display:none; padding-top: 0px; font-size:12px;\"></div><div id=\"ahrgzvmbwdigqrgxktqi_input_node_49_content\" style=\"display:inline;\"><div id=\"ahrgzvmbwdigqrgxktqi_input_node_46_container\" style=\"display:inline;text-align:center\"><div id=\"ahrgzvmbwdigqrgxktqi_input_node_46_label\" style=\"display:none; padding-top: 0px; font-size:12px;\"></div><div id=\"ahrgzvmbwdigqrgxktqi_input_node_46_content\" style=\"display:inline;\"><div id=\"ahrgzvmbwdigqrgxktqi_input_node_39_container\" style=\"display:inline;text-align:center\"><div id=\"ahrgzvmbwdigqrgxktqi_input_node_39_label\" style=\"display:none; padding-top: 0px; font-size:12px;\"></div><div id=\"ahrgzvmbwdigqrgxktqi_input_node_39_content\" style=\"display:inline;\"><div id=\"ahrgzvmbwdigqrgxktqi_input_node_27_container\" style=\"display:inline;text-align:center\"><div id=\"ahrgzvmbwdigqrgxktqi_input_node_27_label\" style=\"display:none; padding-top: 0px; font-size:12px;\"></div><div id=\"ahrgzvmbwdigqrgxktqi_input_node_27_content\" style=\"display:inline;\"><div id=\"ahrgzvmbwdigqrgxktqi_input_node_0_container\" style=\"display:inline;text-align:center\"><div id=\"ahrgzvmbwdigqrgxktqi_input_node_0_label\" style=\"display:none; padding-top: 0px; font-size:12px;\"></div><div id=\"ahrgzvmbwdigqrgxktqi_input_node_0_content\"style='display: inline; background:transparent; border-radius: 3px; padding: 0px;cursor: default;cursor: pointer;'onmouseover=\"onMouseHoverFlat_ahrgzvmbwdigqrgxktqi(this.id)\" onmouseout=\"onMouseOutFlat_ahrgzvmbwdigqrgxktqi(this.id)\" onclick=\"onMouseClickFlat_ahrgzvmbwdigqrgxktqi(this.id)\" > </div></div><div id=\"ahrgzvmbwdigqrgxktqi_input_node_1_container\" style=\"display:inline;text-align:center\"><div id=\"ahrgzvmbwdigqrgxktqi_input_node_1_label\" style=\"display:none; padding-top: 0px; font-size:12px;\"></div><div id=\"ahrgzvmbwdigqrgxktqi_input_node_1_content\"style='display: inline; background:transparent; border-radius: 3px; padding: 0px;cursor: default;cursor: pointer;'onmouseover=\"onMouseHoverFlat_ahrgzvmbwdigqrgxktqi(this.id)\" onmouseout=\"onMouseOutFlat_ahrgzvmbwdigqrgxktqi(this.id)\" onclick=\"onMouseClickFlat_ahrgzvmbwdigqrgxktqi(this.id)\" >A </div></div></div></div><div id=\"ahrgzvmbwdigqrgxktqi_input_node_28_container\" style=\"display:inline;text-align:center\"><div id=\"ahrgzvmbwdigqrgxktqi_input_node_28_label\" style=\"display:none; padding-top: 0px; font-size:12px;\"></div><div id=\"ahrgzvmbwdigqrgxktqi_input_node_28_content\" style=\"display:inline;\"><div id=\"ahrgzvmbwdigqrgxktqi_input_node_2_container\" style=\"display:inline;text-align:center\"><div id=\"ahrgzvmbwdigqrgxktqi_input_node_2_label\" style=\"display:none; padding-top: 0px; font-size:12px;\"></div><div id=\"ahrgzvmbwdigqrgxktqi_input_node_2_content\"style='display: inline; background:transparent; border-radius: 3px; padding: 0px;cursor: default;cursor: pointer;'onmouseover=\"onMouseHoverFlat_ahrgzvmbwdigqrgxktqi(this.id)\" onmouseout=\"onMouseOutFlat_ahrgzvmbwdigqrgxktqi(this.id)\" onclick=\"onMouseClickFlat_ahrgzvmbwdigqrgxktqi(this.id)\" >boy </div></div><div id=\"ahrgzvmbwdigqrgxktqi_input_node_3_container\" style=\"display:inline;text-align:center\"><div id=\"ahrgzvmbwdigqrgxktqi_input_node_3_label\" style=\"display:none; padding-top: 0px; font-size:12px;\"></div><div id=\"ahrgzvmbwdigqrgxktqi_input_node_3_content\"style='display: inline; background:transparent; border-radius: 3px; padding: 0px;cursor: default;cursor: pointer;'onmouseover=\"onMouseHoverFlat_ahrgzvmbwdigqrgxktqi(this.id)\" onmouseout=\"onMouseOutFlat_ahrgzvmbwdigqrgxktqi(this.id)\" onclick=\"onMouseClickFlat_ahrgzvmbwdigqrgxktqi(this.id)\" >is </div></div></div></div></div></div><div id=\"ahrgzvmbwdigqrgxktqi_input_node_40_container\" style=\"display:inline;text-align:center\"><div id=\"ahrgzvmbwdigqrgxktqi_input_node_40_label\" style=\"display:none; padding-top: 0px; font-size:12px;\"></div><div id=\"ahrgzvmbwdigqrgxktqi_input_node_40_content\" style=\"display:inline;\"><div id=\"ahrgzvmbwdigqrgxktqi_input_node_29_container\" style=\"display:inline;text-align:center\"><div id=\"ahrgzvmbwdigqrgxktqi_input_node_29_label\" style=\"display:none; padding-top: 0px; font-size:12px;\"></div><div id=\"ahrgzvmbwdigqrgxktqi_input_node_29_content\" style=\"display:inline;\"><div id=\"ahrgzvmbwdigqrgxktqi_input_node_4_container\" style=\"display:inline;text-align:center\"><div id=\"ahrgzvmbwdigqrgxktqi_input_node_4_label\" style=\"display:none; padding-top: 0px; font-size:12px;\"></div><div id=\"ahrgzvmbwdigqrgxktqi_input_node_4_content\"style='display: inline; background:transparent; border-radius: 3px; padding: 0px;cursor: default;cursor: pointer;'onmouseover=\"onMouseHoverFlat_ahrgzvmbwdigqrgxktqi(this.id)\" onmouseout=\"onMouseOutFlat_ahrgzvmbwdigqrgxktqi(this.id)\" onclick=\"onMouseClickFlat_ahrgzvmbwdigqrgxktqi(this.id)\" >jumping </div></div><div id=\"ahrgzvmbwdigqrgxktqi_input_node_5_container\" style=\"display:inline;text-align:center\"><div id=\"ahrgzvmbwdigqrgxktqi_input_node_5_label\" style=\"display:none; padding-top: 0px; font-size:12px;\"></div><div id=\"ahrgzvmbwdigqrgxktqi_input_node_5_content\"style='display: inline; background:transparent; border-radius: 3px; padding: 0px;cursor: default;cursor: pointer;'onmouseover=\"onMouseHoverFlat_ahrgzvmbwdigqrgxktqi(this.id)\" onmouseout=\"onMouseOutFlat_ahrgzvmbwdigqrgxktqi(this.id)\" onclick=\"onMouseClickFlat_ahrgzvmbwdigqrgxktqi(this.id)\" >on </div></div></div></div><div id=\"ahrgzvmbwdigqrgxktqi_input_node_30_container\" style=\"display:inline;text-align:center\"><div id=\"ahrgzvmbwdigqrgxktqi_input_node_30_label\" style=\"display:none; padding-top: 0px; font-size:12px;\"></div><div id=\"ahrgzvmbwdigqrgxktqi_input_node_30_content\" style=\"display:inline;\"><div id=\"ahrgzvmbwdigqrgxktqi_input_node_6_container\" style=\"display:inline;text-align:center\"><div id=\"ahrgzvmbwdigqrgxktqi_input_node_6_label\" style=\"display:none; padding-top: 0px; font-size:12px;\"></div><div id=\"ahrgzvmbwdigqrgxktqi_input_node_6_content\"style='display: inline; background:transparent; border-radius: 3px; padding: 0px;cursor: default;cursor: pointer;'onmouseover=\"onMouseHoverFlat_ahrgzvmbwdigqrgxktqi(this.id)\" onmouseout=\"onMouseOutFlat_ahrgzvmbwdigqrgxktqi(this.id)\" onclick=\"onMouseClickFlat_ahrgzvmbwdigqrgxktqi(this.id)\" >skate </div></div><div id=\"ahrgzvmbwdigqrgxktqi_input_node_7_container\" style=\"display:inline;text-align:center\"><div id=\"ahrgzvmbwdigqrgxktqi_input_node_7_label\" style=\"display:none; padding-top: 0px; font-size:12px;\"></div><div id=\"ahrgzvmbwdigqrgxktqi_input_node_7_content\"style='display: inline; background:transparent; border-radius: 3px; padding: 0px;cursor: default;cursor: pointer;'onmouseover=\"onMouseHoverFlat_ahrgzvmbwdigqrgxktqi(this.id)\" onmouseout=\"onMouseOutFlat_ahrgzvmbwdigqrgxktqi(this.id)\" onclick=\"onMouseClickFlat_ahrgzvmbwdigqrgxktqi(this.id)\" >board </div></div></div></div></div></div></div></div><div id=\"ahrgzvmbwdigqrgxktqi_input_node_47_container\" style=\"display:inline;text-align:center\"><div id=\"ahrgzvmbwdigqrgxktqi_input_node_47_label\" style=\"display:none; padding-top: 0px; font-size:12px;\"></div><div id=\"ahrgzvmbwdigqrgxktqi_input_node_47_content\" style=\"display:inline;\"><div id=\"ahrgzvmbwdigqrgxktqi_input_node_41_container\" style=\"display:inline;text-align:center\"><div id=\"ahrgzvmbwdigqrgxktqi_input_node_41_label\" style=\"display:none; padding-top: 0px; font-size:12px;\"></div><div id=\"ahrgzvmbwdigqrgxktqi_input_node_41_content\" style=\"display:inline;\"><div id=\"ahrgzvmbwdigqrgxktqi_input_node_31_container\" style=\"display:inline;text-align:center\"><div id=\"ahrgzvmbwdigqrgxktqi_input_node_31_label\" style=\"display:none; padding-top: 0px; font-size:12px;\"></div><div id=\"ahrgzvmbwdigqrgxktqi_input_node_31_content\" style=\"display:inline;\"><div id=\"ahrgzvmbwdigqrgxktqi_input_node_8_container\" style=\"display:inline;text-align:center\"><div id=\"ahrgzvmbwdigqrgxktqi_input_node_8_label\" style=\"display:none; padding-top: 0px; font-size:12px;\"></div><div id=\"ahrgzvmbwdigqrgxktqi_input_node_8_content\"style='display: inline; background:transparent; border-radius: 3px; padding: 0px;cursor: default;cursor: pointer;'onmouseover=\"onMouseHoverFlat_ahrgzvmbwdigqrgxktqi(this.id)\" onmouseout=\"onMouseOutFlat_ahrgzvmbwdigqrgxktqi(this.id)\" onclick=\"onMouseClickFlat_ahrgzvmbwdigqrgxktqi(this.id)\" >in </div></div><div id=\"ahrgzvmbwdigqrgxktqi_input_node_9_container\" style=\"display:inline;text-align:center\"><div id=\"ahrgzvmbwdigqrgxktqi_input_node_9_label\" style=\"display:none; padding-top: 0px; font-size:12px;\"></div><div id=\"ahrgzvmbwdigqrgxktqi_input_node_9_content\"style='display: inline; background:transparent; border-radius: 3px; padding: 0px;cursor: default;cursor: pointer;'onmouseover=\"onMouseHoverFlat_ahrgzvmbwdigqrgxktqi(this.id)\" onmouseout=\"onMouseOutFlat_ahrgzvmbwdigqrgxktqi(this.id)\" onclick=\"onMouseClickFlat_ahrgzvmbwdigqrgxktqi(this.id)\" >the </div></div></div></div><div id=\"ahrgzvmbwdigqrgxktqi_input_node_32_container\" style=\"display:inline;text-align:center\"><div id=\"ahrgzvmbwdigqrgxktqi_input_node_32_label\" style=\"display:none; padding-top: 0px; font-size:12px;\"></div><div id=\"ahrgzvmbwdigqrgxktqi_input_node_32_content\" style=\"display:inline;\"><div id=\"ahrgzvmbwdigqrgxktqi_input_node_10_container\" style=\"display:inline;text-align:center\"><div id=\"ahrgzvmbwdigqrgxktqi_input_node_10_label\" style=\"display:none; padding-top: 0px; font-size:12px;\"></div><div id=\"ahrgzvmbwdigqrgxktqi_input_node_10_content\"style='display: inline; background:transparent; border-radius: 3px; padding: 0px;cursor: default;cursor: pointer;'onmouseover=\"onMouseHoverFlat_ahrgzvmbwdigqrgxktqi(this.id)\" onmouseout=\"onMouseOutFlat_ahrgzvmbwdigqrgxktqi(this.id)\" onclick=\"onMouseClickFlat_ahrgzvmbwdigqrgxktqi(this.id)\" >middle </div></div><div id=\"ahrgzvmbwdigqrgxktqi_input_node_11_container\" style=\"display:inline;text-align:center\"><div id=\"ahrgzvmbwdigqrgxktqi_input_node_11_label\" style=\"display:none; padding-top: 0px; font-size:12px;\"></div><div id=\"ahrgzvmbwdigqrgxktqi_input_node_11_content\"style='display: inline; background:transparent; border-radius: 3px; padding: 0px;cursor: default;cursor: pointer;'onmouseover=\"onMouseHoverFlat_ahrgzvmbwdigqrgxktqi(this.id)\" onmouseout=\"onMouseOutFlat_ahrgzvmbwdigqrgxktqi(this.id)\" onclick=\"onMouseClickFlat_ahrgzvmbwdigqrgxktqi(this.id)\" >of </div></div></div></div></div></div><div id=\"ahrgzvmbwdigqrgxktqi_input_node_44_container\" style=\"display:inline;text-align:center\"><div id=\"ahrgzvmbwdigqrgxktqi_input_node_44_label\" style=\"display:none; padding-top: 0px; font-size:12px;\"></div><div id=\"ahrgzvmbwdigqrgxktqi_input_node_44_content\" style=\"display:inline;\"><div id=\"ahrgzvmbwdigqrgxktqi_input_node_38_container\" style=\"display:inline;text-align:center\"><div id=\"ahrgzvmbwdigqrgxktqi_input_node_38_label\" style=\"display:none; padding-top: 0px; font-size:12px;\"></div><div id=\"ahrgzvmbwdigqrgxktqi_input_node_38_content\" style=\"display:inline;\"><div id=\"ahrgzvmbwdigqrgxktqi_input_node_33_container\" style=\"display:inline;text-align:center\"><div id=\"ahrgzvmbwdigqrgxktqi_input_node_33_label\" style=\"display:none; padding-top: 0px; font-size:12px;\"></div><div id=\"ahrgzvmbwdigqrgxktqi_input_node_33_content\" style=\"display:inline;\"><div id=\"ahrgzvmbwdigqrgxktqi_input_node_12_container\" style=\"display:inline;text-align:center\"><div id=\"ahrgzvmbwdigqrgxktqi_input_node_12_label\" style=\"display:none; padding-top: 0px; font-size:12px;\"></div><div id=\"ahrgzvmbwdigqrgxktqi_input_node_12_content\"style='display: inline; background:transparent; border-radius: 3px; padding: 0px;cursor: default;cursor: pointer;'onmouseover=\"onMouseHoverFlat_ahrgzvmbwdigqrgxktqi(this.id)\" onmouseout=\"onMouseOutFlat_ahrgzvmbwdigqrgxktqi(this.id)\" onclick=\"onMouseClickFlat_ahrgzvmbwdigqrgxktqi(this.id)\" >a </div></div><div id=\"ahrgzvmbwdigqrgxktqi_input_node_13_container\" style=\"display:inline;text-align:center\"><div id=\"ahrgzvmbwdigqrgxktqi_input_node_13_label\" style=\"display:none; padding-top: 0px; font-size:12px;\"></div><div id=\"ahrgzvmbwdigqrgxktqi_input_node_13_content\"style='display: inline; background:transparent; border-radius: 3px; padding: 0px;cursor: default;cursor: pointer;'onmouseover=\"onMouseHoverFlat_ahrgzvmbwdigqrgxktqi(this.id)\" onmouseout=\"onMouseOutFlat_ahrgzvmbwdigqrgxktqi(this.id)\" onclick=\"onMouseClickFlat_ahrgzvmbwdigqrgxktqi(this.id)\" >red </div></div></div></div><div id=\"ahrgzvmbwdigqrgxktqi_input_node_14_container\" style=\"display:inline;text-align:center\"><div id=\"ahrgzvmbwdigqrgxktqi_input_node_14_label\" style=\"display:none; padding-top: 0px; font-size:12px;\"></div><div id=\"ahrgzvmbwdigqrgxktqi_input_node_14_content\"style='display: inline; background:transparent; border-radius: 3px; padding: 0px;cursor: default;cursor: pointer;'onmouseover=\"onMouseHoverFlat_ahrgzvmbwdigqrgxktqi(this.id)\" onmouseout=\"onMouseOutFlat_ahrgzvmbwdigqrgxktqi(this.id)\" onclick=\"onMouseClickFlat_ahrgzvmbwdigqrgxktqi(this.id)\" >bridge </div></div></div></div><div id=\"ahrgzvmbwdigqrgxktqi_input_node_15_container\" style=\"display:inline;text-align:center\"><div id=\"ahrgzvmbwdigqrgxktqi_input_node_15_label\" style=\"display:none; padding-top: 0px; font-size:12px;\"></div><div id=\"ahrgzvmbwdigqrgxktqi_input_node_15_content\"style='display: inline; background:transparent; border-radius: 3px; padding: 0px;cursor: default;cursor: pointer;'onmouseover=\"onMouseHoverFlat_ahrgzvmbwdigqrgxktqi(this.id)\" onmouseout=\"onMouseOutFlat_ahrgzvmbwdigqrgxktqi(this.id)\" onclick=\"onMouseClickFlat_ahrgzvmbwdigqrgxktqi(this.id)\" >. </div></div></div></div></div></div></div></div><div id=\"ahrgzvmbwdigqrgxktqi_input_node_16_container\" style=\"display:inline;text-align:center\"><div id=\"ahrgzvmbwdigqrgxktqi_input_node_16_label\" style=\"display:none; padding-top: 0px; font-size:12px;\"></div><div id=\"ahrgzvmbwdigqrgxktqi_input_node_16_content\"style='display: inline; background:transparent; border-radius: 3px; padding: 0px;cursor: default;cursor: pointer;'onmouseover=\"onMouseHoverFlat_ahrgzvmbwdigqrgxktqi(this.id)\" onmouseout=\"onMouseOutFlat_ahrgzvmbwdigqrgxktqi(this.id)\" onclick=\"onMouseClickFlat_ahrgzvmbwdigqrgxktqi(this.id)\" >&lt;/s&gt; </div></div></div></div><div id=\"ahrgzvmbwdigqrgxktqi_input_node_50_container\" style=\"display:inline;text-align:center\"><div id=\"ahrgzvmbwdigqrgxktqi_input_node_50_label\" style=\"display:none; padding-top: 0px; font-size:12px;\"></div><div id=\"ahrgzvmbwdigqrgxktqi_input_node_50_content\" style=\"display:inline;\"><div id=\"ahrgzvmbwdigqrgxktqi_input_node_48_container\" style=\"display:inline;text-align:center\"><div id=\"ahrgzvmbwdigqrgxktqi_input_node_48_label\" style=\"display:none; padding-top: 0px; font-size:12px;\"></div><div id=\"ahrgzvmbwdigqrgxktqi_input_node_48_content\" style=\"display:inline;\"><div id=\"ahrgzvmbwdigqrgxktqi_input_node_42_container\" style=\"display:inline;text-align:center\"><div id=\"ahrgzvmbwdigqrgxktqi_input_node_42_label\" style=\"display:none; padding-top: 0px; font-size:12px;\"></div><div id=\"ahrgzvmbwdigqrgxktqi_input_node_42_content\" style=\"display:inline;\"><div id=\"ahrgzvmbwdigqrgxktqi_input_node_34_container\" style=\"display:inline;text-align:center\"><div id=\"ahrgzvmbwdigqrgxktqi_input_node_34_label\" style=\"display:none; padding-top: 0px; font-size:12px;\"></div><div id=\"ahrgzvmbwdigqrgxktqi_input_node_34_content\" style=\"display:inline;\"><div id=\"ahrgzvmbwdigqrgxktqi_input_node_17_container\" style=\"display:inline;text-align:center\"><div id=\"ahrgzvmbwdigqrgxktqi_input_node_17_label\" style=\"display:none; padding-top: 0px; font-size:12px;\"></div><div id=\"ahrgzvmbwdigqrgxktqi_input_node_17_content\"style='display: inline; background:transparent; border-radius: 3px; padding: 0px;cursor: default;cursor: pointer;'onmouseover=\"onMouseHoverFlat_ahrgzvmbwdigqrgxktqi(this.id)\" onmouseout=\"onMouseOutFlat_ahrgzvmbwdigqrgxktqi(this.id)\" onclick=\"onMouseClickFlat_ahrgzvmbwdigqrgxktqi(this.id)\" >&lt;/s&gt; </div></div><div id=\"ahrgzvmbwdigqrgxktqi_input_node_18_container\" style=\"display:inline;text-align:center\"><div id=\"ahrgzvmbwdigqrgxktqi_input_node_18_label\" style=\"display:none; padding-top: 0px; font-size:12px;\"></div><div id=\"ahrgzvmbwdigqrgxktqi_input_node_18_content\"style='display: inline; background:transparent; border-radius: 3px; padding: 0px;cursor: default;cursor: pointer;'onmouseover=\"onMouseHoverFlat_ahrgzvmbwdigqrgxktqi(this.id)\" onmouseout=\"onMouseOutFlat_ahrgzvmbwdigqrgxktqi(this.id)\" onclick=\"onMouseClickFlat_ahrgzvmbwdigqrgxktqi(this.id)\" >The </div></div></div></div><div id=\"ahrgzvmbwdigqrgxktqi_input_node_35_container\" style=\"display:inline;text-align:center\"><div id=\"ahrgzvmbwdigqrgxktqi_input_node_35_label\" style=\"display:none; padding-top: 0px; font-size:12px;\"></div><div id=\"ahrgzvmbwdigqrgxktqi_input_node_35_content\" style=\"display:inline;\"><div id=\"ahrgzvmbwdigqrgxktqi_input_node_19_container\" style=\"display:inline;text-align:center\"><div id=\"ahrgzvmbwdigqrgxktqi_input_node_19_label\" style=\"display:none; padding-top: 0px; font-size:12px;\"></div><div id=\"ahrgzvmbwdigqrgxktqi_input_node_19_content\"style='display: inline; background:transparent; border-radius: 3px; padding: 0px;cursor: default;cursor: pointer;'onmouseover=\"onMouseHoverFlat_ahrgzvmbwdigqrgxktqi(this.id)\" onmouseout=\"onMouseOutFlat_ahrgzvmbwdigqrgxktqi(this.id)\" onclick=\"onMouseClickFlat_ahrgzvmbwdigqrgxktqi(this.id)\" >boy </div></div><div id=\"ahrgzvmbwdigqrgxktqi_input_node_20_container\" style=\"display:inline;text-align:center\"><div id=\"ahrgzvmbwdigqrgxktqi_input_node_20_label\" style=\"display:none; padding-top: 0px; font-size:12px;\"></div><div id=\"ahrgzvmbwdigqrgxktqi_input_node_20_content\"style='display: inline; background:transparent; border-radius: 3px; padding: 0px;cursor: default;cursor: pointer;'onmouseover=\"onMouseHoverFlat_ahrgzvmbwdigqrgxktqi(this.id)\" onmouseout=\"onMouseOutFlat_ahrgzvmbwdigqrgxktqi(this.id)\" onclick=\"onMouseClickFlat_ahrgzvmbwdigqrgxktqi(this.id)\" >sk </div></div></div></div></div></div><div id=\"ahrgzvmbwdigqrgxktqi_input_node_45_container\" style=\"display:inline;text-align:center\"><div id=\"ahrgzvmbwdigqrgxktqi_input_node_45_label\" style=\"display:none; padding-top: 0px; font-size:12px;\"></div><div id=\"ahrgzvmbwdigqrgxktqi_input_node_45_content\" style=\"display:inline;\"><div id=\"ahrgzvmbwdigqrgxktqi_input_node_43_container\" style=\"display:inline;text-align:center\"><div id=\"ahrgzvmbwdigqrgxktqi_input_node_43_label\" style=\"display:none; padding-top: 0px; font-size:12px;\"></div><div id=\"ahrgzvmbwdigqrgxktqi_input_node_43_content\" style=\"display:inline;\"><div id=\"ahrgzvmbwdigqrgxktqi_input_node_36_container\" style=\"display:inline;text-align:center\"><div id=\"ahrgzvmbwdigqrgxktqi_input_node_36_label\" style=\"display:none; padding-top: 0px; font-size:12px;\"></div><div id=\"ahrgzvmbwdigqrgxktqi_input_node_36_content\" style=\"display:inline;\"><div id=\"ahrgzvmbwdigqrgxktqi_input_node_21_container\" style=\"display:inline;text-align:center\"><div id=\"ahrgzvmbwdigqrgxktqi_input_node_21_label\" style=\"display:none; padding-top: 0px; font-size:12px;\"></div><div id=\"ahrgzvmbwdigqrgxktqi_input_node_21_content\"style='display: inline; background:transparent; border-radius: 3px; padding: 0px;cursor: default;cursor: pointer;'onmouseover=\"onMouseHoverFlat_ahrgzvmbwdigqrgxktqi(this.id)\" onmouseout=\"onMouseOutFlat_ahrgzvmbwdigqrgxktqi(this.id)\" onclick=\"onMouseClickFlat_ahrgzvmbwdigqrgxktqi(this.id)\" >ates </div></div><div id=\"ahrgzvmbwdigqrgxktqi_input_node_22_container\" style=\"display:inline;text-align:center\"><div id=\"ahrgzvmbwdigqrgxktqi_input_node_22_label\" style=\"display:none; padding-top: 0px; font-size:12px;\"></div><div id=\"ahrgzvmbwdigqrgxktqi_input_node_22_content\"style='display: inline; background:transparent; border-radius: 3px; padding: 0px;cursor: default;cursor: pointer;'onmouseover=\"onMouseHoverFlat_ahrgzvmbwdigqrgxktqi(this.id)\" onmouseout=\"onMouseOutFlat_ahrgzvmbwdigqrgxktqi(this.id)\" onclick=\"onMouseClickFlat_ahrgzvmbwdigqrgxktqi(this.id)\" >down </div></div></div></div><div id=\"ahrgzvmbwdigqrgxktqi_input_node_37_container\" style=\"display:inline;text-align:center\"><div id=\"ahrgzvmbwdigqrgxktqi_input_node_37_label\" style=\"display:none; padding-top: 0px; font-size:12px;\"></div><div id=\"ahrgzvmbwdigqrgxktqi_input_node_37_content\" style=\"display:inline;\"><div id=\"ahrgzvmbwdigqrgxktqi_input_node_23_container\" style=\"display:inline;text-align:center\"><div id=\"ahrgzvmbwdigqrgxktqi_input_node_23_label\" style=\"display:none; padding-top: 0px; font-size:12px;\"></div><div id=\"ahrgzvmbwdigqrgxktqi_input_node_23_content\"style='display: inline; background:transparent; border-radius: 3px; padding: 0px;cursor: default;cursor: pointer;'onmouseover=\"onMouseHoverFlat_ahrgzvmbwdigqrgxktqi(this.id)\" onmouseout=\"onMouseOutFlat_ahrgzvmbwdigqrgxktqi(this.id)\" onclick=\"onMouseClickFlat_ahrgzvmbwdigqrgxktqi(this.id)\" >the </div></div><div id=\"ahrgzvmbwdigqrgxktqi_input_node_24_container\" style=\"display:inline;text-align:center\"><div id=\"ahrgzvmbwdigqrgxktqi_input_node_24_label\" style=\"display:none; padding-top: 0px; font-size:12px;\"></div><div id=\"ahrgzvmbwdigqrgxktqi_input_node_24_content\"style='display: inline; background:transparent; border-radius: 3px; padding: 0px;cursor: default;cursor: pointer;'onmouseover=\"onMouseHoverFlat_ahrgzvmbwdigqrgxktqi(this.id)\" onmouseout=\"onMouseOutFlat_ahrgzvmbwdigqrgxktqi(this.id)\" onclick=\"onMouseClickFlat_ahrgzvmbwdigqrgxktqi(this.id)\" >sidewalk </div></div></div></div></div></div><div id=\"ahrgzvmbwdigqrgxktqi_input_node_25_container\" style=\"display:inline;text-align:center\"><div id=\"ahrgzvmbwdigqrgxktqi_input_node_25_label\" style=\"display:none; padding-top: 0px; font-size:12px;\"></div><div id=\"ahrgzvmbwdigqrgxktqi_input_node_25_content\"style='display: inline; background:transparent; border-radius: 3px; padding: 0px;cursor: default;cursor: pointer;'onmouseover=\"onMouseHoverFlat_ahrgzvmbwdigqrgxktqi(this.id)\" onmouseout=\"onMouseOutFlat_ahrgzvmbwdigqrgxktqi(this.id)\" onclick=\"onMouseClickFlat_ahrgzvmbwdigqrgxktqi(this.id)\" >. </div></div></div></div></div></div><div id=\"ahrgzvmbwdigqrgxktqi_input_node_26_container\" style=\"display:inline;text-align:center\"><div id=\"ahrgzvmbwdigqrgxktqi_input_node_26_label\" style=\"display:none; padding-top: 0px; font-size:12px;\"></div><div id=\"ahrgzvmbwdigqrgxktqi_input_node_26_content\"style='display: inline; background:transparent; border-radius: 3px; padding: 0px;cursor: default;cursor: pointer;'onmouseover=\"onMouseHoverFlat_ahrgzvmbwdigqrgxktqi(this.id)\" onmouseout=\"onMouseOutFlat_ahrgzvmbwdigqrgxktqi(this.id)\" onclick=\"onMouseClickFlat_ahrgzvmbwdigqrgxktqi(this.id)\" > </div></div></div></div></div></div>\n",
       "              </div>\n",
       "            </div>\n",
       "            <div id=\"ahrgzvmbwdigqrgxktqi_output_container\" style=\"padding:15px;border-style:solid;margin:5px;flex:1;\">\n",
       "              <div id=\"ahrgzvmbwdigqrgxktqi_output_header\" style=\"margin:5px;font-weight:bold;font-family:sans-serif;margin-bottom:10px\">\n",
       "                Output Text\n",
       "              </div>\n",
       "              <div id=\"ahrgzvmbwdigqrgxktqi_output_content\" style=\"margin:5px;font-family:sans-serif;\">\n",
       "                  <div style='display:inline; text-align:center;'><div id='ahrgzvmbwdigqrgxktqi_output_flat_value_label_0'style='display:none;color: #999; padding-top: 0px; font-size:12px;'></div><div id='ahrgzvmbwdigqrgxktqi_output_flat_token_0'style='display: inline; background:transparent; border-radius: 3px; padding: 0px;cursor: default;cursor: pointer;'onmouseover=\"onMouseHoverFlat_ahrgzvmbwdigqrgxktqi(this.id)\" onmouseout=\"onMouseOutFlat_ahrgzvmbwdigqrgxktqi(this.id)\" onclick=\"onMouseClickFlat_ahrgzvmbwdigqrgxktqi(this.id)\" >contradiction </div></div><div style='display:inline; text-align:center;'><div id='ahrgzvmbwdigqrgxktqi_output_flat_value_label_1'style='display:none;color: #999; padding-top: 0px; font-size:12px;'></div><div id='ahrgzvmbwdigqrgxktqi_output_flat_token_1'style='display: inline; background:transparent; border-radius: 3px; padding: 0px;cursor: default;cursor: pointer;'onmouseover=\"onMouseHoverFlat_ahrgzvmbwdigqrgxktqi(this.id)\" onmouseout=\"onMouseOutFlat_ahrgzvmbwdigqrgxktqi(this.id)\" onclick=\"onMouseClickFlat_ahrgzvmbwdigqrgxktqi(this.id)\" >entailment </div></div><div style='display:inline; text-align:center;'><div id='ahrgzvmbwdigqrgxktqi_output_flat_value_label_2'style='display:none;color: #999; padding-top: 0px; font-size:12px;'></div><div id='ahrgzvmbwdigqrgxktqi_output_flat_token_2'style='display: inline; background:transparent; border-radius: 3px; padding: 0px;cursor: default;cursor: pointer;'onmouseover=\"onMouseHoverFlat_ahrgzvmbwdigqrgxktqi(this.id)\" onmouseout=\"onMouseOutFlat_ahrgzvmbwdigqrgxktqi(this.id)\" onclick=\"onMouseClickFlat_ahrgzvmbwdigqrgxktqi(this.id)\" >neutral </div></div>\n",
       "              </div>\n",
       "            </div>\n",
       "          </div>\n",
       "        </div>\n",
       "    \n",
       "        <script>\n",
       "            function selectAlignment_ahrgzvmbwdigqrgxktqi(selectObject) {\n",
       "                var value = selectObject.value;\n",
       "                if ( value === \"left-right\" ){\n",
       "                  document.getElementById('ahrgzvmbwdigqrgxktqi_heatmap_content').style.display  = \"flex\";\n",
       "                }\n",
       "                else if ( value === \"top-bottom\" ) {\n",
       "                  document.getElementById('ahrgzvmbwdigqrgxktqi_heatmap_content').style.display  = \"inline\";\n",
       "                }\n",
       "            }\n",
       "            \n",
       "            var ahrgzvmbwdigqrgxktqi_heatmap_flat_state = null;\n",
       "            \n",
       "            function onMouseHoverFlat_ahrgzvmbwdigqrgxktqi(id) {\n",
       "                if (ahrgzvmbwdigqrgxktqi_heatmap_flat_state === null) {\n",
       "                    setBackgroundColors_ahrgzvmbwdigqrgxktqi(id);\n",
       "                    document.getElementById(id).style.backgroundColor  = \"grey\";\n",
       "                }\n",
       "                \n",
       "                if (getIdSide_ahrgzvmbwdigqrgxktqi(id) === 'input' && getIdSide_ahrgzvmbwdigqrgxktqi(ahrgzvmbwdigqrgxktqi_heatmap_flat_state) === 'output'){\n",
       "                \n",
       "                    label_content_id = token_id_to_node_id_mapping_ahrgzvmbwdigqrgxktqi[ahrgzvmbwdigqrgxktqi_heatmap_flat_state][id];\n",
       "                    \n",
       "                    if (document.getElementById(label_content_id).previousElementSibling.style.display == 'none'){\n",
       "                        document.getElementById(label_content_id).style.textShadow = \"0px 0px 1px #000000\";\n",
       "                    }\n",
       "                    \n",
       "                }\n",
       "                \n",
       "            }\n",
       "            \n",
       "            function onMouseOutFlat_ahrgzvmbwdigqrgxktqi(id) {\n",
       "                if (ahrgzvmbwdigqrgxktqi_heatmap_flat_state === null) {\n",
       "                    cleanValuesAndColors_ahrgzvmbwdigqrgxktqi(id);\n",
       "                    document.getElementById(id).style.backgroundColor  = \"transparent\";\n",
       "                }\n",
       "                \n",
       "                if (getIdSide_ahrgzvmbwdigqrgxktqi(id) === 'input' && getIdSide_ahrgzvmbwdigqrgxktqi(ahrgzvmbwdigqrgxktqi_heatmap_flat_state) === 'output'){\n",
       "                \n",
       "                    label_content_id = token_id_to_node_id_mapping_ahrgzvmbwdigqrgxktqi[ahrgzvmbwdigqrgxktqi_heatmap_flat_state][id];\n",
       "                    \n",
       "                    if (document.getElementById(label_content_id).previousElementSibling.style.display == 'none'){\n",
       "                        document.getElementById(label_content_id).style.textShadow = \"inherit\";\n",
       "                    }\n",
       "                    \n",
       "                }\n",
       "                \n",
       "            }\n",
       "\n",
       "            function onMouseClickFlat_ahrgzvmbwdigqrgxktqi(id) {\n",
       "                if (ahrgzvmbwdigqrgxktqi_heatmap_flat_state === id) {\n",
       "                    \n",
       "                    // If the clicked token was already selected\n",
       "                    \n",
       "                    document.getElementById(id).style.backgroundColor  = \"transparent\";\n",
       "                    cleanValuesAndColors_ahrgzvmbwdigqrgxktqi(id);\n",
       "                    ahrgzvmbwdigqrgxktqi_heatmap_flat_state = null;\n",
       "                }\n",
       "                else {\n",
       "                    if (ahrgzvmbwdigqrgxktqi_heatmap_flat_state === null) {\n",
       "                    \n",
       "                        // No token previously selected, new token clicked on\n",
       "                    \n",
       "                        cleanValuesAndColors_ahrgzvmbwdigqrgxktqi(id)\n",
       "                        ahrgzvmbwdigqrgxktqi_heatmap_flat_state = id;\n",
       "                        document.getElementById(id).style.backgroundColor  = \"grey\";\n",
       "                        setLabelValues_ahrgzvmbwdigqrgxktqi(id);\n",
       "                        setBackgroundColors_ahrgzvmbwdigqrgxktqi(id);\n",
       "                    }\n",
       "                    else {\n",
       "                        if (getIdSide_ahrgzvmbwdigqrgxktqi(ahrgzvmbwdigqrgxktqi_heatmap_flat_state) === getIdSide_ahrgzvmbwdigqrgxktqi(id)) {\n",
       "                        \n",
       "                            // User clicked a token on the same side as the currently selected token\n",
       "                            \n",
       "                            cleanValuesAndColors_ahrgzvmbwdigqrgxktqi(ahrgzvmbwdigqrgxktqi_heatmap_flat_state)\n",
       "                            document.getElementById(ahrgzvmbwdigqrgxktqi_heatmap_flat_state).style.backgroundColor  = \"transparent\";\n",
       "                            ahrgzvmbwdigqrgxktqi_heatmap_flat_state = id;\n",
       "                            document.getElementById(id).style.backgroundColor  = \"grey\";\n",
       "                            setLabelValues_ahrgzvmbwdigqrgxktqi(id);\n",
       "                            setBackgroundColors_ahrgzvmbwdigqrgxktqi(id);\n",
       "                        }\n",
       "                        else{\n",
       "                            \n",
       "                            if (getIdSide_ahrgzvmbwdigqrgxktqi(id) === 'input') {\n",
       "                                label_content_id = token_id_to_node_id_mapping_ahrgzvmbwdigqrgxktqi[ahrgzvmbwdigqrgxktqi_heatmap_flat_state][id];\n",
       "                                \n",
       "                                if (document.getElementById(label_content_id).previousElementSibling.style.display == 'none') {\n",
       "                                    document.getElementById(label_content_id).previousElementSibling.style.display = 'block';\n",
       "                                    document.getElementById(label_content_id).parentNode.style.display = 'inline-block';\n",
       "                                    document.getElementById(label_content_id).style.textShadow = \"0px 0px 1px #000000\";\n",
       "                                  }\n",
       "                                else {\n",
       "                                    document.getElementById(label_content_id).previousElementSibling.style.display = 'none';\n",
       "                                    document.getElementById(label_content_id).parentNode.style.display = 'inline';\n",
       "                                    document.getElementById(label_content_id).style.textShadow  = \"inherit\"; \n",
       "                                  }\n",
       "                                \n",
       "                            }\n",
       "                            else {\n",
       "                                if (document.getElementById(id).previousElementSibling.style.display == 'none') {\n",
       "                                    document.getElementById(id).previousElementSibling.style.display = 'block';\n",
       "                                    document.getElementById(id).parentNode.style.display = 'inline-block';\n",
       "                                  }\n",
       "                                else {\n",
       "                                    document.getElementById(id).previousElementSibling.style.display = 'none';\n",
       "                                    document.getElementById(id).parentNode.style.display = 'inline';\n",
       "                                  }\n",
       "                            }\n",
       "                        \n",
       "                        }\n",
       "                    }\n",
       "                \n",
       "                }\n",
       "            }\n",
       "\n",
       "            function setLabelValues_ahrgzvmbwdigqrgxktqi(id) {\n",
       "                for(const token in shap_values_ahrgzvmbwdigqrgxktqi[id]){\n",
       "                    document.getElementById(token).innerHTML = shap_values_ahrgzvmbwdigqrgxktqi[id][token];\n",
       "                    document.getElementById(token).nextElementSibling.title = 'SHAP Value : ' + shap_values_ahrgzvmbwdigqrgxktqi[id][token];\n",
       "                }\n",
       "            }\n",
       "\n",
       "            function setBackgroundColors_ahrgzvmbwdigqrgxktqi(id) {\n",
       "                for(const token in colors_ahrgzvmbwdigqrgxktqi[id]){\n",
       "                    document.getElementById(token).style.backgroundColor  = colors_ahrgzvmbwdigqrgxktqi[id][token];\n",
       "                }\n",
       "            }\n",
       "\n",
       "            function cleanValuesAndColors_ahrgzvmbwdigqrgxktqi(id) {\n",
       "                for(const token in shap_values_ahrgzvmbwdigqrgxktqi[id]){\n",
       "                    document.getElementById(token).innerHTML = \"\";\n",
       "                    document.getElementById(token).nextElementSibling.title = \"\";\n",
       "                }\n",
       "                 for(const token in colors_ahrgzvmbwdigqrgxktqi[id]){\n",
       "                    document.getElementById(token).style.backgroundColor  = \"transparent\";\n",
       "                    document.getElementById(token).previousElementSibling.style.display = 'none';\n",
       "                    document.getElementById(token).parentNode.style.display = 'inline';\n",
       "                    document.getElementById(token).style.textShadow  = \"inherit\"; \n",
       "                }\n",
       "            }\n",
       "            \n",
       "            function getIdSide_ahrgzvmbwdigqrgxktqi(id) {\n",
       "                if (id === null) {\n",
       "                    return 'null'\n",
       "                }\n",
       "                return id.split(\"_\")[1];\n",
       "            }\n",
       "        </script>\n",
       "    <script> colors_ahrgzvmbwdigqrgxktqi = {\"ahrgzvmbwdigqrgxktqi_input_node_0_content\": {\"ahrgzvmbwdigqrgxktqi_output_flat_token_0\": \"rgba(54.70588235294111, 122.49411764705886, 213.40784313725496, 0.0)\", \"ahrgzvmbwdigqrgxktqi_output_flat_token_1\": \"rgba(255.0, 13.0, 87.0, 0.00677361853832443)\", \"ahrgzvmbwdigqrgxktqi_output_flat_token_2\": \"rgba(30.0, 136.0, 229.0, 0.03042186571598325)\"}, \"ahrgzvmbwdigqrgxktqi_input_node_1_content\": {\"ahrgzvmbwdigqrgxktqi_output_flat_token_0\": \"rgba(54.70588235294111, 122.49411764705886, 213.40784313725496, 0.0)\", \"ahrgzvmbwdigqrgxktqi_output_flat_token_1\": \"rgba(255.0, 13.0, 87.0, 0.00677361853832443)\", \"ahrgzvmbwdigqrgxktqi_output_flat_token_2\": \"rgba(30.0, 136.0, 229.0, 0.03042186571598325)\"}, \"ahrgzvmbwdigqrgxktqi_input_node_2_content\": {\"ahrgzvmbwdigqrgxktqi_output_flat_token_0\": \"rgba(54.70588235294111, 122.49411764705886, 213.40784313725496, 0.0)\", \"ahrgzvmbwdigqrgxktqi_output_flat_token_1\": \"rgba(255.0, 13.0, 87.0, 0.00677361853832443)\", \"ahrgzvmbwdigqrgxktqi_output_flat_token_2\": \"rgba(30.0, 136.0, 229.0, 0.03042186571598325)\"}, \"ahrgzvmbwdigqrgxktqi_input_node_3_content\": {\"ahrgzvmbwdigqrgxktqi_output_flat_token_0\": \"rgba(54.70588235294111, 122.49411764705886, 213.40784313725496, 0.0)\", \"ahrgzvmbwdigqrgxktqi_output_flat_token_1\": \"rgba(255.0, 13.0, 87.0, 0.00677361853832443)\", \"ahrgzvmbwdigqrgxktqi_output_flat_token_2\": \"rgba(30.0, 136.0, 229.0, 0.03042186571598325)\"}, \"ahrgzvmbwdigqrgxktqi_input_node_4_content\": {\"ahrgzvmbwdigqrgxktqi_output_flat_token_0\": \"rgba(230.2941176470614, 26.505882352939775, 102.59215686274348, 0.0)\", \"ahrgzvmbwdigqrgxktqi_output_flat_token_1\": \"rgba(54.70588235294111, 122.49411764705886, 213.40784313725496, 0.0)\", \"ahrgzvmbwdigqrgxktqi_output_flat_token_2\": \"rgba(30.0, 136.0, 229.0, 0.006773618538324436)\"}, \"ahrgzvmbwdigqrgxktqi_input_node_5_content\": {\"ahrgzvmbwdigqrgxktqi_output_flat_token_0\": \"rgba(230.2941176470614, 26.505882352939775, 102.59215686274348, 0.0)\", \"ahrgzvmbwdigqrgxktqi_output_flat_token_1\": \"rgba(54.70588235294111, 122.49411764705886, 213.40784313725496, 0.0)\", \"ahrgzvmbwdigqrgxktqi_output_flat_token_2\": \"rgba(30.0, 136.0, 229.0, 0.006773618538324436)\"}, \"ahrgzvmbwdigqrgxktqi_input_node_6_content\": {\"ahrgzvmbwdigqrgxktqi_output_flat_token_0\": \"rgba(30.0, 136.0, 229.0, 0.11713210536739943)\", \"ahrgzvmbwdigqrgxktqi_output_flat_token_1\": \"rgba(255.0, 13.0, 87.0, 0.07771836007130124)\", \"ahrgzvmbwdigqrgxktqi_output_flat_token_2\": \"rgba(255.0, 13.0, 87.0, 0.030421865715983164)\"}, \"ahrgzvmbwdigqrgxktqi_input_node_7_content\": {\"ahrgzvmbwdigqrgxktqi_output_flat_token_0\": \"rgba(30.0, 136.0, 229.0, 0.11713210536739943)\", \"ahrgzvmbwdigqrgxktqi_output_flat_token_1\": \"rgba(255.0, 13.0, 87.0, 0.07771836007130124)\", \"ahrgzvmbwdigqrgxktqi_output_flat_token_2\": \"rgba(255.0, 13.0, 87.0, 0.030421865715983164)\"}, \"ahrgzvmbwdigqrgxktqi_input_node_8_content\": {\"ahrgzvmbwdigqrgxktqi_output_flat_token_0\": \"rgba(255.0, 13.0, 87.0, 0.04618736383442265)\", \"ahrgzvmbwdigqrgxktqi_output_flat_token_1\": \"rgba(30.0, 136.0, 229.0, 0.03042186571598325)\", \"ahrgzvmbwdigqrgxktqi_output_flat_token_2\": \"rgba(30.0, 136.0, 229.0, 0.05407011289364222)\"}, \"ahrgzvmbwdigqrgxktqi_input_node_9_content\": {\"ahrgzvmbwdigqrgxktqi_output_flat_token_0\": \"rgba(255.0, 13.0, 87.0, 0.04618736383442265)\", \"ahrgzvmbwdigqrgxktqi_output_flat_token_1\": \"rgba(30.0, 136.0, 229.0, 0.03042186571598325)\", \"ahrgzvmbwdigqrgxktqi_output_flat_token_2\": \"rgba(30.0, 136.0, 229.0, 0.05407011289364222)\"}, \"ahrgzvmbwdigqrgxktqi_input_node_10_content\": {\"ahrgzvmbwdigqrgxktqi_output_flat_token_0\": \"rgba(255.0, 13.0, 87.0, 0.09348385818974037)\", \"ahrgzvmbwdigqrgxktqi_output_flat_token_1\": \"rgba(30.0, 136.0, 229.0, 0.06983561101208147)\", \"ahrgzvmbwdigqrgxktqi_output_flat_token_2\": \"rgba(30.0, 136.0, 229.0, 0.09348385818974048)\"}, \"ahrgzvmbwdigqrgxktqi_input_node_11_content\": {\"ahrgzvmbwdigqrgxktqi_output_flat_token_0\": \"rgba(255.0, 13.0, 87.0, 0.09348385818974037)\", \"ahrgzvmbwdigqrgxktqi_output_flat_token_1\": \"rgba(30.0, 136.0, 229.0, 0.06983561101208147)\", \"ahrgzvmbwdigqrgxktqi_output_flat_token_2\": \"rgba(30.0, 136.0, 229.0, 0.09348385818974048)\"}, \"ahrgzvmbwdigqrgxktqi_input_node_12_content\": {\"ahrgzvmbwdigqrgxktqi_output_flat_token_0\": \"rgba(255.0, 13.0, 87.0, 0.07771836007130124)\", \"ahrgzvmbwdigqrgxktqi_output_flat_token_1\": \"rgba(30.0, 136.0, 229.0, 0.06195286195286191)\", \"ahrgzvmbwdigqrgxktqi_output_flat_token_2\": \"rgba(30.0, 136.0, 229.0, 0.06195286195286191)\"}, \"ahrgzvmbwdigqrgxktqi_input_node_13_content\": {\"ahrgzvmbwdigqrgxktqi_output_flat_token_0\": \"rgba(255.0, 13.0, 87.0, 0.07771836007130124)\", \"ahrgzvmbwdigqrgxktqi_output_flat_token_1\": \"rgba(30.0, 136.0, 229.0, 0.06195286195286191)\", \"ahrgzvmbwdigqrgxktqi_output_flat_token_2\": \"rgba(30.0, 136.0, 229.0, 0.06195286195286191)\"}, \"ahrgzvmbwdigqrgxktqi_input_node_14_content\": {\"ahrgzvmbwdigqrgxktqi_output_flat_token_0\": \"rgba(255.0, 13.0, 87.0, 0.07771836007130124)\", \"ahrgzvmbwdigqrgxktqi_output_flat_token_1\": \"rgba(30.0, 136.0, 229.0, 0.06195286195286191)\", \"ahrgzvmbwdigqrgxktqi_output_flat_token_2\": \"rgba(30.0, 136.0, 229.0, 0.06195286195286191)\"}, \"ahrgzvmbwdigqrgxktqi_input_node_15_content\": {\"ahrgzvmbwdigqrgxktqi_output_flat_token_0\": \"rgba(255.0, 13.0, 87.0, 0.07771836007130124)\", \"ahrgzvmbwdigqrgxktqi_output_flat_token_1\": \"rgba(30.0, 136.0, 229.0, 0.06195286195286191)\", \"ahrgzvmbwdigqrgxktqi_output_flat_token_2\": \"rgba(30.0, 136.0, 229.0, 0.06195286195286191)\"}, \"ahrgzvmbwdigqrgxktqi_input_node_16_content\": {\"ahrgzvmbwdigqrgxktqi_output_flat_token_0\": \"rgba(54.70588235294111, 122.49411764705886, 213.40784313725496, 0.0)\", \"ahrgzvmbwdigqrgxktqi_output_flat_token_1\": \"rgba(54.70588235294111, 122.49411764705886, 213.40784313725496, 0.0)\", \"ahrgzvmbwdigqrgxktqi_output_flat_token_2\": \"rgba(230.2941176470614, 26.505882352939775, 102.59215686274348, 0.0)\"}, \"ahrgzvmbwdigqrgxktqi_input_node_17_content\": {\"ahrgzvmbwdigqrgxktqi_output_flat_token_0\": \"rgba(255.0, 13.0, 87.0, 0.10924935630817992)\", \"ahrgzvmbwdigqrgxktqi_output_flat_token_1\": \"rgba(30.0, 136.0, 229.0, 0.08560110913052085)\", \"ahrgzvmbwdigqrgxktqi_output_flat_token_2\": \"rgba(30.0, 136.0, 229.0, 0.06983561101208147)\"}, \"ahrgzvmbwdigqrgxktqi_input_node_18_content\": {\"ahrgzvmbwdigqrgxktqi_output_flat_token_0\": \"rgba(255.0, 13.0, 87.0, 0.10924935630817992)\", \"ahrgzvmbwdigqrgxktqi_output_flat_token_1\": \"rgba(30.0, 136.0, 229.0, 0.08560110913052085)\", \"ahrgzvmbwdigqrgxktqi_output_flat_token_2\": \"rgba(30.0, 136.0, 229.0, 0.06983561101208147)\"}, \"ahrgzvmbwdigqrgxktqi_input_node_19_content\": {\"ahrgzvmbwdigqrgxktqi_output_flat_token_0\": \"rgba(255.0, 13.0, 87.0, 0.10924935630817992)\", \"ahrgzvmbwdigqrgxktqi_output_flat_token_1\": \"rgba(30.0, 136.0, 229.0, 0.08560110913052085)\", \"ahrgzvmbwdigqrgxktqi_output_flat_token_2\": \"rgba(30.0, 136.0, 229.0, 0.06983561101208147)\"}, \"ahrgzvmbwdigqrgxktqi_input_node_20_content\": {\"ahrgzvmbwdigqrgxktqi_output_flat_token_0\": \"rgba(255.0, 13.0, 87.0, 0.10924935630817992)\", \"ahrgzvmbwdigqrgxktqi_output_flat_token_1\": \"rgba(30.0, 136.0, 229.0, 0.08560110913052085)\", \"ahrgzvmbwdigqrgxktqi_output_flat_token_2\": \"rgba(30.0, 136.0, 229.0, 0.06983561101208147)\"}, \"ahrgzvmbwdigqrgxktqi_input_node_21_content\": {\"ahrgzvmbwdigqrgxktqi_output_flat_token_0\": \"rgba(255.0, 13.0, 87.0, 0.10924935630817992)\", \"ahrgzvmbwdigqrgxktqi_output_flat_token_1\": \"rgba(30.0, 136.0, 229.0, 0.08560110913052085)\", \"ahrgzvmbwdigqrgxktqi_output_flat_token_2\": \"rgba(30.0, 136.0, 229.0, 0.06983561101208147)\"}, \"ahrgzvmbwdigqrgxktqi_input_node_22_content\": {\"ahrgzvmbwdigqrgxktqi_output_flat_token_0\": \"rgba(255.0, 13.0, 87.0, 0.10924935630817992)\", \"ahrgzvmbwdigqrgxktqi_output_flat_token_1\": \"rgba(30.0, 136.0, 229.0, 0.08560110913052085)\", \"ahrgzvmbwdigqrgxktqi_output_flat_token_2\": \"rgba(30.0, 136.0, 229.0, 0.06983561101208147)\"}, \"ahrgzvmbwdigqrgxktqi_input_node_23_content\": {\"ahrgzvmbwdigqrgxktqi_output_flat_token_0\": \"rgba(255.0, 13.0, 87.0, 0.10924935630817992)\", \"ahrgzvmbwdigqrgxktqi_output_flat_token_1\": \"rgba(30.0, 136.0, 229.0, 0.08560110913052085)\", \"ahrgzvmbwdigqrgxktqi_output_flat_token_2\": \"rgba(30.0, 136.0, 229.0, 0.06983561101208147)\"}, \"ahrgzvmbwdigqrgxktqi_input_node_24_content\": {\"ahrgzvmbwdigqrgxktqi_output_flat_token_0\": \"rgba(255.0, 13.0, 87.0, 0.10924935630817992)\", \"ahrgzvmbwdigqrgxktqi_output_flat_token_1\": \"rgba(30.0, 136.0, 229.0, 0.08560110913052085)\", \"ahrgzvmbwdigqrgxktqi_output_flat_token_2\": \"rgba(30.0, 136.0, 229.0, 0.06983561101208147)\"}, \"ahrgzvmbwdigqrgxktqi_input_node_25_content\": {\"ahrgzvmbwdigqrgxktqi_output_flat_token_0\": \"rgba(255.0, 13.0, 87.0, 0.10924935630817992)\", \"ahrgzvmbwdigqrgxktqi_output_flat_token_1\": \"rgba(30.0, 136.0, 229.0, 0.08560110913052085)\", \"ahrgzvmbwdigqrgxktqi_output_flat_token_2\": \"rgba(30.0, 136.0, 229.0, 0.06983561101208147)\"}, \"ahrgzvmbwdigqrgxktqi_input_node_26_content\": {\"ahrgzvmbwdigqrgxktqi_output_flat_token_0\": \"rgba(54.70588235294111, 122.49411764705886, 213.40784313725496, 0.0)\", \"ahrgzvmbwdigqrgxktqi_output_flat_token_1\": \"rgba(230.2941176470614, 26.505882352939775, 102.59215686274348, 0.0)\", \"ahrgzvmbwdigqrgxktqi_output_flat_token_2\": \"rgba(54.70588235294111, 122.49411764705886, 213.40784313725496, 0.0)\"}, \"ahrgzvmbwdigqrgxktqi_output_flat_token_0\": {\"ahrgzvmbwdigqrgxktqi_input_node_39_content\": \"rgba(30.0, 136.0, 229.0, 0.006773618538324436)\", \"ahrgzvmbwdigqrgxktqi_input_node_29_content\": \"rgba(255.0, 13.0, 87.0, 0.00677361853832443)\", \"ahrgzvmbwdigqrgxktqi_input_node_30_content\": \"rgba(30.0, 136.0, 229.0, 0.23537334125569417)\", \"ahrgzvmbwdigqrgxktqi_input_node_31_content\": \"rgba(255.0, 13.0, 87.0, 0.10136660724896006)\", \"ahrgzvmbwdigqrgxktqi_input_node_32_content\": \"rgba(255.0, 13.0, 87.0, 0.1880768469003763)\", \"ahrgzvmbwdigqrgxktqi_input_node_44_content\": \"rgba(255.0, 13.0, 87.0, 0.33784907902554967)\", \"ahrgzvmbwdigqrgxktqi_input_node_16_content\": \"rgba(54.70588235294111, 122.49411764705886, 213.40784313725496, 0.0)\", \"ahrgzvmbwdigqrgxktqi_input_node_48_content\": \"rgba(255.0, 13.0, 87.0, 1.0)\", \"ahrgzvmbwdigqrgxktqi_input_node_26_content\": \"rgba(54.70588235294111, 122.49411764705886, 213.40784313725496, 0.0)\"}, \"ahrgzvmbwdigqrgxktqi_output_flat_token_1\": {\"ahrgzvmbwdigqrgxktqi_input_node_39_content\": \"rgba(255.0, 13.0, 87.0, 0.03830461477520289)\", \"ahrgzvmbwdigqrgxktqi_input_node_29_content\": \"rgba(30.0, 136.0, 229.0, 0.006773618538324436)\", \"ahrgzvmbwdigqrgxktqi_input_node_30_content\": \"rgba(255.0, 13.0, 87.0, 0.15654585066349747)\", \"ahrgzvmbwdigqrgxktqi_input_node_31_content\": \"rgba(30.0, 136.0, 229.0, 0.06983561101208147)\", \"ahrgzvmbwdigqrgxktqi_input_node_32_content\": \"rgba(30.0, 136.0, 229.0, 0.14078035254505836)\", \"ahrgzvmbwdigqrgxktqi_input_node_44_content\": \"rgba(30.0, 136.0, 229.0, 0.27478708655179246)\", \"ahrgzvmbwdigqrgxktqi_input_node_16_content\": \"rgba(54.70588235294111, 122.49411764705886, 213.40784313725496, 0.0)\", \"ahrgzvmbwdigqrgxktqi_input_node_48_content\": \"rgba(30.0, 136.0, 229.0, 0.7950485244602892)\", \"ahrgzvmbwdigqrgxktqi_input_node_26_content\": \"rgba(230.2941176470614, 26.505882352939775, 102.59215686274348, 0.0)\"}, \"ahrgzvmbwdigqrgxktqi_output_flat_token_2\": {\"ahrgzvmbwdigqrgxktqi_input_node_39_content\": \"rgba(30.0, 136.0, 229.0, 0.14078035254505836)\", \"ahrgzvmbwdigqrgxktqi_input_node_29_content\": \"rgba(30.0, 136.0, 229.0, 0.014656367597544028)\", \"ahrgzvmbwdigqrgxktqi_input_node_30_content\": \"rgba(255.0, 13.0, 87.0, 0.06983561101208159)\", \"ahrgzvmbwdigqrgxktqi_input_node_31_content\": \"rgba(30.0, 136.0, 229.0, 0.10924935630817977)\", \"ahrgzvmbwdigqrgxktqi_input_node_32_content\": \"rgba(30.0, 136.0, 229.0, 0.1880768469003762)\", \"ahrgzvmbwdigqrgxktqi_input_node_44_content\": \"rgba(30.0, 136.0, 229.0, 0.2669043374925727)\", \"ahrgzvmbwdigqrgxktqi_input_node_16_content\": \"rgba(230.2941176470614, 26.505882352939775, 102.59215686274348, 0.0)\", \"ahrgzvmbwdigqrgxktqi_input_node_48_content\": \"rgba(30.0, 136.0, 229.0, 0.6689245395127748)\", \"ahrgzvmbwdigqrgxktqi_input_node_26_content\": \"rgba(54.70588235294111, 122.49411764705886, 213.40784313725496, 0.0)\"}}\n",
       " shap_values_ahrgzvmbwdigqrgxktqi = {\"ahrgzvmbwdigqrgxktqi_input_node_0_content\": {\"ahrgzvmbwdigqrgxktqi_output_flat_value_label_0\": -0.02, \"ahrgzvmbwdigqrgxktqi_output_flat_value_label_1\": 0.074, \"ahrgzvmbwdigqrgxktqi_output_flat_value_label_2\": -0.243}, \"ahrgzvmbwdigqrgxktqi_input_node_1_content\": {\"ahrgzvmbwdigqrgxktqi_output_flat_value_label_0\": -0.02, \"ahrgzvmbwdigqrgxktqi_output_flat_value_label_1\": 0.074, \"ahrgzvmbwdigqrgxktqi_output_flat_value_label_2\": -0.243}, \"ahrgzvmbwdigqrgxktqi_input_node_2_content\": {\"ahrgzvmbwdigqrgxktqi_output_flat_value_label_0\": -0.02, \"ahrgzvmbwdigqrgxktqi_output_flat_value_label_1\": 0.074, \"ahrgzvmbwdigqrgxktqi_output_flat_value_label_2\": -0.243}, \"ahrgzvmbwdigqrgxktqi_input_node_3_content\": {\"ahrgzvmbwdigqrgxktqi_output_flat_value_label_0\": -0.02, \"ahrgzvmbwdigqrgxktqi_output_flat_value_label_1\": 0.074, \"ahrgzvmbwdigqrgxktqi_output_flat_value_label_2\": -0.243}, \"ahrgzvmbwdigqrgxktqi_input_node_4_content\": {\"ahrgzvmbwdigqrgxktqi_output_flat_value_label_0\": 0.048, \"ahrgzvmbwdigqrgxktqi_output_flat_value_label_1\": -0.046, \"ahrgzvmbwdigqrgxktqi_output_flat_value_label_2\": -0.062}, \"ahrgzvmbwdigqrgxktqi_input_node_5_content\": {\"ahrgzvmbwdigqrgxktqi_output_flat_value_label_0\": 0.048, \"ahrgzvmbwdigqrgxktqi_output_flat_value_label_1\": -0.046, \"ahrgzvmbwdigqrgxktqi_output_flat_value_label_2\": -0.062}, \"ahrgzvmbwdigqrgxktqi_input_node_6_content\": {\"ahrgzvmbwdigqrgxktqi_output_flat_value_label_0\": -0.783, \"ahrgzvmbwdigqrgxktqi_output_flat_value_label_1\": 0.523, \"ahrgzvmbwdigqrgxktqi_output_flat_value_label_2\": 0.257}, \"ahrgzvmbwdigqrgxktqi_input_node_7_content\": {\"ahrgzvmbwdigqrgxktqi_output_flat_value_label_0\": -0.783, \"ahrgzvmbwdigqrgxktqi_output_flat_value_label_1\": 0.523, \"ahrgzvmbwdigqrgxktqi_output_flat_value_label_2\": 0.257}, \"ahrgzvmbwdigqrgxktqi_input_node_8_content\": {\"ahrgzvmbwdigqrgxktqi_output_flat_value_label_0\": 0.356, \"ahrgzvmbwdigqrgxktqi_output_flat_value_label_1\": -0.255, \"ahrgzvmbwdigqrgxktqi_output_flat_value_label_2\": -0.387}, \"ahrgzvmbwdigqrgxktqi_input_node_9_content\": {\"ahrgzvmbwdigqrgxktqi_output_flat_value_label_0\": 0.356, \"ahrgzvmbwdigqrgxktqi_output_flat_value_label_1\": -0.255, \"ahrgzvmbwdigqrgxktqi_output_flat_value_label_2\": -0.387}, \"ahrgzvmbwdigqrgxktqi_input_node_10_content\": {\"ahrgzvmbwdigqrgxktqi_output_flat_value_label_0\": 0.625, \"ahrgzvmbwdigqrgxktqi_output_flat_value_label_1\": -0.47, \"ahrgzvmbwdigqrgxktqi_output_flat_value_label_2\": -0.632}, \"ahrgzvmbwdigqrgxktqi_input_node_11_content\": {\"ahrgzvmbwdigqrgxktqi_output_flat_value_label_0\": 0.625, \"ahrgzvmbwdigqrgxktqi_output_flat_value_label_1\": -0.47, \"ahrgzvmbwdigqrgxktqi_output_flat_value_label_2\": -0.632}, \"ahrgzvmbwdigqrgxktqi_input_node_12_content\": {\"ahrgzvmbwdigqrgxktqi_output_flat_value_label_0\": 0.563, \"ahrgzvmbwdigqrgxktqi_output_flat_value_label_1\": -0.466, \"ahrgzvmbwdigqrgxktqi_output_flat_value_label_2\": -0.448}, \"ahrgzvmbwdigqrgxktqi_input_node_13_content\": {\"ahrgzvmbwdigqrgxktqi_output_flat_value_label_0\": 0.563, \"ahrgzvmbwdigqrgxktqi_output_flat_value_label_1\": -0.466, \"ahrgzvmbwdigqrgxktqi_output_flat_value_label_2\": -0.448}, \"ahrgzvmbwdigqrgxktqi_input_node_14_content\": {\"ahrgzvmbwdigqrgxktqi_output_flat_value_label_0\": 0.563, \"ahrgzvmbwdigqrgxktqi_output_flat_value_label_1\": -0.466, \"ahrgzvmbwdigqrgxktqi_output_flat_value_label_2\": -0.448}, \"ahrgzvmbwdigqrgxktqi_input_node_15_content\": {\"ahrgzvmbwdigqrgxktqi_output_flat_value_label_0\": 0.563, \"ahrgzvmbwdigqrgxktqi_output_flat_value_label_1\": -0.466, \"ahrgzvmbwdigqrgxktqi_output_flat_value_label_2\": -0.448}, \"ahrgzvmbwdigqrgxktqi_input_node_16_content\": {\"ahrgzvmbwdigqrgxktqi_output_flat_value_label_0\": -0.0, \"ahrgzvmbwdigqrgxktqi_output_flat_value_label_1\": -0.0, \"ahrgzvmbwdigqrgxktqi_output_flat_value_label_2\": 0.0}, \"ahrgzvmbwdigqrgxktqi_input_node_17_content\": {\"ahrgzvmbwdigqrgxktqi_output_flat_value_label_0\": 0.739, \"ahrgzvmbwdigqrgxktqi_output_flat_value_label_1\": -0.587, \"ahrgzvmbwdigqrgxktqi_output_flat_value_label_2\": -0.494}, \"ahrgzvmbwdigqrgxktqi_input_node_18_content\": {\"ahrgzvmbwdigqrgxktqi_output_flat_value_label_0\": 0.739, \"ahrgzvmbwdigqrgxktqi_output_flat_value_label_1\": -0.587, \"ahrgzvmbwdigqrgxktqi_output_flat_value_label_2\": -0.494}, \"ahrgzvmbwdigqrgxktqi_input_node_19_content\": {\"ahrgzvmbwdigqrgxktqi_output_flat_value_label_0\": 0.739, \"ahrgzvmbwdigqrgxktqi_output_flat_value_label_1\": -0.587, \"ahrgzvmbwdigqrgxktqi_output_flat_value_label_2\": -0.494}, \"ahrgzvmbwdigqrgxktqi_input_node_20_content\": {\"ahrgzvmbwdigqrgxktqi_output_flat_value_label_0\": 0.739, \"ahrgzvmbwdigqrgxktqi_output_flat_value_label_1\": -0.587, \"ahrgzvmbwdigqrgxktqi_output_flat_value_label_2\": -0.494}, \"ahrgzvmbwdigqrgxktqi_input_node_21_content\": {\"ahrgzvmbwdigqrgxktqi_output_flat_value_label_0\": 0.739, \"ahrgzvmbwdigqrgxktqi_output_flat_value_label_1\": -0.587, \"ahrgzvmbwdigqrgxktqi_output_flat_value_label_2\": -0.494}, \"ahrgzvmbwdigqrgxktqi_input_node_22_content\": {\"ahrgzvmbwdigqrgxktqi_output_flat_value_label_0\": 0.739, \"ahrgzvmbwdigqrgxktqi_output_flat_value_label_1\": -0.587, \"ahrgzvmbwdigqrgxktqi_output_flat_value_label_2\": -0.494}, \"ahrgzvmbwdigqrgxktqi_input_node_23_content\": {\"ahrgzvmbwdigqrgxktqi_output_flat_value_label_0\": 0.739, \"ahrgzvmbwdigqrgxktqi_output_flat_value_label_1\": -0.587, \"ahrgzvmbwdigqrgxktqi_output_flat_value_label_2\": -0.494}, \"ahrgzvmbwdigqrgxktqi_input_node_24_content\": {\"ahrgzvmbwdigqrgxktqi_output_flat_value_label_0\": 0.739, \"ahrgzvmbwdigqrgxktqi_output_flat_value_label_1\": -0.587, \"ahrgzvmbwdigqrgxktqi_output_flat_value_label_2\": -0.494}, \"ahrgzvmbwdigqrgxktqi_input_node_25_content\": {\"ahrgzvmbwdigqrgxktqi_output_flat_value_label_0\": 0.739, \"ahrgzvmbwdigqrgxktqi_output_flat_value_label_1\": -0.587, \"ahrgzvmbwdigqrgxktqi_output_flat_value_label_2\": -0.494}, \"ahrgzvmbwdigqrgxktqi_input_node_26_content\": {\"ahrgzvmbwdigqrgxktqi_output_flat_value_label_0\": -0.0, \"ahrgzvmbwdigqrgxktqi_output_flat_value_label_1\": 0.0, \"ahrgzvmbwdigqrgxktqi_output_flat_value_label_2\": -0.0}, \"ahrgzvmbwdigqrgxktqi_output_flat_token_0\": {\"ahrgzvmbwdigqrgxktqi_input_node_39_label\": \"-0.079/4\", \"ahrgzvmbwdigqrgxktqi_input_node_29_label\": \"0.095/2\", \"ahrgzvmbwdigqrgxktqi_input_node_30_label\": \"-1.566/2\", \"ahrgzvmbwdigqrgxktqi_input_node_31_label\": \"0.713/2\", \"ahrgzvmbwdigqrgxktqi_input_node_32_label\": \"1.251/2\", \"ahrgzvmbwdigqrgxktqi_input_node_44_label\": \"2.253/4\", \"ahrgzvmbwdigqrgxktqi_input_node_16_label\": \"-0.0\", \"ahrgzvmbwdigqrgxktqi_input_node_48_label\": \"6.65/9\", \"ahrgzvmbwdigqrgxktqi_input_node_26_label\": \"-0.0\"}, \"ahrgzvmbwdigqrgxktqi_output_flat_token_1\": {\"ahrgzvmbwdigqrgxktqi_input_node_39_label\": \"0.295/4\", \"ahrgzvmbwdigqrgxktqi_input_node_29_label\": \"-0.091/2\", \"ahrgzvmbwdigqrgxktqi_input_node_30_label\": \"1.045/2\", \"ahrgzvmbwdigqrgxktqi_input_node_31_label\": \"-0.51/2\", \"ahrgzvmbwdigqrgxktqi_input_node_32_label\": \"-0.94/2\", \"ahrgzvmbwdigqrgxktqi_input_node_44_label\": \"-1.864/4\", \"ahrgzvmbwdigqrgxktqi_input_node_16_label\": \"-0.0\", \"ahrgzvmbwdigqrgxktqi_input_node_48_label\": \"-5.286/9\", \"ahrgzvmbwdigqrgxktqi_input_node_26_label\": \"0.0\"}, \"ahrgzvmbwdigqrgxktqi_output_flat_token_2\": {\"ahrgzvmbwdigqrgxktqi_input_node_39_label\": \"-0.97/4\", \"ahrgzvmbwdigqrgxktqi_input_node_29_label\": \"-0.125/2\", \"ahrgzvmbwdigqrgxktqi_input_node_30_label\": \"0.513/2\", \"ahrgzvmbwdigqrgxktqi_input_node_31_label\": \"-0.774/2\", \"ahrgzvmbwdigqrgxktqi_input_node_32_label\": \"-1.265/2\", \"ahrgzvmbwdigqrgxktqi_input_node_44_label\": \"-1.791/4\", \"ahrgzvmbwdigqrgxktqi_input_node_16_label\": \"0.0\", \"ahrgzvmbwdigqrgxktqi_input_node_48_label\": \"-4.445/9\", \"ahrgzvmbwdigqrgxktqi_input_node_26_label\": \"-0.0\"}}\n",
       " token_id_to_node_id_mapping_ahrgzvmbwdigqrgxktqi = {\"ahrgzvmbwdigqrgxktqi_output_flat_token_0\": {\"ahrgzvmbwdigqrgxktqi_input_node_0_content\": \"ahrgzvmbwdigqrgxktqi_input_node_39_content\", \"ahrgzvmbwdigqrgxktqi_input_node_1_content\": \"ahrgzvmbwdigqrgxktqi_input_node_39_content\", \"ahrgzvmbwdigqrgxktqi_input_node_2_content\": \"ahrgzvmbwdigqrgxktqi_input_node_39_content\", \"ahrgzvmbwdigqrgxktqi_input_node_3_content\": \"ahrgzvmbwdigqrgxktqi_input_node_39_content\", \"ahrgzvmbwdigqrgxktqi_input_node_4_content\": \"ahrgzvmbwdigqrgxktqi_input_node_29_content\", \"ahrgzvmbwdigqrgxktqi_input_node_5_content\": \"ahrgzvmbwdigqrgxktqi_input_node_29_content\", \"ahrgzvmbwdigqrgxktqi_input_node_6_content\": \"ahrgzvmbwdigqrgxktqi_input_node_30_content\", \"ahrgzvmbwdigqrgxktqi_input_node_7_content\": \"ahrgzvmbwdigqrgxktqi_input_node_30_content\", \"ahrgzvmbwdigqrgxktqi_input_node_8_content\": \"ahrgzvmbwdigqrgxktqi_input_node_31_content\", \"ahrgzvmbwdigqrgxktqi_input_node_9_content\": \"ahrgzvmbwdigqrgxktqi_input_node_31_content\", \"ahrgzvmbwdigqrgxktqi_input_node_10_content\": \"ahrgzvmbwdigqrgxktqi_input_node_32_content\", \"ahrgzvmbwdigqrgxktqi_input_node_11_content\": \"ahrgzvmbwdigqrgxktqi_input_node_32_content\", \"ahrgzvmbwdigqrgxktqi_input_node_12_content\": \"ahrgzvmbwdigqrgxktqi_input_node_44_content\", \"ahrgzvmbwdigqrgxktqi_input_node_13_content\": \"ahrgzvmbwdigqrgxktqi_input_node_44_content\", \"ahrgzvmbwdigqrgxktqi_input_node_14_content\": \"ahrgzvmbwdigqrgxktqi_input_node_44_content\", \"ahrgzvmbwdigqrgxktqi_input_node_15_content\": \"ahrgzvmbwdigqrgxktqi_input_node_44_content\", \"ahrgzvmbwdigqrgxktqi_input_node_16_content\": \"ahrgzvmbwdigqrgxktqi_input_node_16_content\", \"ahrgzvmbwdigqrgxktqi_input_node_17_content\": \"ahrgzvmbwdigqrgxktqi_input_node_48_content\", \"ahrgzvmbwdigqrgxktqi_input_node_18_content\": \"ahrgzvmbwdigqrgxktqi_input_node_48_content\", \"ahrgzvmbwdigqrgxktqi_input_node_19_content\": \"ahrgzvmbwdigqrgxktqi_input_node_48_content\", \"ahrgzvmbwdigqrgxktqi_input_node_20_content\": \"ahrgzvmbwdigqrgxktqi_input_node_48_content\", \"ahrgzvmbwdigqrgxktqi_input_node_21_content\": \"ahrgzvmbwdigqrgxktqi_input_node_48_content\", \"ahrgzvmbwdigqrgxktqi_input_node_22_content\": \"ahrgzvmbwdigqrgxktqi_input_node_48_content\", \"ahrgzvmbwdigqrgxktqi_input_node_23_content\": \"ahrgzvmbwdigqrgxktqi_input_node_48_content\", \"ahrgzvmbwdigqrgxktqi_input_node_24_content\": \"ahrgzvmbwdigqrgxktqi_input_node_48_content\", \"ahrgzvmbwdigqrgxktqi_input_node_25_content\": \"ahrgzvmbwdigqrgxktqi_input_node_48_content\", \"ahrgzvmbwdigqrgxktqi_input_node_26_content\": \"ahrgzvmbwdigqrgxktqi_input_node_26_content\"}, \"ahrgzvmbwdigqrgxktqi_output_flat_token_1\": {\"ahrgzvmbwdigqrgxktqi_input_node_0_content\": \"ahrgzvmbwdigqrgxktqi_input_node_39_content\", \"ahrgzvmbwdigqrgxktqi_input_node_1_content\": \"ahrgzvmbwdigqrgxktqi_input_node_39_content\", \"ahrgzvmbwdigqrgxktqi_input_node_2_content\": \"ahrgzvmbwdigqrgxktqi_input_node_39_content\", \"ahrgzvmbwdigqrgxktqi_input_node_3_content\": \"ahrgzvmbwdigqrgxktqi_input_node_39_content\", \"ahrgzvmbwdigqrgxktqi_input_node_4_content\": \"ahrgzvmbwdigqrgxktqi_input_node_29_content\", \"ahrgzvmbwdigqrgxktqi_input_node_5_content\": \"ahrgzvmbwdigqrgxktqi_input_node_29_content\", \"ahrgzvmbwdigqrgxktqi_input_node_6_content\": \"ahrgzvmbwdigqrgxktqi_input_node_30_content\", \"ahrgzvmbwdigqrgxktqi_input_node_7_content\": \"ahrgzvmbwdigqrgxktqi_input_node_30_content\", \"ahrgzvmbwdigqrgxktqi_input_node_8_content\": \"ahrgzvmbwdigqrgxktqi_input_node_31_content\", \"ahrgzvmbwdigqrgxktqi_input_node_9_content\": \"ahrgzvmbwdigqrgxktqi_input_node_31_content\", \"ahrgzvmbwdigqrgxktqi_input_node_10_content\": \"ahrgzvmbwdigqrgxktqi_input_node_32_content\", \"ahrgzvmbwdigqrgxktqi_input_node_11_content\": \"ahrgzvmbwdigqrgxktqi_input_node_32_content\", \"ahrgzvmbwdigqrgxktqi_input_node_12_content\": \"ahrgzvmbwdigqrgxktqi_input_node_44_content\", \"ahrgzvmbwdigqrgxktqi_input_node_13_content\": \"ahrgzvmbwdigqrgxktqi_input_node_44_content\", \"ahrgzvmbwdigqrgxktqi_input_node_14_content\": \"ahrgzvmbwdigqrgxktqi_input_node_44_content\", \"ahrgzvmbwdigqrgxktqi_input_node_15_content\": \"ahrgzvmbwdigqrgxktqi_input_node_44_content\", \"ahrgzvmbwdigqrgxktqi_input_node_16_content\": \"ahrgzvmbwdigqrgxktqi_input_node_16_content\", \"ahrgzvmbwdigqrgxktqi_input_node_17_content\": \"ahrgzvmbwdigqrgxktqi_input_node_48_content\", \"ahrgzvmbwdigqrgxktqi_input_node_18_content\": \"ahrgzvmbwdigqrgxktqi_input_node_48_content\", \"ahrgzvmbwdigqrgxktqi_input_node_19_content\": \"ahrgzvmbwdigqrgxktqi_input_node_48_content\", \"ahrgzvmbwdigqrgxktqi_input_node_20_content\": \"ahrgzvmbwdigqrgxktqi_input_node_48_content\", \"ahrgzvmbwdigqrgxktqi_input_node_21_content\": \"ahrgzvmbwdigqrgxktqi_input_node_48_content\", \"ahrgzvmbwdigqrgxktqi_input_node_22_content\": \"ahrgzvmbwdigqrgxktqi_input_node_48_content\", \"ahrgzvmbwdigqrgxktqi_input_node_23_content\": \"ahrgzvmbwdigqrgxktqi_input_node_48_content\", \"ahrgzvmbwdigqrgxktqi_input_node_24_content\": \"ahrgzvmbwdigqrgxktqi_input_node_48_content\", \"ahrgzvmbwdigqrgxktqi_input_node_25_content\": \"ahrgzvmbwdigqrgxktqi_input_node_48_content\", \"ahrgzvmbwdigqrgxktqi_input_node_26_content\": \"ahrgzvmbwdigqrgxktqi_input_node_26_content\"}, \"ahrgzvmbwdigqrgxktqi_output_flat_token_2\": {\"ahrgzvmbwdigqrgxktqi_input_node_0_content\": \"ahrgzvmbwdigqrgxktqi_input_node_39_content\", \"ahrgzvmbwdigqrgxktqi_input_node_1_content\": \"ahrgzvmbwdigqrgxktqi_input_node_39_content\", \"ahrgzvmbwdigqrgxktqi_input_node_2_content\": \"ahrgzvmbwdigqrgxktqi_input_node_39_content\", \"ahrgzvmbwdigqrgxktqi_input_node_3_content\": \"ahrgzvmbwdigqrgxktqi_input_node_39_content\", \"ahrgzvmbwdigqrgxktqi_input_node_4_content\": \"ahrgzvmbwdigqrgxktqi_input_node_29_content\", \"ahrgzvmbwdigqrgxktqi_input_node_5_content\": \"ahrgzvmbwdigqrgxktqi_input_node_29_content\", \"ahrgzvmbwdigqrgxktqi_input_node_6_content\": \"ahrgzvmbwdigqrgxktqi_input_node_30_content\", \"ahrgzvmbwdigqrgxktqi_input_node_7_content\": \"ahrgzvmbwdigqrgxktqi_input_node_30_content\", \"ahrgzvmbwdigqrgxktqi_input_node_8_content\": \"ahrgzvmbwdigqrgxktqi_input_node_31_content\", \"ahrgzvmbwdigqrgxktqi_input_node_9_content\": \"ahrgzvmbwdigqrgxktqi_input_node_31_content\", \"ahrgzvmbwdigqrgxktqi_input_node_10_content\": \"ahrgzvmbwdigqrgxktqi_input_node_32_content\", \"ahrgzvmbwdigqrgxktqi_input_node_11_content\": \"ahrgzvmbwdigqrgxktqi_input_node_32_content\", \"ahrgzvmbwdigqrgxktqi_input_node_12_content\": \"ahrgzvmbwdigqrgxktqi_input_node_44_content\", \"ahrgzvmbwdigqrgxktqi_input_node_13_content\": \"ahrgzvmbwdigqrgxktqi_input_node_44_content\", \"ahrgzvmbwdigqrgxktqi_input_node_14_content\": \"ahrgzvmbwdigqrgxktqi_input_node_44_content\", \"ahrgzvmbwdigqrgxktqi_input_node_15_content\": \"ahrgzvmbwdigqrgxktqi_input_node_44_content\", \"ahrgzvmbwdigqrgxktqi_input_node_16_content\": \"ahrgzvmbwdigqrgxktqi_input_node_16_content\", \"ahrgzvmbwdigqrgxktqi_input_node_17_content\": \"ahrgzvmbwdigqrgxktqi_input_node_48_content\", \"ahrgzvmbwdigqrgxktqi_input_node_18_content\": \"ahrgzvmbwdigqrgxktqi_input_node_48_content\", \"ahrgzvmbwdigqrgxktqi_input_node_19_content\": \"ahrgzvmbwdigqrgxktqi_input_node_48_content\", \"ahrgzvmbwdigqrgxktqi_input_node_20_content\": \"ahrgzvmbwdigqrgxktqi_input_node_48_content\", \"ahrgzvmbwdigqrgxktqi_input_node_21_content\": \"ahrgzvmbwdigqrgxktqi_input_node_48_content\", \"ahrgzvmbwdigqrgxktqi_input_node_22_content\": \"ahrgzvmbwdigqrgxktqi_input_node_48_content\", \"ahrgzvmbwdigqrgxktqi_input_node_23_content\": \"ahrgzvmbwdigqrgxktqi_input_node_48_content\", \"ahrgzvmbwdigqrgxktqi_input_node_24_content\": \"ahrgzvmbwdigqrgxktqi_input_node_48_content\", \"ahrgzvmbwdigqrgxktqi_input_node_25_content\": \"ahrgzvmbwdigqrgxktqi_input_node_48_content\", \"ahrgzvmbwdigqrgxktqi_input_node_26_content\": \"ahrgzvmbwdigqrgxktqi_input_node_26_content\"}}\n",
       "</script> \n",
       " \n",
       "          </div>\n",
       "      </div>\n",
       "    </div>\n",
       "    </html>\n",
       "    "
      ],
      "text/plain": [
       "<IPython.core.display.HTML object>"
      ]
     },
     "metadata": {},
     "output_type": "display_data"
    }
   ],
   "source": [
    "shap.plots.text(shap_values)"
   ]
  },
  {
   "cell_type": "code",
   "execution_count": 10,
   "id": "adjacent-mailman",
   "metadata": {},
   "outputs": [
    {
     "data": {
      "text/html": [
       "<br/><b>0th instance:</b><br/>"
      ],
      "text/plain": [
       "<IPython.core.display.HTML object>"
      ]
     },
     "metadata": {},
     "output_type": "display_data"
    },
    {
     "data": {
      "text/html": [
       "\n",
       "    <script>\n",
       "        function selectVizType_uwxjmnwtuzkwmllycgro(selectObject) {\n",
       "\n",
       "          /* Hide all viz */\n",
       "\n",
       "            var elements = document.getElementsByClassName(\"uwxjmnwtuzkwmllycgro_viz_container\")\n",
       "          for (var i = 0; i < elements.length; i++){\n",
       "              elements[i].style.display = 'none';\n",
       "          }\n",
       "\n",
       "          var value = selectObject.value;\n",
       "          if ( value === \"saliency-plot\" ){\n",
       "              document.getElementById('uwxjmnwtuzkwmllycgro_saliency_plot_container').style.display  = \"block\";\n",
       "          }\n",
       "          else if ( value === \"heatmap\" ) {\n",
       "              document.getElementById('uwxjmnwtuzkwmllycgro_heatmap_container').style.display  = \"block\";\n",
       "          }\n",
       "        }\n",
       "    </script>\n",
       "    \n",
       "    <html>\n",
       "    <div id=\"uwxjmnwtuzkwmllycgro_viz_container\">\n",
       "      <div id=\"uwxjmnwtuzkwmllycgro_viz_header\" style=\"padding:15px;border-style:solid;margin:5px;font-family:sans-serif;font-weight:bold;\">\n",
       "        Visualization Type:\n",
       "        <select name=\"viz_type\" id=\"uwxjmnwtuzkwmllycgro_viz_type\" onchange=\"selectVizType_uwxjmnwtuzkwmllycgro(this)\">\n",
       "          <option value=\"heatmap\" selected=\"selected\">Input/Output - Heatmap</option>\n",
       "          <option value=\"saliency-plot\">Saliency Plot</option>\n",
       "        </select>\n",
       "      </div>\n",
       "      <div id=\"uwxjmnwtuzkwmllycgro_content\" style=\"padding:15px;border-style:solid;margin:5px;\">\n",
       "          <div id = \"uwxjmnwtuzkwmllycgro_saliency_plot_container\" class=\"uwxjmnwtuzkwmllycgro_viz_container\" style=\"display:none\"> \n",
       "              \n",
       "        <div id=\"hbdhkuqokvrzyxfiksyb_saliency_plot\" class=\"hbdhkuqokvrzyxfiksyb_viz_content\">\n",
       "            <div style=\"margin:5px;font-family:sans-serif;font-weight:bold;\">\n",
       "                <span style=\"font-size: 20px;\"> Saliency Plot </span>\n",
       "                <br>\n",
       "                x-axis: Output Text\n",
       "                <br>\n",
       "                y-axis: Input Text\n",
       "            </div>\n",
       "            <table border = \"1\" cellpadding = \"5\" cellspacing = \"5\" style=\"overflow-x:scroll;display:block;\"><tr><th></th><th> A boy is </th><th>jumping on </th><th>skate board </th><th>in the </th><th>middle of </th><th>a red bridge . </th><th>&lt;/s&gt; </th><th>&lt;/s&gt; The boy sk ates down the sidewalk . </th><th> </th></tr><tr><th>contradiction</th><th style=\"background:rgba(30.0, 136.0, 229.0, 0.006773618538324436)\">-0.079</th><th style=\"background:rgba(255.0, 13.0, 87.0, 0.00677361853832443)\">0.095</th><th style=\"background:rgba(30.0, 136.0, 229.0, 0.23537334125569417)\">-1.566</th><th style=\"background:rgba(255.0, 13.0, 87.0, 0.10136660724896006)\">0.713</th><th style=\"background:rgba(255.0, 13.0, 87.0, 0.1880768469003763)\">1.251</th><th style=\"background:rgba(255.0, 13.0, 87.0, 0.33784907902554967)\">2.253</th><th style=\"background:rgba(54.70588235294111, 122.49411764705886, 213.40784313725496, 0.0)\">-0.0</th><th style=\"background:rgba(255.0, 13.0, 87.0, 1.0)\">6.65</th><th style=\"background:rgba(54.70588235294111, 122.49411764705886, 213.40784313725496, 0.0)\">-0.0</th></tr><tr><th>entailment</th><th style=\"background:rgba(255.0, 13.0, 87.0, 0.03830461477520289)\">0.295</th><th style=\"background:rgba(30.0, 136.0, 229.0, 0.006773618538324436)\">-0.091</th><th style=\"background:rgba(255.0, 13.0, 87.0, 0.15654585066349747)\">1.045</th><th style=\"background:rgba(30.0, 136.0, 229.0, 0.06983561101208147)\">-0.51</th><th style=\"background:rgba(30.0, 136.0, 229.0, 0.14078035254505836)\">-0.94</th><th style=\"background:rgba(30.0, 136.0, 229.0, 0.27478708655179246)\">-1.864</th><th style=\"background:rgba(54.70588235294111, 122.49411764705886, 213.40784313725496, 0.0)\">-0.0</th><th style=\"background:rgba(30.0, 136.0, 229.0, 0.7950485244602892)\">-5.286</th><th style=\"background:rgba(230.2941176470614, 26.505882352939775, 102.59215686274348, 0.0)\">0.0</th></tr><tr><th>neutral</th><th style=\"background:rgba(30.0, 136.0, 229.0, 0.14078035254505836)\">-0.97</th><th style=\"background:rgba(30.0, 136.0, 229.0, 0.014656367597544028)\">-0.125</th><th style=\"background:rgba(255.0, 13.0, 87.0, 0.06983561101208159)\">0.513</th><th style=\"background:rgba(30.0, 136.0, 229.0, 0.10924935630817977)\">-0.774</th><th style=\"background:rgba(30.0, 136.0, 229.0, 0.1880768469003762)\">-1.265</th><th style=\"background:rgba(30.0, 136.0, 229.0, 0.2669043374925727)\">-1.791</th><th style=\"background:rgba(230.2941176470614, 26.505882352939775, 102.59215686274348, 0.0)\">0.0</th><th style=\"background:rgba(30.0, 136.0, 229.0, 0.6689245395127748)\">-4.445</th><th style=\"background:rgba(54.70588235294111, 122.49411764705886, 213.40784313725496, 0.0)\">-0.0</th></tr></table>\n",
       "        </div>\n",
       "    \n",
       "          </div>\n",
       "          \n",
       "          <div id = \"uwxjmnwtuzkwmllycgro_heatmap_container\" class=\"uwxjmnwtuzkwmllycgro_viz_container\">\n",
       "              \n",
       "        <div id=\"ulhxutpyxfnwihpnxbpl_heatmap\" class=\"ulhxutpyxfnwihpnxbpl_viz_content\">\n",
       "          <div id=\"ulhxutpyxfnwihpnxbpl_heatmap_header\" style=\"padding:15px;margin:5px;font-family:sans-serif;font-weight:bold;\">\n",
       "            <div style=\"display:inline\">\n",
       "              <span style=\"font-size: 20px;\"> Input/Output - Heatmap </span>\n",
       "            </div>\n",
       "            <div style=\"display:inline;float:right\">\n",
       "              Layout :\n",
       "              <select name=\"alignment\" id=\"ulhxutpyxfnwihpnxbpl_alignment\" onchange=\"selectAlignment_ulhxutpyxfnwihpnxbpl(this)\">\n",
       "                <option value=\"left-right\" selected=\"selected\">Left/Right</option>\n",
       "                <option value=\"top-bottom\">Top/Bottom</option>\n",
       "              </select>\n",
       "            </div>\n",
       "          </div>\n",
       "          <div id=\"ulhxutpyxfnwihpnxbpl_heatmap_content\" style=\"display:flex;\">\n",
       "            <div id=\"ulhxutpyxfnwihpnxbpl_input_container\" style=\"padding:15px;border-style:solid;margin:5px;flex:1;\">\n",
       "              <div id=\"ulhxutpyxfnwihpnxbpl_input_header\" style=\"margin:5px;font-weight:bold;font-family:sans-serif;margin-bottom:10px\">\n",
       "                Input Text\n",
       "              </div>\n",
       "              <div id=\"ulhxutpyxfnwihpnxbpl_input_content\" style=\"margin:5px;font-family:sans-serif;\">\n",
       "                  <div id=\"ulhxutpyxfnwihpnxbpl_input_node_52_container\" style=\"display:inline;text-align:center\"><div id=\"ulhxutpyxfnwihpnxbpl_input_node_52_label\" style=\"display:none; padding-top: 0px; font-size:12px;\"></div><div id=\"ulhxutpyxfnwihpnxbpl_input_node_52_content\" style=\"display:inline;\"><div id=\"ulhxutpyxfnwihpnxbpl_input_node_51_container\" style=\"display:inline;text-align:center\"><div id=\"ulhxutpyxfnwihpnxbpl_input_node_51_label\" style=\"display:none; padding-top: 0px; font-size:12px;\"></div><div id=\"ulhxutpyxfnwihpnxbpl_input_node_51_content\" style=\"display:inline;\"><div id=\"ulhxutpyxfnwihpnxbpl_input_node_49_container\" style=\"display:inline;text-align:center\"><div id=\"ulhxutpyxfnwihpnxbpl_input_node_49_label\" style=\"display:none; padding-top: 0px; font-size:12px;\"></div><div id=\"ulhxutpyxfnwihpnxbpl_input_node_49_content\" style=\"display:inline;\"><div id=\"ulhxutpyxfnwihpnxbpl_input_node_46_container\" style=\"display:inline;text-align:center\"><div id=\"ulhxutpyxfnwihpnxbpl_input_node_46_label\" style=\"display:none; padding-top: 0px; font-size:12px;\"></div><div id=\"ulhxutpyxfnwihpnxbpl_input_node_46_content\" style=\"display:inline;\"><div id=\"ulhxutpyxfnwihpnxbpl_input_node_39_container\" style=\"display:inline;text-align:center\"><div id=\"ulhxutpyxfnwihpnxbpl_input_node_39_label\" style=\"display:none; padding-top: 0px; font-size:12px;\"></div><div id=\"ulhxutpyxfnwihpnxbpl_input_node_39_content\" style=\"display:inline;\"><div id=\"ulhxutpyxfnwihpnxbpl_input_node_27_container\" style=\"display:inline;text-align:center\"><div id=\"ulhxutpyxfnwihpnxbpl_input_node_27_label\" style=\"display:none; padding-top: 0px; font-size:12px;\"></div><div id=\"ulhxutpyxfnwihpnxbpl_input_node_27_content\" style=\"display:inline;\"><div id=\"ulhxutpyxfnwihpnxbpl_input_node_0_container\" style=\"display:inline;text-align:center\"><div id=\"ulhxutpyxfnwihpnxbpl_input_node_0_label\" style=\"display:none; padding-top: 0px; font-size:12px;\"></div><div id=\"ulhxutpyxfnwihpnxbpl_input_node_0_content\"style='display: inline; background:transparent; border-radius: 3px; padding: 0px;cursor: default;cursor: pointer;'onmouseover=\"onMouseHoverFlat_ulhxutpyxfnwihpnxbpl(this.id)\" onmouseout=\"onMouseOutFlat_ulhxutpyxfnwihpnxbpl(this.id)\" onclick=\"onMouseClickFlat_ulhxutpyxfnwihpnxbpl(this.id)\" > </div></div><div id=\"ulhxutpyxfnwihpnxbpl_input_node_1_container\" style=\"display:inline;text-align:center\"><div id=\"ulhxutpyxfnwihpnxbpl_input_node_1_label\" style=\"display:none; padding-top: 0px; font-size:12px;\"></div><div id=\"ulhxutpyxfnwihpnxbpl_input_node_1_content\"style='display: inline; background:transparent; border-radius: 3px; padding: 0px;cursor: default;cursor: pointer;'onmouseover=\"onMouseHoverFlat_ulhxutpyxfnwihpnxbpl(this.id)\" onmouseout=\"onMouseOutFlat_ulhxutpyxfnwihpnxbpl(this.id)\" onclick=\"onMouseClickFlat_ulhxutpyxfnwihpnxbpl(this.id)\" >A </div></div></div></div><div id=\"ulhxutpyxfnwihpnxbpl_input_node_28_container\" style=\"display:inline;text-align:center\"><div id=\"ulhxutpyxfnwihpnxbpl_input_node_28_label\" style=\"display:none; padding-top: 0px; font-size:12px;\"></div><div id=\"ulhxutpyxfnwihpnxbpl_input_node_28_content\" style=\"display:inline;\"><div id=\"ulhxutpyxfnwihpnxbpl_input_node_2_container\" style=\"display:inline;text-align:center\"><div id=\"ulhxutpyxfnwihpnxbpl_input_node_2_label\" style=\"display:none; padding-top: 0px; font-size:12px;\"></div><div id=\"ulhxutpyxfnwihpnxbpl_input_node_2_content\"style='display: inline; background:transparent; border-radius: 3px; padding: 0px;cursor: default;cursor: pointer;'onmouseover=\"onMouseHoverFlat_ulhxutpyxfnwihpnxbpl(this.id)\" onmouseout=\"onMouseOutFlat_ulhxutpyxfnwihpnxbpl(this.id)\" onclick=\"onMouseClickFlat_ulhxutpyxfnwihpnxbpl(this.id)\" >boy </div></div><div id=\"ulhxutpyxfnwihpnxbpl_input_node_3_container\" style=\"display:inline;text-align:center\"><div id=\"ulhxutpyxfnwihpnxbpl_input_node_3_label\" style=\"display:none; padding-top: 0px; font-size:12px;\"></div><div id=\"ulhxutpyxfnwihpnxbpl_input_node_3_content\"style='display: inline; background:transparent; border-radius: 3px; padding: 0px;cursor: default;cursor: pointer;'onmouseover=\"onMouseHoverFlat_ulhxutpyxfnwihpnxbpl(this.id)\" onmouseout=\"onMouseOutFlat_ulhxutpyxfnwihpnxbpl(this.id)\" onclick=\"onMouseClickFlat_ulhxutpyxfnwihpnxbpl(this.id)\" >is </div></div></div></div></div></div><div id=\"ulhxutpyxfnwihpnxbpl_input_node_40_container\" style=\"display:inline;text-align:center\"><div id=\"ulhxutpyxfnwihpnxbpl_input_node_40_label\" style=\"display:none; padding-top: 0px; font-size:12px;\"></div><div id=\"ulhxutpyxfnwihpnxbpl_input_node_40_content\" style=\"display:inline;\"><div id=\"ulhxutpyxfnwihpnxbpl_input_node_29_container\" style=\"display:inline;text-align:center\"><div id=\"ulhxutpyxfnwihpnxbpl_input_node_29_label\" style=\"display:none; padding-top: 0px; font-size:12px;\"></div><div id=\"ulhxutpyxfnwihpnxbpl_input_node_29_content\" style=\"display:inline;\"><div id=\"ulhxutpyxfnwihpnxbpl_input_node_4_container\" style=\"display:inline;text-align:center\"><div id=\"ulhxutpyxfnwihpnxbpl_input_node_4_label\" style=\"display:none; padding-top: 0px; font-size:12px;\"></div><div id=\"ulhxutpyxfnwihpnxbpl_input_node_4_content\"style='display: inline; background:transparent; border-radius: 3px; padding: 0px;cursor: default;cursor: pointer;'onmouseover=\"onMouseHoverFlat_ulhxutpyxfnwihpnxbpl(this.id)\" onmouseout=\"onMouseOutFlat_ulhxutpyxfnwihpnxbpl(this.id)\" onclick=\"onMouseClickFlat_ulhxutpyxfnwihpnxbpl(this.id)\" >jumping </div></div><div id=\"ulhxutpyxfnwihpnxbpl_input_node_5_container\" style=\"display:inline;text-align:center\"><div id=\"ulhxutpyxfnwihpnxbpl_input_node_5_label\" style=\"display:none; padding-top: 0px; font-size:12px;\"></div><div id=\"ulhxutpyxfnwihpnxbpl_input_node_5_content\"style='display: inline; background:transparent; border-radius: 3px; padding: 0px;cursor: default;cursor: pointer;'onmouseover=\"onMouseHoverFlat_ulhxutpyxfnwihpnxbpl(this.id)\" onmouseout=\"onMouseOutFlat_ulhxutpyxfnwihpnxbpl(this.id)\" onclick=\"onMouseClickFlat_ulhxutpyxfnwihpnxbpl(this.id)\" >on </div></div></div></div><div id=\"ulhxutpyxfnwihpnxbpl_input_node_30_container\" style=\"display:inline;text-align:center\"><div id=\"ulhxutpyxfnwihpnxbpl_input_node_30_label\" style=\"display:none; padding-top: 0px; font-size:12px;\"></div><div id=\"ulhxutpyxfnwihpnxbpl_input_node_30_content\" style=\"display:inline;\"><div id=\"ulhxutpyxfnwihpnxbpl_input_node_6_container\" style=\"display:inline;text-align:center\"><div id=\"ulhxutpyxfnwihpnxbpl_input_node_6_label\" style=\"display:none; padding-top: 0px; font-size:12px;\"></div><div id=\"ulhxutpyxfnwihpnxbpl_input_node_6_content\"style='display: inline; background:transparent; border-radius: 3px; padding: 0px;cursor: default;cursor: pointer;'onmouseover=\"onMouseHoverFlat_ulhxutpyxfnwihpnxbpl(this.id)\" onmouseout=\"onMouseOutFlat_ulhxutpyxfnwihpnxbpl(this.id)\" onclick=\"onMouseClickFlat_ulhxutpyxfnwihpnxbpl(this.id)\" >skate </div></div><div id=\"ulhxutpyxfnwihpnxbpl_input_node_7_container\" style=\"display:inline;text-align:center\"><div id=\"ulhxutpyxfnwihpnxbpl_input_node_7_label\" style=\"display:none; padding-top: 0px; font-size:12px;\"></div><div id=\"ulhxutpyxfnwihpnxbpl_input_node_7_content\"style='display: inline; background:transparent; border-radius: 3px; padding: 0px;cursor: default;cursor: pointer;'onmouseover=\"onMouseHoverFlat_ulhxutpyxfnwihpnxbpl(this.id)\" onmouseout=\"onMouseOutFlat_ulhxutpyxfnwihpnxbpl(this.id)\" onclick=\"onMouseClickFlat_ulhxutpyxfnwihpnxbpl(this.id)\" >board </div></div></div></div></div></div></div></div><div id=\"ulhxutpyxfnwihpnxbpl_input_node_47_container\" style=\"display:inline;text-align:center\"><div id=\"ulhxutpyxfnwihpnxbpl_input_node_47_label\" style=\"display:none; padding-top: 0px; font-size:12px;\"></div><div id=\"ulhxutpyxfnwihpnxbpl_input_node_47_content\" style=\"display:inline;\"><div id=\"ulhxutpyxfnwihpnxbpl_input_node_41_container\" style=\"display:inline;text-align:center\"><div id=\"ulhxutpyxfnwihpnxbpl_input_node_41_label\" style=\"display:none; padding-top: 0px; font-size:12px;\"></div><div id=\"ulhxutpyxfnwihpnxbpl_input_node_41_content\" style=\"display:inline;\"><div id=\"ulhxutpyxfnwihpnxbpl_input_node_31_container\" style=\"display:inline;text-align:center\"><div id=\"ulhxutpyxfnwihpnxbpl_input_node_31_label\" style=\"display:none; padding-top: 0px; font-size:12px;\"></div><div id=\"ulhxutpyxfnwihpnxbpl_input_node_31_content\" style=\"display:inline;\"><div id=\"ulhxutpyxfnwihpnxbpl_input_node_8_container\" style=\"display:inline;text-align:center\"><div id=\"ulhxutpyxfnwihpnxbpl_input_node_8_label\" style=\"display:none; padding-top: 0px; font-size:12px;\"></div><div id=\"ulhxutpyxfnwihpnxbpl_input_node_8_content\"style='display: inline; background:transparent; border-radius: 3px; padding: 0px;cursor: default;cursor: pointer;'onmouseover=\"onMouseHoverFlat_ulhxutpyxfnwihpnxbpl(this.id)\" onmouseout=\"onMouseOutFlat_ulhxutpyxfnwihpnxbpl(this.id)\" onclick=\"onMouseClickFlat_ulhxutpyxfnwihpnxbpl(this.id)\" >in </div></div><div id=\"ulhxutpyxfnwihpnxbpl_input_node_9_container\" style=\"display:inline;text-align:center\"><div id=\"ulhxutpyxfnwihpnxbpl_input_node_9_label\" style=\"display:none; padding-top: 0px; font-size:12px;\"></div><div id=\"ulhxutpyxfnwihpnxbpl_input_node_9_content\"style='display: inline; background:transparent; border-radius: 3px; padding: 0px;cursor: default;cursor: pointer;'onmouseover=\"onMouseHoverFlat_ulhxutpyxfnwihpnxbpl(this.id)\" onmouseout=\"onMouseOutFlat_ulhxutpyxfnwihpnxbpl(this.id)\" onclick=\"onMouseClickFlat_ulhxutpyxfnwihpnxbpl(this.id)\" >the </div></div></div></div><div id=\"ulhxutpyxfnwihpnxbpl_input_node_32_container\" style=\"display:inline;text-align:center\"><div id=\"ulhxutpyxfnwihpnxbpl_input_node_32_label\" style=\"display:none; padding-top: 0px; font-size:12px;\"></div><div id=\"ulhxutpyxfnwihpnxbpl_input_node_32_content\" style=\"display:inline;\"><div id=\"ulhxutpyxfnwihpnxbpl_input_node_10_container\" style=\"display:inline;text-align:center\"><div id=\"ulhxutpyxfnwihpnxbpl_input_node_10_label\" style=\"display:none; padding-top: 0px; font-size:12px;\"></div><div id=\"ulhxutpyxfnwihpnxbpl_input_node_10_content\"style='display: inline; background:transparent; border-radius: 3px; padding: 0px;cursor: default;cursor: pointer;'onmouseover=\"onMouseHoverFlat_ulhxutpyxfnwihpnxbpl(this.id)\" onmouseout=\"onMouseOutFlat_ulhxutpyxfnwihpnxbpl(this.id)\" onclick=\"onMouseClickFlat_ulhxutpyxfnwihpnxbpl(this.id)\" >middle </div></div><div id=\"ulhxutpyxfnwihpnxbpl_input_node_11_container\" style=\"display:inline;text-align:center\"><div id=\"ulhxutpyxfnwihpnxbpl_input_node_11_label\" style=\"display:none; padding-top: 0px; font-size:12px;\"></div><div id=\"ulhxutpyxfnwihpnxbpl_input_node_11_content\"style='display: inline; background:transparent; border-radius: 3px; padding: 0px;cursor: default;cursor: pointer;'onmouseover=\"onMouseHoverFlat_ulhxutpyxfnwihpnxbpl(this.id)\" onmouseout=\"onMouseOutFlat_ulhxutpyxfnwihpnxbpl(this.id)\" onclick=\"onMouseClickFlat_ulhxutpyxfnwihpnxbpl(this.id)\" >of </div></div></div></div></div></div><div id=\"ulhxutpyxfnwihpnxbpl_input_node_44_container\" style=\"display:inline;text-align:center\"><div id=\"ulhxutpyxfnwihpnxbpl_input_node_44_label\" style=\"display:none; padding-top: 0px; font-size:12px;\"></div><div id=\"ulhxutpyxfnwihpnxbpl_input_node_44_content\" style=\"display:inline;\"><div id=\"ulhxutpyxfnwihpnxbpl_input_node_38_container\" style=\"display:inline;text-align:center\"><div id=\"ulhxutpyxfnwihpnxbpl_input_node_38_label\" style=\"display:none; padding-top: 0px; font-size:12px;\"></div><div id=\"ulhxutpyxfnwihpnxbpl_input_node_38_content\" style=\"display:inline;\"><div id=\"ulhxutpyxfnwihpnxbpl_input_node_33_container\" style=\"display:inline;text-align:center\"><div id=\"ulhxutpyxfnwihpnxbpl_input_node_33_label\" style=\"display:none; padding-top: 0px; font-size:12px;\"></div><div id=\"ulhxutpyxfnwihpnxbpl_input_node_33_content\" style=\"display:inline;\"><div id=\"ulhxutpyxfnwihpnxbpl_input_node_12_container\" style=\"display:inline;text-align:center\"><div id=\"ulhxutpyxfnwihpnxbpl_input_node_12_label\" style=\"display:none; padding-top: 0px; font-size:12px;\"></div><div id=\"ulhxutpyxfnwihpnxbpl_input_node_12_content\"style='display: inline; background:transparent; border-radius: 3px; padding: 0px;cursor: default;cursor: pointer;'onmouseover=\"onMouseHoverFlat_ulhxutpyxfnwihpnxbpl(this.id)\" onmouseout=\"onMouseOutFlat_ulhxutpyxfnwihpnxbpl(this.id)\" onclick=\"onMouseClickFlat_ulhxutpyxfnwihpnxbpl(this.id)\" >a </div></div><div id=\"ulhxutpyxfnwihpnxbpl_input_node_13_container\" style=\"display:inline;text-align:center\"><div id=\"ulhxutpyxfnwihpnxbpl_input_node_13_label\" style=\"display:none; padding-top: 0px; font-size:12px;\"></div><div id=\"ulhxutpyxfnwihpnxbpl_input_node_13_content\"style='display: inline; background:transparent; border-radius: 3px; padding: 0px;cursor: default;cursor: pointer;'onmouseover=\"onMouseHoverFlat_ulhxutpyxfnwihpnxbpl(this.id)\" onmouseout=\"onMouseOutFlat_ulhxutpyxfnwihpnxbpl(this.id)\" onclick=\"onMouseClickFlat_ulhxutpyxfnwihpnxbpl(this.id)\" >red </div></div></div></div><div id=\"ulhxutpyxfnwihpnxbpl_input_node_14_container\" style=\"display:inline;text-align:center\"><div id=\"ulhxutpyxfnwihpnxbpl_input_node_14_label\" style=\"display:none; padding-top: 0px; font-size:12px;\"></div><div id=\"ulhxutpyxfnwihpnxbpl_input_node_14_content\"style='display: inline; background:transparent; border-radius: 3px; padding: 0px;cursor: default;cursor: pointer;'onmouseover=\"onMouseHoverFlat_ulhxutpyxfnwihpnxbpl(this.id)\" onmouseout=\"onMouseOutFlat_ulhxutpyxfnwihpnxbpl(this.id)\" onclick=\"onMouseClickFlat_ulhxutpyxfnwihpnxbpl(this.id)\" >bridge </div></div></div></div><div id=\"ulhxutpyxfnwihpnxbpl_input_node_15_container\" style=\"display:inline;text-align:center\"><div id=\"ulhxutpyxfnwihpnxbpl_input_node_15_label\" style=\"display:none; padding-top: 0px; font-size:12px;\"></div><div id=\"ulhxutpyxfnwihpnxbpl_input_node_15_content\"style='display: inline; background:transparent; border-radius: 3px; padding: 0px;cursor: default;cursor: pointer;'onmouseover=\"onMouseHoverFlat_ulhxutpyxfnwihpnxbpl(this.id)\" onmouseout=\"onMouseOutFlat_ulhxutpyxfnwihpnxbpl(this.id)\" onclick=\"onMouseClickFlat_ulhxutpyxfnwihpnxbpl(this.id)\" >. </div></div></div></div></div></div></div></div><div id=\"ulhxutpyxfnwihpnxbpl_input_node_16_container\" style=\"display:inline;text-align:center\"><div id=\"ulhxutpyxfnwihpnxbpl_input_node_16_label\" style=\"display:none; padding-top: 0px; font-size:12px;\"></div><div id=\"ulhxutpyxfnwihpnxbpl_input_node_16_content\"style='display: inline; background:transparent; border-radius: 3px; padding: 0px;cursor: default;cursor: pointer;'onmouseover=\"onMouseHoverFlat_ulhxutpyxfnwihpnxbpl(this.id)\" onmouseout=\"onMouseOutFlat_ulhxutpyxfnwihpnxbpl(this.id)\" onclick=\"onMouseClickFlat_ulhxutpyxfnwihpnxbpl(this.id)\" >&lt;/s&gt; </div></div></div></div><div id=\"ulhxutpyxfnwihpnxbpl_input_node_50_container\" style=\"display:inline;text-align:center\"><div id=\"ulhxutpyxfnwihpnxbpl_input_node_50_label\" style=\"display:none; padding-top: 0px; font-size:12px;\"></div><div id=\"ulhxutpyxfnwihpnxbpl_input_node_50_content\" style=\"display:inline;\"><div id=\"ulhxutpyxfnwihpnxbpl_input_node_48_container\" style=\"display:inline;text-align:center\"><div id=\"ulhxutpyxfnwihpnxbpl_input_node_48_label\" style=\"display:none; padding-top: 0px; font-size:12px;\"></div><div id=\"ulhxutpyxfnwihpnxbpl_input_node_48_content\" style=\"display:inline;\"><div id=\"ulhxutpyxfnwihpnxbpl_input_node_42_container\" style=\"display:inline;text-align:center\"><div id=\"ulhxutpyxfnwihpnxbpl_input_node_42_label\" style=\"display:none; padding-top: 0px; font-size:12px;\"></div><div id=\"ulhxutpyxfnwihpnxbpl_input_node_42_content\" style=\"display:inline;\"><div id=\"ulhxutpyxfnwihpnxbpl_input_node_34_container\" style=\"display:inline;text-align:center\"><div id=\"ulhxutpyxfnwihpnxbpl_input_node_34_label\" style=\"display:none; padding-top: 0px; font-size:12px;\"></div><div id=\"ulhxutpyxfnwihpnxbpl_input_node_34_content\" style=\"display:inline;\"><div id=\"ulhxutpyxfnwihpnxbpl_input_node_17_container\" style=\"display:inline;text-align:center\"><div id=\"ulhxutpyxfnwihpnxbpl_input_node_17_label\" style=\"display:none; padding-top: 0px; font-size:12px;\"></div><div id=\"ulhxutpyxfnwihpnxbpl_input_node_17_content\"style='display: inline; background:transparent; border-radius: 3px; padding: 0px;cursor: default;cursor: pointer;'onmouseover=\"onMouseHoverFlat_ulhxutpyxfnwihpnxbpl(this.id)\" onmouseout=\"onMouseOutFlat_ulhxutpyxfnwihpnxbpl(this.id)\" onclick=\"onMouseClickFlat_ulhxutpyxfnwihpnxbpl(this.id)\" >&lt;/s&gt; </div></div><div id=\"ulhxutpyxfnwihpnxbpl_input_node_18_container\" style=\"display:inline;text-align:center\"><div id=\"ulhxutpyxfnwihpnxbpl_input_node_18_label\" style=\"display:none; padding-top: 0px; font-size:12px;\"></div><div id=\"ulhxutpyxfnwihpnxbpl_input_node_18_content\"style='display: inline; background:transparent; border-radius: 3px; padding: 0px;cursor: default;cursor: pointer;'onmouseover=\"onMouseHoverFlat_ulhxutpyxfnwihpnxbpl(this.id)\" onmouseout=\"onMouseOutFlat_ulhxutpyxfnwihpnxbpl(this.id)\" onclick=\"onMouseClickFlat_ulhxutpyxfnwihpnxbpl(this.id)\" >The </div></div></div></div><div id=\"ulhxutpyxfnwihpnxbpl_input_node_35_container\" style=\"display:inline;text-align:center\"><div id=\"ulhxutpyxfnwihpnxbpl_input_node_35_label\" style=\"display:none; padding-top: 0px; font-size:12px;\"></div><div id=\"ulhxutpyxfnwihpnxbpl_input_node_35_content\" style=\"display:inline;\"><div id=\"ulhxutpyxfnwihpnxbpl_input_node_19_container\" style=\"display:inline;text-align:center\"><div id=\"ulhxutpyxfnwihpnxbpl_input_node_19_label\" style=\"display:none; padding-top: 0px; font-size:12px;\"></div><div id=\"ulhxutpyxfnwihpnxbpl_input_node_19_content\"style='display: inline; background:transparent; border-radius: 3px; padding: 0px;cursor: default;cursor: pointer;'onmouseover=\"onMouseHoverFlat_ulhxutpyxfnwihpnxbpl(this.id)\" onmouseout=\"onMouseOutFlat_ulhxutpyxfnwihpnxbpl(this.id)\" onclick=\"onMouseClickFlat_ulhxutpyxfnwihpnxbpl(this.id)\" >boy </div></div><div id=\"ulhxutpyxfnwihpnxbpl_input_node_20_container\" style=\"display:inline;text-align:center\"><div id=\"ulhxutpyxfnwihpnxbpl_input_node_20_label\" style=\"display:none; padding-top: 0px; font-size:12px;\"></div><div id=\"ulhxutpyxfnwihpnxbpl_input_node_20_content\"style='display: inline; background:transparent; border-radius: 3px; padding: 0px;cursor: default;cursor: pointer;'onmouseover=\"onMouseHoverFlat_ulhxutpyxfnwihpnxbpl(this.id)\" onmouseout=\"onMouseOutFlat_ulhxutpyxfnwihpnxbpl(this.id)\" onclick=\"onMouseClickFlat_ulhxutpyxfnwihpnxbpl(this.id)\" >sk </div></div></div></div></div></div><div id=\"ulhxutpyxfnwihpnxbpl_input_node_45_container\" style=\"display:inline;text-align:center\"><div id=\"ulhxutpyxfnwihpnxbpl_input_node_45_label\" style=\"display:none; padding-top: 0px; font-size:12px;\"></div><div id=\"ulhxutpyxfnwihpnxbpl_input_node_45_content\" style=\"display:inline;\"><div id=\"ulhxutpyxfnwihpnxbpl_input_node_43_container\" style=\"display:inline;text-align:center\"><div id=\"ulhxutpyxfnwihpnxbpl_input_node_43_label\" style=\"display:none; padding-top: 0px; font-size:12px;\"></div><div id=\"ulhxutpyxfnwihpnxbpl_input_node_43_content\" style=\"display:inline;\"><div id=\"ulhxutpyxfnwihpnxbpl_input_node_36_container\" style=\"display:inline;text-align:center\"><div id=\"ulhxutpyxfnwihpnxbpl_input_node_36_label\" style=\"display:none; padding-top: 0px; font-size:12px;\"></div><div id=\"ulhxutpyxfnwihpnxbpl_input_node_36_content\" style=\"display:inline;\"><div id=\"ulhxutpyxfnwihpnxbpl_input_node_21_container\" style=\"display:inline;text-align:center\"><div id=\"ulhxutpyxfnwihpnxbpl_input_node_21_label\" style=\"display:none; padding-top: 0px; font-size:12px;\"></div><div id=\"ulhxutpyxfnwihpnxbpl_input_node_21_content\"style='display: inline; background:transparent; border-radius: 3px; padding: 0px;cursor: default;cursor: pointer;'onmouseover=\"onMouseHoverFlat_ulhxutpyxfnwihpnxbpl(this.id)\" onmouseout=\"onMouseOutFlat_ulhxutpyxfnwihpnxbpl(this.id)\" onclick=\"onMouseClickFlat_ulhxutpyxfnwihpnxbpl(this.id)\" >ates </div></div><div id=\"ulhxutpyxfnwihpnxbpl_input_node_22_container\" style=\"display:inline;text-align:center\"><div id=\"ulhxutpyxfnwihpnxbpl_input_node_22_label\" style=\"display:none; padding-top: 0px; font-size:12px;\"></div><div id=\"ulhxutpyxfnwihpnxbpl_input_node_22_content\"style='display: inline; background:transparent; border-radius: 3px; padding: 0px;cursor: default;cursor: pointer;'onmouseover=\"onMouseHoverFlat_ulhxutpyxfnwihpnxbpl(this.id)\" onmouseout=\"onMouseOutFlat_ulhxutpyxfnwihpnxbpl(this.id)\" onclick=\"onMouseClickFlat_ulhxutpyxfnwihpnxbpl(this.id)\" >down </div></div></div></div><div id=\"ulhxutpyxfnwihpnxbpl_input_node_37_container\" style=\"display:inline;text-align:center\"><div id=\"ulhxutpyxfnwihpnxbpl_input_node_37_label\" style=\"display:none; padding-top: 0px; font-size:12px;\"></div><div id=\"ulhxutpyxfnwihpnxbpl_input_node_37_content\" style=\"display:inline;\"><div id=\"ulhxutpyxfnwihpnxbpl_input_node_23_container\" style=\"display:inline;text-align:center\"><div id=\"ulhxutpyxfnwihpnxbpl_input_node_23_label\" style=\"display:none; padding-top: 0px; font-size:12px;\"></div><div id=\"ulhxutpyxfnwihpnxbpl_input_node_23_content\"style='display: inline; background:transparent; border-radius: 3px; padding: 0px;cursor: default;cursor: pointer;'onmouseover=\"onMouseHoverFlat_ulhxutpyxfnwihpnxbpl(this.id)\" onmouseout=\"onMouseOutFlat_ulhxutpyxfnwihpnxbpl(this.id)\" onclick=\"onMouseClickFlat_ulhxutpyxfnwihpnxbpl(this.id)\" >the </div></div><div id=\"ulhxutpyxfnwihpnxbpl_input_node_24_container\" style=\"display:inline;text-align:center\"><div id=\"ulhxutpyxfnwihpnxbpl_input_node_24_label\" style=\"display:none; padding-top: 0px; font-size:12px;\"></div><div id=\"ulhxutpyxfnwihpnxbpl_input_node_24_content\"style='display: inline; background:transparent; border-radius: 3px; padding: 0px;cursor: default;cursor: pointer;'onmouseover=\"onMouseHoverFlat_ulhxutpyxfnwihpnxbpl(this.id)\" onmouseout=\"onMouseOutFlat_ulhxutpyxfnwihpnxbpl(this.id)\" onclick=\"onMouseClickFlat_ulhxutpyxfnwihpnxbpl(this.id)\" >sidewalk </div></div></div></div></div></div><div id=\"ulhxutpyxfnwihpnxbpl_input_node_25_container\" style=\"display:inline;text-align:center\"><div id=\"ulhxutpyxfnwihpnxbpl_input_node_25_label\" style=\"display:none; padding-top: 0px; font-size:12px;\"></div><div id=\"ulhxutpyxfnwihpnxbpl_input_node_25_content\"style='display: inline; background:transparent; border-radius: 3px; padding: 0px;cursor: default;cursor: pointer;'onmouseover=\"onMouseHoverFlat_ulhxutpyxfnwihpnxbpl(this.id)\" onmouseout=\"onMouseOutFlat_ulhxutpyxfnwihpnxbpl(this.id)\" onclick=\"onMouseClickFlat_ulhxutpyxfnwihpnxbpl(this.id)\" >. </div></div></div></div></div></div><div id=\"ulhxutpyxfnwihpnxbpl_input_node_26_container\" style=\"display:inline;text-align:center\"><div id=\"ulhxutpyxfnwihpnxbpl_input_node_26_label\" style=\"display:none; padding-top: 0px; font-size:12px;\"></div><div id=\"ulhxutpyxfnwihpnxbpl_input_node_26_content\"style='display: inline; background:transparent; border-radius: 3px; padding: 0px;cursor: default;cursor: pointer;'onmouseover=\"onMouseHoverFlat_ulhxutpyxfnwihpnxbpl(this.id)\" onmouseout=\"onMouseOutFlat_ulhxutpyxfnwihpnxbpl(this.id)\" onclick=\"onMouseClickFlat_ulhxutpyxfnwihpnxbpl(this.id)\" > </div></div></div></div></div></div>\n",
       "              </div>\n",
       "            </div>\n",
       "            <div id=\"ulhxutpyxfnwihpnxbpl_output_container\" style=\"padding:15px;border-style:solid;margin:5px;flex:1;\">\n",
       "              <div id=\"ulhxutpyxfnwihpnxbpl_output_header\" style=\"margin:5px;font-weight:bold;font-family:sans-serif;margin-bottom:10px\">\n",
       "                Output Text\n",
       "              </div>\n",
       "              <div id=\"ulhxutpyxfnwihpnxbpl_output_content\" style=\"margin:5px;font-family:sans-serif;\">\n",
       "                  <div style='display:inline; text-align:center;'><div id='ulhxutpyxfnwihpnxbpl_output_flat_value_label_0'style='display:none;color: #999; padding-top: 0px; font-size:12px;'></div><div id='ulhxutpyxfnwihpnxbpl_output_flat_token_0'style='display: inline; background:transparent; border-radius: 3px; padding: 0px;cursor: default;cursor: pointer;'onmouseover=\"onMouseHoverFlat_ulhxutpyxfnwihpnxbpl(this.id)\" onmouseout=\"onMouseOutFlat_ulhxutpyxfnwihpnxbpl(this.id)\" onclick=\"onMouseClickFlat_ulhxutpyxfnwihpnxbpl(this.id)\" >contradiction </div></div><div style='display:inline; text-align:center;'><div id='ulhxutpyxfnwihpnxbpl_output_flat_value_label_1'style='display:none;color: #999; padding-top: 0px; font-size:12px;'></div><div id='ulhxutpyxfnwihpnxbpl_output_flat_token_1'style='display: inline; background:transparent; border-radius: 3px; padding: 0px;cursor: default;cursor: pointer;'onmouseover=\"onMouseHoverFlat_ulhxutpyxfnwihpnxbpl(this.id)\" onmouseout=\"onMouseOutFlat_ulhxutpyxfnwihpnxbpl(this.id)\" onclick=\"onMouseClickFlat_ulhxutpyxfnwihpnxbpl(this.id)\" >entailment </div></div><div style='display:inline; text-align:center;'><div id='ulhxutpyxfnwihpnxbpl_output_flat_value_label_2'style='display:none;color: #999; padding-top: 0px; font-size:12px;'></div><div id='ulhxutpyxfnwihpnxbpl_output_flat_token_2'style='display: inline; background:transparent; border-radius: 3px; padding: 0px;cursor: default;cursor: pointer;'onmouseover=\"onMouseHoverFlat_ulhxutpyxfnwihpnxbpl(this.id)\" onmouseout=\"onMouseOutFlat_ulhxutpyxfnwihpnxbpl(this.id)\" onclick=\"onMouseClickFlat_ulhxutpyxfnwihpnxbpl(this.id)\" >neutral </div></div>\n",
       "              </div>\n",
       "            </div>\n",
       "          </div>\n",
       "        </div>\n",
       "    \n",
       "        <script>\n",
       "            function selectAlignment_ulhxutpyxfnwihpnxbpl(selectObject) {\n",
       "                var value = selectObject.value;\n",
       "                if ( value === \"left-right\" ){\n",
       "                  document.getElementById('ulhxutpyxfnwihpnxbpl_heatmap_content').style.display  = \"flex\";\n",
       "                }\n",
       "                else if ( value === \"top-bottom\" ) {\n",
       "                  document.getElementById('ulhxutpyxfnwihpnxbpl_heatmap_content').style.display  = \"inline\";\n",
       "                }\n",
       "            }\n",
       "            \n",
       "            var ulhxutpyxfnwihpnxbpl_heatmap_flat_state = null;\n",
       "            \n",
       "            function onMouseHoverFlat_ulhxutpyxfnwihpnxbpl(id) {\n",
       "                if (ulhxutpyxfnwihpnxbpl_heatmap_flat_state === null) {\n",
       "                    setBackgroundColors_ulhxutpyxfnwihpnxbpl(id);\n",
       "                    document.getElementById(id).style.backgroundColor  = \"grey\";\n",
       "                }\n",
       "                \n",
       "                if (getIdSide_ulhxutpyxfnwihpnxbpl(id) === 'input' && getIdSide_ulhxutpyxfnwihpnxbpl(ulhxutpyxfnwihpnxbpl_heatmap_flat_state) === 'output'){\n",
       "                \n",
       "                    label_content_id = token_id_to_node_id_mapping_ulhxutpyxfnwihpnxbpl[ulhxutpyxfnwihpnxbpl_heatmap_flat_state][id];\n",
       "                    \n",
       "                    if (document.getElementById(label_content_id).previousElementSibling.style.display == 'none'){\n",
       "                        document.getElementById(label_content_id).style.textShadow = \"0px 0px 1px #000000\";\n",
       "                    }\n",
       "                    \n",
       "                }\n",
       "                \n",
       "            }\n",
       "            \n",
       "            function onMouseOutFlat_ulhxutpyxfnwihpnxbpl(id) {\n",
       "                if (ulhxutpyxfnwihpnxbpl_heatmap_flat_state === null) {\n",
       "                    cleanValuesAndColors_ulhxutpyxfnwihpnxbpl(id);\n",
       "                    document.getElementById(id).style.backgroundColor  = \"transparent\";\n",
       "                }\n",
       "                \n",
       "                if (getIdSide_ulhxutpyxfnwihpnxbpl(id) === 'input' && getIdSide_ulhxutpyxfnwihpnxbpl(ulhxutpyxfnwihpnxbpl_heatmap_flat_state) === 'output'){\n",
       "                \n",
       "                    label_content_id = token_id_to_node_id_mapping_ulhxutpyxfnwihpnxbpl[ulhxutpyxfnwihpnxbpl_heatmap_flat_state][id];\n",
       "                    \n",
       "                    if (document.getElementById(label_content_id).previousElementSibling.style.display == 'none'){\n",
       "                        document.getElementById(label_content_id).style.textShadow = \"inherit\";\n",
       "                    }\n",
       "                    \n",
       "                }\n",
       "                \n",
       "            }\n",
       "\n",
       "            function onMouseClickFlat_ulhxutpyxfnwihpnxbpl(id) {\n",
       "                if (ulhxutpyxfnwihpnxbpl_heatmap_flat_state === id) {\n",
       "                    \n",
       "                    // If the clicked token was already selected\n",
       "                    \n",
       "                    document.getElementById(id).style.backgroundColor  = \"transparent\";\n",
       "                    cleanValuesAndColors_ulhxutpyxfnwihpnxbpl(id);\n",
       "                    ulhxutpyxfnwihpnxbpl_heatmap_flat_state = null;\n",
       "                }\n",
       "                else {\n",
       "                    if (ulhxutpyxfnwihpnxbpl_heatmap_flat_state === null) {\n",
       "                    \n",
       "                        // No token previously selected, new token clicked on\n",
       "                    \n",
       "                        cleanValuesAndColors_ulhxutpyxfnwihpnxbpl(id)\n",
       "                        ulhxutpyxfnwihpnxbpl_heatmap_flat_state = id;\n",
       "                        document.getElementById(id).style.backgroundColor  = \"grey\";\n",
       "                        setLabelValues_ulhxutpyxfnwihpnxbpl(id);\n",
       "                        setBackgroundColors_ulhxutpyxfnwihpnxbpl(id);\n",
       "                    }\n",
       "                    else {\n",
       "                        if (getIdSide_ulhxutpyxfnwihpnxbpl(ulhxutpyxfnwihpnxbpl_heatmap_flat_state) === getIdSide_ulhxutpyxfnwihpnxbpl(id)) {\n",
       "                        \n",
       "                            // User clicked a token on the same side as the currently selected token\n",
       "                            \n",
       "                            cleanValuesAndColors_ulhxutpyxfnwihpnxbpl(ulhxutpyxfnwihpnxbpl_heatmap_flat_state)\n",
       "                            document.getElementById(ulhxutpyxfnwihpnxbpl_heatmap_flat_state).style.backgroundColor  = \"transparent\";\n",
       "                            ulhxutpyxfnwihpnxbpl_heatmap_flat_state = id;\n",
       "                            document.getElementById(id).style.backgroundColor  = \"grey\";\n",
       "                            setLabelValues_ulhxutpyxfnwihpnxbpl(id);\n",
       "                            setBackgroundColors_ulhxutpyxfnwihpnxbpl(id);\n",
       "                        }\n",
       "                        else{\n",
       "                            \n",
       "                            if (getIdSide_ulhxutpyxfnwihpnxbpl(id) === 'input') {\n",
       "                                label_content_id = token_id_to_node_id_mapping_ulhxutpyxfnwihpnxbpl[ulhxutpyxfnwihpnxbpl_heatmap_flat_state][id];\n",
       "                                \n",
       "                                if (document.getElementById(label_content_id).previousElementSibling.style.display == 'none') {\n",
       "                                    document.getElementById(label_content_id).previousElementSibling.style.display = 'block';\n",
       "                                    document.getElementById(label_content_id).parentNode.style.display = 'inline-block';\n",
       "                                    document.getElementById(label_content_id).style.textShadow = \"0px 0px 1px #000000\";\n",
       "                                  }\n",
       "                                else {\n",
       "                                    document.getElementById(label_content_id).previousElementSibling.style.display = 'none';\n",
       "                                    document.getElementById(label_content_id).parentNode.style.display = 'inline';\n",
       "                                    document.getElementById(label_content_id).style.textShadow  = \"inherit\"; \n",
       "                                  }\n",
       "                                \n",
       "                            }\n",
       "                            else {\n",
       "                                if (document.getElementById(id).previousElementSibling.style.display == 'none') {\n",
       "                                    document.getElementById(id).previousElementSibling.style.display = 'block';\n",
       "                                    document.getElementById(id).parentNode.style.display = 'inline-block';\n",
       "                                  }\n",
       "                                else {\n",
       "                                    document.getElementById(id).previousElementSibling.style.display = 'none';\n",
       "                                    document.getElementById(id).parentNode.style.display = 'inline';\n",
       "                                  }\n",
       "                            }\n",
       "                        \n",
       "                        }\n",
       "                    }\n",
       "                \n",
       "                }\n",
       "            }\n",
       "\n",
       "            function setLabelValues_ulhxutpyxfnwihpnxbpl(id) {\n",
       "                for(const token in shap_values_ulhxutpyxfnwihpnxbpl[id]){\n",
       "                    document.getElementById(token).innerHTML = shap_values_ulhxutpyxfnwihpnxbpl[id][token];\n",
       "                    document.getElementById(token).nextElementSibling.title = 'SHAP Value : ' + shap_values_ulhxutpyxfnwihpnxbpl[id][token];\n",
       "                }\n",
       "            }\n",
       "\n",
       "            function setBackgroundColors_ulhxutpyxfnwihpnxbpl(id) {\n",
       "                for(const token in colors_ulhxutpyxfnwihpnxbpl[id]){\n",
       "                    document.getElementById(token).style.backgroundColor  = colors_ulhxutpyxfnwihpnxbpl[id][token];\n",
       "                }\n",
       "            }\n",
       "\n",
       "            function cleanValuesAndColors_ulhxutpyxfnwihpnxbpl(id) {\n",
       "                for(const token in shap_values_ulhxutpyxfnwihpnxbpl[id]){\n",
       "                    document.getElementById(token).innerHTML = \"\";\n",
       "                    document.getElementById(token).nextElementSibling.title = \"\";\n",
       "                }\n",
       "                 for(const token in colors_ulhxutpyxfnwihpnxbpl[id]){\n",
       "                    document.getElementById(token).style.backgroundColor  = \"transparent\";\n",
       "                    document.getElementById(token).previousElementSibling.style.display = 'none';\n",
       "                    document.getElementById(token).parentNode.style.display = 'inline';\n",
       "                    document.getElementById(token).style.textShadow  = \"inherit\"; \n",
       "                }\n",
       "            }\n",
       "            \n",
       "            function getIdSide_ulhxutpyxfnwihpnxbpl(id) {\n",
       "                if (id === null) {\n",
       "                    return 'null'\n",
       "                }\n",
       "                return id.split(\"_\")[1];\n",
       "            }\n",
       "        </script>\n",
       "    <script> colors_ulhxutpyxfnwihpnxbpl = {\"ulhxutpyxfnwihpnxbpl_input_node_0_content\": {\"ulhxutpyxfnwihpnxbpl_output_flat_token_0\": \"rgba(54.70588235294111, 122.49411764705886, 213.40784313725496, 0.0)\", \"ulhxutpyxfnwihpnxbpl_output_flat_token_1\": \"rgba(255.0, 13.0, 87.0, 0.00677361853832443)\", \"ulhxutpyxfnwihpnxbpl_output_flat_token_2\": \"rgba(30.0, 136.0, 229.0, 0.03042186571598325)\"}, \"ulhxutpyxfnwihpnxbpl_input_node_1_content\": {\"ulhxutpyxfnwihpnxbpl_output_flat_token_0\": \"rgba(54.70588235294111, 122.49411764705886, 213.40784313725496, 0.0)\", \"ulhxutpyxfnwihpnxbpl_output_flat_token_1\": \"rgba(255.0, 13.0, 87.0, 0.00677361853832443)\", \"ulhxutpyxfnwihpnxbpl_output_flat_token_2\": \"rgba(30.0, 136.0, 229.0, 0.03042186571598325)\"}, \"ulhxutpyxfnwihpnxbpl_input_node_2_content\": {\"ulhxutpyxfnwihpnxbpl_output_flat_token_0\": \"rgba(54.70588235294111, 122.49411764705886, 213.40784313725496, 0.0)\", \"ulhxutpyxfnwihpnxbpl_output_flat_token_1\": \"rgba(255.0, 13.0, 87.0, 0.00677361853832443)\", \"ulhxutpyxfnwihpnxbpl_output_flat_token_2\": \"rgba(30.0, 136.0, 229.0, 0.03042186571598325)\"}, \"ulhxutpyxfnwihpnxbpl_input_node_3_content\": {\"ulhxutpyxfnwihpnxbpl_output_flat_token_0\": \"rgba(54.70588235294111, 122.49411764705886, 213.40784313725496, 0.0)\", \"ulhxutpyxfnwihpnxbpl_output_flat_token_1\": \"rgba(255.0, 13.0, 87.0, 0.00677361853832443)\", \"ulhxutpyxfnwihpnxbpl_output_flat_token_2\": \"rgba(30.0, 136.0, 229.0, 0.03042186571598325)\"}, \"ulhxutpyxfnwihpnxbpl_input_node_4_content\": {\"ulhxutpyxfnwihpnxbpl_output_flat_token_0\": \"rgba(230.2941176470614, 26.505882352939775, 102.59215686274348, 0.0)\", \"ulhxutpyxfnwihpnxbpl_output_flat_token_1\": \"rgba(54.70588235294111, 122.49411764705886, 213.40784313725496, 0.0)\", \"ulhxutpyxfnwihpnxbpl_output_flat_token_2\": \"rgba(30.0, 136.0, 229.0, 0.006773618538324436)\"}, \"ulhxutpyxfnwihpnxbpl_input_node_5_content\": {\"ulhxutpyxfnwihpnxbpl_output_flat_token_0\": \"rgba(230.2941176470614, 26.505882352939775, 102.59215686274348, 0.0)\", \"ulhxutpyxfnwihpnxbpl_output_flat_token_1\": \"rgba(54.70588235294111, 122.49411764705886, 213.40784313725496, 0.0)\", \"ulhxutpyxfnwihpnxbpl_output_flat_token_2\": \"rgba(30.0, 136.0, 229.0, 0.006773618538324436)\"}, \"ulhxutpyxfnwihpnxbpl_input_node_6_content\": {\"ulhxutpyxfnwihpnxbpl_output_flat_token_0\": \"rgba(30.0, 136.0, 229.0, 0.11713210536739943)\", \"ulhxutpyxfnwihpnxbpl_output_flat_token_1\": \"rgba(255.0, 13.0, 87.0, 0.07771836007130124)\", \"ulhxutpyxfnwihpnxbpl_output_flat_token_2\": \"rgba(255.0, 13.0, 87.0, 0.030421865715983164)\"}, \"ulhxutpyxfnwihpnxbpl_input_node_7_content\": {\"ulhxutpyxfnwihpnxbpl_output_flat_token_0\": \"rgba(30.0, 136.0, 229.0, 0.11713210536739943)\", \"ulhxutpyxfnwihpnxbpl_output_flat_token_1\": \"rgba(255.0, 13.0, 87.0, 0.07771836007130124)\", \"ulhxutpyxfnwihpnxbpl_output_flat_token_2\": \"rgba(255.0, 13.0, 87.0, 0.030421865715983164)\"}, \"ulhxutpyxfnwihpnxbpl_input_node_8_content\": {\"ulhxutpyxfnwihpnxbpl_output_flat_token_0\": \"rgba(255.0, 13.0, 87.0, 0.04618736383442265)\", \"ulhxutpyxfnwihpnxbpl_output_flat_token_1\": \"rgba(30.0, 136.0, 229.0, 0.03042186571598325)\", \"ulhxutpyxfnwihpnxbpl_output_flat_token_2\": \"rgba(30.0, 136.0, 229.0, 0.05407011289364222)\"}, \"ulhxutpyxfnwihpnxbpl_input_node_9_content\": {\"ulhxutpyxfnwihpnxbpl_output_flat_token_0\": \"rgba(255.0, 13.0, 87.0, 0.04618736383442265)\", \"ulhxutpyxfnwihpnxbpl_output_flat_token_1\": \"rgba(30.0, 136.0, 229.0, 0.03042186571598325)\", \"ulhxutpyxfnwihpnxbpl_output_flat_token_2\": \"rgba(30.0, 136.0, 229.0, 0.05407011289364222)\"}, \"ulhxutpyxfnwihpnxbpl_input_node_10_content\": {\"ulhxutpyxfnwihpnxbpl_output_flat_token_0\": \"rgba(255.0, 13.0, 87.0, 0.09348385818974037)\", \"ulhxutpyxfnwihpnxbpl_output_flat_token_1\": \"rgba(30.0, 136.0, 229.0, 0.06983561101208147)\", \"ulhxutpyxfnwihpnxbpl_output_flat_token_2\": \"rgba(30.0, 136.0, 229.0, 0.09348385818974048)\"}, \"ulhxutpyxfnwihpnxbpl_input_node_11_content\": {\"ulhxutpyxfnwihpnxbpl_output_flat_token_0\": \"rgba(255.0, 13.0, 87.0, 0.09348385818974037)\", \"ulhxutpyxfnwihpnxbpl_output_flat_token_1\": \"rgba(30.0, 136.0, 229.0, 0.06983561101208147)\", \"ulhxutpyxfnwihpnxbpl_output_flat_token_2\": \"rgba(30.0, 136.0, 229.0, 0.09348385818974048)\"}, \"ulhxutpyxfnwihpnxbpl_input_node_12_content\": {\"ulhxutpyxfnwihpnxbpl_output_flat_token_0\": \"rgba(255.0, 13.0, 87.0, 0.07771836007130124)\", \"ulhxutpyxfnwihpnxbpl_output_flat_token_1\": \"rgba(30.0, 136.0, 229.0, 0.06195286195286191)\", \"ulhxutpyxfnwihpnxbpl_output_flat_token_2\": \"rgba(30.0, 136.0, 229.0, 0.06195286195286191)\"}, \"ulhxutpyxfnwihpnxbpl_input_node_13_content\": {\"ulhxutpyxfnwihpnxbpl_output_flat_token_0\": \"rgba(255.0, 13.0, 87.0, 0.07771836007130124)\", \"ulhxutpyxfnwihpnxbpl_output_flat_token_1\": \"rgba(30.0, 136.0, 229.0, 0.06195286195286191)\", \"ulhxutpyxfnwihpnxbpl_output_flat_token_2\": \"rgba(30.0, 136.0, 229.0, 0.06195286195286191)\"}, \"ulhxutpyxfnwihpnxbpl_input_node_14_content\": {\"ulhxutpyxfnwihpnxbpl_output_flat_token_0\": \"rgba(255.0, 13.0, 87.0, 0.07771836007130124)\", \"ulhxutpyxfnwihpnxbpl_output_flat_token_1\": \"rgba(30.0, 136.0, 229.0, 0.06195286195286191)\", \"ulhxutpyxfnwihpnxbpl_output_flat_token_2\": \"rgba(30.0, 136.0, 229.0, 0.06195286195286191)\"}, \"ulhxutpyxfnwihpnxbpl_input_node_15_content\": {\"ulhxutpyxfnwihpnxbpl_output_flat_token_0\": \"rgba(255.0, 13.0, 87.0, 0.07771836007130124)\", \"ulhxutpyxfnwihpnxbpl_output_flat_token_1\": \"rgba(30.0, 136.0, 229.0, 0.06195286195286191)\", \"ulhxutpyxfnwihpnxbpl_output_flat_token_2\": \"rgba(30.0, 136.0, 229.0, 0.06195286195286191)\"}, \"ulhxutpyxfnwihpnxbpl_input_node_16_content\": {\"ulhxutpyxfnwihpnxbpl_output_flat_token_0\": \"rgba(54.70588235294111, 122.49411764705886, 213.40784313725496, 0.0)\", \"ulhxutpyxfnwihpnxbpl_output_flat_token_1\": \"rgba(54.70588235294111, 122.49411764705886, 213.40784313725496, 0.0)\", \"ulhxutpyxfnwihpnxbpl_output_flat_token_2\": \"rgba(230.2941176470614, 26.505882352939775, 102.59215686274348, 0.0)\"}, \"ulhxutpyxfnwihpnxbpl_input_node_17_content\": {\"ulhxutpyxfnwihpnxbpl_output_flat_token_0\": \"rgba(255.0, 13.0, 87.0, 0.10924935630817992)\", \"ulhxutpyxfnwihpnxbpl_output_flat_token_1\": \"rgba(30.0, 136.0, 229.0, 0.08560110913052085)\", \"ulhxutpyxfnwihpnxbpl_output_flat_token_2\": \"rgba(30.0, 136.0, 229.0, 0.06983561101208147)\"}, \"ulhxutpyxfnwihpnxbpl_input_node_18_content\": {\"ulhxutpyxfnwihpnxbpl_output_flat_token_0\": \"rgba(255.0, 13.0, 87.0, 0.10924935630817992)\", \"ulhxutpyxfnwihpnxbpl_output_flat_token_1\": \"rgba(30.0, 136.0, 229.0, 0.08560110913052085)\", \"ulhxutpyxfnwihpnxbpl_output_flat_token_2\": \"rgba(30.0, 136.0, 229.0, 0.06983561101208147)\"}, \"ulhxutpyxfnwihpnxbpl_input_node_19_content\": {\"ulhxutpyxfnwihpnxbpl_output_flat_token_0\": \"rgba(255.0, 13.0, 87.0, 0.10924935630817992)\", \"ulhxutpyxfnwihpnxbpl_output_flat_token_1\": \"rgba(30.0, 136.0, 229.0, 0.08560110913052085)\", \"ulhxutpyxfnwihpnxbpl_output_flat_token_2\": \"rgba(30.0, 136.0, 229.0, 0.06983561101208147)\"}, \"ulhxutpyxfnwihpnxbpl_input_node_20_content\": {\"ulhxutpyxfnwihpnxbpl_output_flat_token_0\": \"rgba(255.0, 13.0, 87.0, 0.10924935630817992)\", \"ulhxutpyxfnwihpnxbpl_output_flat_token_1\": \"rgba(30.0, 136.0, 229.0, 0.08560110913052085)\", \"ulhxutpyxfnwihpnxbpl_output_flat_token_2\": \"rgba(30.0, 136.0, 229.0, 0.06983561101208147)\"}, \"ulhxutpyxfnwihpnxbpl_input_node_21_content\": {\"ulhxutpyxfnwihpnxbpl_output_flat_token_0\": \"rgba(255.0, 13.0, 87.0, 0.10924935630817992)\", \"ulhxutpyxfnwihpnxbpl_output_flat_token_1\": \"rgba(30.0, 136.0, 229.0, 0.08560110913052085)\", \"ulhxutpyxfnwihpnxbpl_output_flat_token_2\": \"rgba(30.0, 136.0, 229.0, 0.06983561101208147)\"}, \"ulhxutpyxfnwihpnxbpl_input_node_22_content\": {\"ulhxutpyxfnwihpnxbpl_output_flat_token_0\": \"rgba(255.0, 13.0, 87.0, 0.10924935630817992)\", \"ulhxutpyxfnwihpnxbpl_output_flat_token_1\": \"rgba(30.0, 136.0, 229.0, 0.08560110913052085)\", \"ulhxutpyxfnwihpnxbpl_output_flat_token_2\": \"rgba(30.0, 136.0, 229.0, 0.06983561101208147)\"}, \"ulhxutpyxfnwihpnxbpl_input_node_23_content\": {\"ulhxutpyxfnwihpnxbpl_output_flat_token_0\": \"rgba(255.0, 13.0, 87.0, 0.10924935630817992)\", \"ulhxutpyxfnwihpnxbpl_output_flat_token_1\": \"rgba(30.0, 136.0, 229.0, 0.08560110913052085)\", \"ulhxutpyxfnwihpnxbpl_output_flat_token_2\": \"rgba(30.0, 136.0, 229.0, 0.06983561101208147)\"}, \"ulhxutpyxfnwihpnxbpl_input_node_24_content\": {\"ulhxutpyxfnwihpnxbpl_output_flat_token_0\": \"rgba(255.0, 13.0, 87.0, 0.10924935630817992)\", \"ulhxutpyxfnwihpnxbpl_output_flat_token_1\": \"rgba(30.0, 136.0, 229.0, 0.08560110913052085)\", \"ulhxutpyxfnwihpnxbpl_output_flat_token_2\": \"rgba(30.0, 136.0, 229.0, 0.06983561101208147)\"}, \"ulhxutpyxfnwihpnxbpl_input_node_25_content\": {\"ulhxutpyxfnwihpnxbpl_output_flat_token_0\": \"rgba(255.0, 13.0, 87.0, 0.10924935630817992)\", \"ulhxutpyxfnwihpnxbpl_output_flat_token_1\": \"rgba(30.0, 136.0, 229.0, 0.08560110913052085)\", \"ulhxutpyxfnwihpnxbpl_output_flat_token_2\": \"rgba(30.0, 136.0, 229.0, 0.06983561101208147)\"}, \"ulhxutpyxfnwihpnxbpl_input_node_26_content\": {\"ulhxutpyxfnwihpnxbpl_output_flat_token_0\": \"rgba(54.70588235294111, 122.49411764705886, 213.40784313725496, 0.0)\", \"ulhxutpyxfnwihpnxbpl_output_flat_token_1\": \"rgba(230.2941176470614, 26.505882352939775, 102.59215686274348, 0.0)\", \"ulhxutpyxfnwihpnxbpl_output_flat_token_2\": \"rgba(54.70588235294111, 122.49411764705886, 213.40784313725496, 0.0)\"}, \"ulhxutpyxfnwihpnxbpl_output_flat_token_0\": {\"ulhxutpyxfnwihpnxbpl_input_node_39_content\": \"rgba(30.0, 136.0, 229.0, 0.006773618538324436)\", \"ulhxutpyxfnwihpnxbpl_input_node_29_content\": \"rgba(255.0, 13.0, 87.0, 0.00677361853832443)\", \"ulhxutpyxfnwihpnxbpl_input_node_30_content\": \"rgba(30.0, 136.0, 229.0, 0.23537334125569417)\", \"ulhxutpyxfnwihpnxbpl_input_node_31_content\": \"rgba(255.0, 13.0, 87.0, 0.10136660724896006)\", \"ulhxutpyxfnwihpnxbpl_input_node_32_content\": \"rgba(255.0, 13.0, 87.0, 0.1880768469003763)\", \"ulhxutpyxfnwihpnxbpl_input_node_44_content\": \"rgba(255.0, 13.0, 87.0, 0.33784907902554967)\", \"ulhxutpyxfnwihpnxbpl_input_node_16_content\": \"rgba(54.70588235294111, 122.49411764705886, 213.40784313725496, 0.0)\", \"ulhxutpyxfnwihpnxbpl_input_node_48_content\": \"rgba(255.0, 13.0, 87.0, 1.0)\", \"ulhxutpyxfnwihpnxbpl_input_node_26_content\": \"rgba(54.70588235294111, 122.49411764705886, 213.40784313725496, 0.0)\"}, \"ulhxutpyxfnwihpnxbpl_output_flat_token_1\": {\"ulhxutpyxfnwihpnxbpl_input_node_39_content\": \"rgba(255.0, 13.0, 87.0, 0.03830461477520289)\", \"ulhxutpyxfnwihpnxbpl_input_node_29_content\": \"rgba(30.0, 136.0, 229.0, 0.006773618538324436)\", \"ulhxutpyxfnwihpnxbpl_input_node_30_content\": \"rgba(255.0, 13.0, 87.0, 0.15654585066349747)\", \"ulhxutpyxfnwihpnxbpl_input_node_31_content\": \"rgba(30.0, 136.0, 229.0, 0.06983561101208147)\", \"ulhxutpyxfnwihpnxbpl_input_node_32_content\": \"rgba(30.0, 136.0, 229.0, 0.14078035254505836)\", \"ulhxutpyxfnwihpnxbpl_input_node_44_content\": \"rgba(30.0, 136.0, 229.0, 0.27478708655179246)\", \"ulhxutpyxfnwihpnxbpl_input_node_16_content\": \"rgba(54.70588235294111, 122.49411764705886, 213.40784313725496, 0.0)\", \"ulhxutpyxfnwihpnxbpl_input_node_48_content\": \"rgba(30.0, 136.0, 229.0, 0.7950485244602892)\", \"ulhxutpyxfnwihpnxbpl_input_node_26_content\": \"rgba(230.2941176470614, 26.505882352939775, 102.59215686274348, 0.0)\"}, \"ulhxutpyxfnwihpnxbpl_output_flat_token_2\": {\"ulhxutpyxfnwihpnxbpl_input_node_39_content\": \"rgba(30.0, 136.0, 229.0, 0.14078035254505836)\", \"ulhxutpyxfnwihpnxbpl_input_node_29_content\": \"rgba(30.0, 136.0, 229.0, 0.014656367597544028)\", \"ulhxutpyxfnwihpnxbpl_input_node_30_content\": \"rgba(255.0, 13.0, 87.0, 0.06983561101208159)\", \"ulhxutpyxfnwihpnxbpl_input_node_31_content\": \"rgba(30.0, 136.0, 229.0, 0.10924935630817977)\", \"ulhxutpyxfnwihpnxbpl_input_node_32_content\": \"rgba(30.0, 136.0, 229.0, 0.1880768469003762)\", \"ulhxutpyxfnwihpnxbpl_input_node_44_content\": \"rgba(30.0, 136.0, 229.0, 0.2669043374925727)\", \"ulhxutpyxfnwihpnxbpl_input_node_16_content\": \"rgba(230.2941176470614, 26.505882352939775, 102.59215686274348, 0.0)\", \"ulhxutpyxfnwihpnxbpl_input_node_48_content\": \"rgba(30.0, 136.0, 229.0, 0.6689245395127748)\", \"ulhxutpyxfnwihpnxbpl_input_node_26_content\": \"rgba(54.70588235294111, 122.49411764705886, 213.40784313725496, 0.0)\"}}\n",
       " shap_values_ulhxutpyxfnwihpnxbpl = {\"ulhxutpyxfnwihpnxbpl_input_node_0_content\": {\"ulhxutpyxfnwihpnxbpl_output_flat_value_label_0\": -0.02, \"ulhxutpyxfnwihpnxbpl_output_flat_value_label_1\": 0.074, \"ulhxutpyxfnwihpnxbpl_output_flat_value_label_2\": -0.243}, \"ulhxutpyxfnwihpnxbpl_input_node_1_content\": {\"ulhxutpyxfnwihpnxbpl_output_flat_value_label_0\": -0.02, \"ulhxutpyxfnwihpnxbpl_output_flat_value_label_1\": 0.074, \"ulhxutpyxfnwihpnxbpl_output_flat_value_label_2\": -0.243}, \"ulhxutpyxfnwihpnxbpl_input_node_2_content\": {\"ulhxutpyxfnwihpnxbpl_output_flat_value_label_0\": -0.02, \"ulhxutpyxfnwihpnxbpl_output_flat_value_label_1\": 0.074, \"ulhxutpyxfnwihpnxbpl_output_flat_value_label_2\": -0.243}, \"ulhxutpyxfnwihpnxbpl_input_node_3_content\": {\"ulhxutpyxfnwihpnxbpl_output_flat_value_label_0\": -0.02, \"ulhxutpyxfnwihpnxbpl_output_flat_value_label_1\": 0.074, \"ulhxutpyxfnwihpnxbpl_output_flat_value_label_2\": -0.243}, \"ulhxutpyxfnwihpnxbpl_input_node_4_content\": {\"ulhxutpyxfnwihpnxbpl_output_flat_value_label_0\": 0.048, \"ulhxutpyxfnwihpnxbpl_output_flat_value_label_1\": -0.046, \"ulhxutpyxfnwihpnxbpl_output_flat_value_label_2\": -0.062}, \"ulhxutpyxfnwihpnxbpl_input_node_5_content\": {\"ulhxutpyxfnwihpnxbpl_output_flat_value_label_0\": 0.048, \"ulhxutpyxfnwihpnxbpl_output_flat_value_label_1\": -0.046, \"ulhxutpyxfnwihpnxbpl_output_flat_value_label_2\": -0.062}, \"ulhxutpyxfnwihpnxbpl_input_node_6_content\": {\"ulhxutpyxfnwihpnxbpl_output_flat_value_label_0\": -0.783, \"ulhxutpyxfnwihpnxbpl_output_flat_value_label_1\": 0.523, \"ulhxutpyxfnwihpnxbpl_output_flat_value_label_2\": 0.257}, \"ulhxutpyxfnwihpnxbpl_input_node_7_content\": {\"ulhxutpyxfnwihpnxbpl_output_flat_value_label_0\": -0.783, \"ulhxutpyxfnwihpnxbpl_output_flat_value_label_1\": 0.523, \"ulhxutpyxfnwihpnxbpl_output_flat_value_label_2\": 0.257}, \"ulhxutpyxfnwihpnxbpl_input_node_8_content\": {\"ulhxutpyxfnwihpnxbpl_output_flat_value_label_0\": 0.356, \"ulhxutpyxfnwihpnxbpl_output_flat_value_label_1\": -0.255, \"ulhxutpyxfnwihpnxbpl_output_flat_value_label_2\": -0.387}, \"ulhxutpyxfnwihpnxbpl_input_node_9_content\": {\"ulhxutpyxfnwihpnxbpl_output_flat_value_label_0\": 0.356, \"ulhxutpyxfnwihpnxbpl_output_flat_value_label_1\": -0.255, \"ulhxutpyxfnwihpnxbpl_output_flat_value_label_2\": -0.387}, \"ulhxutpyxfnwihpnxbpl_input_node_10_content\": {\"ulhxutpyxfnwihpnxbpl_output_flat_value_label_0\": 0.625, \"ulhxutpyxfnwihpnxbpl_output_flat_value_label_1\": -0.47, \"ulhxutpyxfnwihpnxbpl_output_flat_value_label_2\": -0.632}, \"ulhxutpyxfnwihpnxbpl_input_node_11_content\": {\"ulhxutpyxfnwihpnxbpl_output_flat_value_label_0\": 0.625, \"ulhxutpyxfnwihpnxbpl_output_flat_value_label_1\": -0.47, \"ulhxutpyxfnwihpnxbpl_output_flat_value_label_2\": -0.632}, \"ulhxutpyxfnwihpnxbpl_input_node_12_content\": {\"ulhxutpyxfnwihpnxbpl_output_flat_value_label_0\": 0.563, \"ulhxutpyxfnwihpnxbpl_output_flat_value_label_1\": -0.466, \"ulhxutpyxfnwihpnxbpl_output_flat_value_label_2\": -0.448}, \"ulhxutpyxfnwihpnxbpl_input_node_13_content\": {\"ulhxutpyxfnwihpnxbpl_output_flat_value_label_0\": 0.563, \"ulhxutpyxfnwihpnxbpl_output_flat_value_label_1\": -0.466, \"ulhxutpyxfnwihpnxbpl_output_flat_value_label_2\": -0.448}, \"ulhxutpyxfnwihpnxbpl_input_node_14_content\": {\"ulhxutpyxfnwihpnxbpl_output_flat_value_label_0\": 0.563, \"ulhxutpyxfnwihpnxbpl_output_flat_value_label_1\": -0.466, \"ulhxutpyxfnwihpnxbpl_output_flat_value_label_2\": -0.448}, \"ulhxutpyxfnwihpnxbpl_input_node_15_content\": {\"ulhxutpyxfnwihpnxbpl_output_flat_value_label_0\": 0.563, \"ulhxutpyxfnwihpnxbpl_output_flat_value_label_1\": -0.466, \"ulhxutpyxfnwihpnxbpl_output_flat_value_label_2\": -0.448}, \"ulhxutpyxfnwihpnxbpl_input_node_16_content\": {\"ulhxutpyxfnwihpnxbpl_output_flat_value_label_0\": -0.0, \"ulhxutpyxfnwihpnxbpl_output_flat_value_label_1\": -0.0, \"ulhxutpyxfnwihpnxbpl_output_flat_value_label_2\": 0.0}, \"ulhxutpyxfnwihpnxbpl_input_node_17_content\": {\"ulhxutpyxfnwihpnxbpl_output_flat_value_label_0\": 0.739, \"ulhxutpyxfnwihpnxbpl_output_flat_value_label_1\": -0.587, \"ulhxutpyxfnwihpnxbpl_output_flat_value_label_2\": -0.494}, \"ulhxutpyxfnwihpnxbpl_input_node_18_content\": {\"ulhxutpyxfnwihpnxbpl_output_flat_value_label_0\": 0.739, \"ulhxutpyxfnwihpnxbpl_output_flat_value_label_1\": -0.587, \"ulhxutpyxfnwihpnxbpl_output_flat_value_label_2\": -0.494}, \"ulhxutpyxfnwihpnxbpl_input_node_19_content\": {\"ulhxutpyxfnwihpnxbpl_output_flat_value_label_0\": 0.739, \"ulhxutpyxfnwihpnxbpl_output_flat_value_label_1\": -0.587, \"ulhxutpyxfnwihpnxbpl_output_flat_value_label_2\": -0.494}, \"ulhxutpyxfnwihpnxbpl_input_node_20_content\": {\"ulhxutpyxfnwihpnxbpl_output_flat_value_label_0\": 0.739, \"ulhxutpyxfnwihpnxbpl_output_flat_value_label_1\": -0.587, \"ulhxutpyxfnwihpnxbpl_output_flat_value_label_2\": -0.494}, \"ulhxutpyxfnwihpnxbpl_input_node_21_content\": {\"ulhxutpyxfnwihpnxbpl_output_flat_value_label_0\": 0.739, \"ulhxutpyxfnwihpnxbpl_output_flat_value_label_1\": -0.587, \"ulhxutpyxfnwihpnxbpl_output_flat_value_label_2\": -0.494}, \"ulhxutpyxfnwihpnxbpl_input_node_22_content\": {\"ulhxutpyxfnwihpnxbpl_output_flat_value_label_0\": 0.739, \"ulhxutpyxfnwihpnxbpl_output_flat_value_label_1\": -0.587, \"ulhxutpyxfnwihpnxbpl_output_flat_value_label_2\": -0.494}, \"ulhxutpyxfnwihpnxbpl_input_node_23_content\": {\"ulhxutpyxfnwihpnxbpl_output_flat_value_label_0\": 0.739, \"ulhxutpyxfnwihpnxbpl_output_flat_value_label_1\": -0.587, \"ulhxutpyxfnwihpnxbpl_output_flat_value_label_2\": -0.494}, \"ulhxutpyxfnwihpnxbpl_input_node_24_content\": {\"ulhxutpyxfnwihpnxbpl_output_flat_value_label_0\": 0.739, \"ulhxutpyxfnwihpnxbpl_output_flat_value_label_1\": -0.587, \"ulhxutpyxfnwihpnxbpl_output_flat_value_label_2\": -0.494}, \"ulhxutpyxfnwihpnxbpl_input_node_25_content\": {\"ulhxutpyxfnwihpnxbpl_output_flat_value_label_0\": 0.739, \"ulhxutpyxfnwihpnxbpl_output_flat_value_label_1\": -0.587, \"ulhxutpyxfnwihpnxbpl_output_flat_value_label_2\": -0.494}, \"ulhxutpyxfnwihpnxbpl_input_node_26_content\": {\"ulhxutpyxfnwihpnxbpl_output_flat_value_label_0\": -0.0, \"ulhxutpyxfnwihpnxbpl_output_flat_value_label_1\": 0.0, \"ulhxutpyxfnwihpnxbpl_output_flat_value_label_2\": -0.0}, \"ulhxutpyxfnwihpnxbpl_output_flat_token_0\": {\"ulhxutpyxfnwihpnxbpl_input_node_39_label\": \"-0.079/4\", \"ulhxutpyxfnwihpnxbpl_input_node_29_label\": \"0.095/2\", \"ulhxutpyxfnwihpnxbpl_input_node_30_label\": \"-1.566/2\", \"ulhxutpyxfnwihpnxbpl_input_node_31_label\": \"0.713/2\", \"ulhxutpyxfnwihpnxbpl_input_node_32_label\": \"1.251/2\", \"ulhxutpyxfnwihpnxbpl_input_node_44_label\": \"2.253/4\", \"ulhxutpyxfnwihpnxbpl_input_node_16_label\": \"-0.0\", \"ulhxutpyxfnwihpnxbpl_input_node_48_label\": \"6.65/9\", \"ulhxutpyxfnwihpnxbpl_input_node_26_label\": \"-0.0\"}, \"ulhxutpyxfnwihpnxbpl_output_flat_token_1\": {\"ulhxutpyxfnwihpnxbpl_input_node_39_label\": \"0.295/4\", \"ulhxutpyxfnwihpnxbpl_input_node_29_label\": \"-0.091/2\", \"ulhxutpyxfnwihpnxbpl_input_node_30_label\": \"1.045/2\", \"ulhxutpyxfnwihpnxbpl_input_node_31_label\": \"-0.51/2\", \"ulhxutpyxfnwihpnxbpl_input_node_32_label\": \"-0.94/2\", \"ulhxutpyxfnwihpnxbpl_input_node_44_label\": \"-1.864/4\", \"ulhxutpyxfnwihpnxbpl_input_node_16_label\": \"-0.0\", \"ulhxutpyxfnwihpnxbpl_input_node_48_label\": \"-5.286/9\", \"ulhxutpyxfnwihpnxbpl_input_node_26_label\": \"0.0\"}, \"ulhxutpyxfnwihpnxbpl_output_flat_token_2\": {\"ulhxutpyxfnwihpnxbpl_input_node_39_label\": \"-0.97/4\", \"ulhxutpyxfnwihpnxbpl_input_node_29_label\": \"-0.125/2\", \"ulhxutpyxfnwihpnxbpl_input_node_30_label\": \"0.513/2\", \"ulhxutpyxfnwihpnxbpl_input_node_31_label\": \"-0.774/2\", \"ulhxutpyxfnwihpnxbpl_input_node_32_label\": \"-1.265/2\", \"ulhxutpyxfnwihpnxbpl_input_node_44_label\": \"-1.791/4\", \"ulhxutpyxfnwihpnxbpl_input_node_16_label\": \"0.0\", \"ulhxutpyxfnwihpnxbpl_input_node_48_label\": \"-4.445/9\", \"ulhxutpyxfnwihpnxbpl_input_node_26_label\": \"-0.0\"}}\n",
       " token_id_to_node_id_mapping_ulhxutpyxfnwihpnxbpl = {\"ulhxutpyxfnwihpnxbpl_output_flat_token_0\": {\"ulhxutpyxfnwihpnxbpl_input_node_0_content\": \"ulhxutpyxfnwihpnxbpl_input_node_39_content\", \"ulhxutpyxfnwihpnxbpl_input_node_1_content\": \"ulhxutpyxfnwihpnxbpl_input_node_39_content\", \"ulhxutpyxfnwihpnxbpl_input_node_2_content\": \"ulhxutpyxfnwihpnxbpl_input_node_39_content\", \"ulhxutpyxfnwihpnxbpl_input_node_3_content\": \"ulhxutpyxfnwihpnxbpl_input_node_39_content\", \"ulhxutpyxfnwihpnxbpl_input_node_4_content\": \"ulhxutpyxfnwihpnxbpl_input_node_29_content\", \"ulhxutpyxfnwihpnxbpl_input_node_5_content\": \"ulhxutpyxfnwihpnxbpl_input_node_29_content\", \"ulhxutpyxfnwihpnxbpl_input_node_6_content\": \"ulhxutpyxfnwihpnxbpl_input_node_30_content\", \"ulhxutpyxfnwihpnxbpl_input_node_7_content\": \"ulhxutpyxfnwihpnxbpl_input_node_30_content\", \"ulhxutpyxfnwihpnxbpl_input_node_8_content\": \"ulhxutpyxfnwihpnxbpl_input_node_31_content\", \"ulhxutpyxfnwihpnxbpl_input_node_9_content\": \"ulhxutpyxfnwihpnxbpl_input_node_31_content\", \"ulhxutpyxfnwihpnxbpl_input_node_10_content\": \"ulhxutpyxfnwihpnxbpl_input_node_32_content\", \"ulhxutpyxfnwihpnxbpl_input_node_11_content\": \"ulhxutpyxfnwihpnxbpl_input_node_32_content\", \"ulhxutpyxfnwihpnxbpl_input_node_12_content\": \"ulhxutpyxfnwihpnxbpl_input_node_44_content\", \"ulhxutpyxfnwihpnxbpl_input_node_13_content\": \"ulhxutpyxfnwihpnxbpl_input_node_44_content\", \"ulhxutpyxfnwihpnxbpl_input_node_14_content\": \"ulhxutpyxfnwihpnxbpl_input_node_44_content\", \"ulhxutpyxfnwihpnxbpl_input_node_15_content\": \"ulhxutpyxfnwihpnxbpl_input_node_44_content\", \"ulhxutpyxfnwihpnxbpl_input_node_16_content\": \"ulhxutpyxfnwihpnxbpl_input_node_16_content\", \"ulhxutpyxfnwihpnxbpl_input_node_17_content\": \"ulhxutpyxfnwihpnxbpl_input_node_48_content\", \"ulhxutpyxfnwihpnxbpl_input_node_18_content\": \"ulhxutpyxfnwihpnxbpl_input_node_48_content\", \"ulhxutpyxfnwihpnxbpl_input_node_19_content\": \"ulhxutpyxfnwihpnxbpl_input_node_48_content\", \"ulhxutpyxfnwihpnxbpl_input_node_20_content\": \"ulhxutpyxfnwihpnxbpl_input_node_48_content\", \"ulhxutpyxfnwihpnxbpl_input_node_21_content\": \"ulhxutpyxfnwihpnxbpl_input_node_48_content\", \"ulhxutpyxfnwihpnxbpl_input_node_22_content\": \"ulhxutpyxfnwihpnxbpl_input_node_48_content\", \"ulhxutpyxfnwihpnxbpl_input_node_23_content\": \"ulhxutpyxfnwihpnxbpl_input_node_48_content\", \"ulhxutpyxfnwihpnxbpl_input_node_24_content\": \"ulhxutpyxfnwihpnxbpl_input_node_48_content\", \"ulhxutpyxfnwihpnxbpl_input_node_25_content\": \"ulhxutpyxfnwihpnxbpl_input_node_48_content\", \"ulhxutpyxfnwihpnxbpl_input_node_26_content\": \"ulhxutpyxfnwihpnxbpl_input_node_26_content\"}, \"ulhxutpyxfnwihpnxbpl_output_flat_token_1\": {\"ulhxutpyxfnwihpnxbpl_input_node_0_content\": \"ulhxutpyxfnwihpnxbpl_input_node_39_content\", \"ulhxutpyxfnwihpnxbpl_input_node_1_content\": \"ulhxutpyxfnwihpnxbpl_input_node_39_content\", \"ulhxutpyxfnwihpnxbpl_input_node_2_content\": \"ulhxutpyxfnwihpnxbpl_input_node_39_content\", \"ulhxutpyxfnwihpnxbpl_input_node_3_content\": \"ulhxutpyxfnwihpnxbpl_input_node_39_content\", \"ulhxutpyxfnwihpnxbpl_input_node_4_content\": \"ulhxutpyxfnwihpnxbpl_input_node_29_content\", \"ulhxutpyxfnwihpnxbpl_input_node_5_content\": \"ulhxutpyxfnwihpnxbpl_input_node_29_content\", \"ulhxutpyxfnwihpnxbpl_input_node_6_content\": \"ulhxutpyxfnwihpnxbpl_input_node_30_content\", \"ulhxutpyxfnwihpnxbpl_input_node_7_content\": \"ulhxutpyxfnwihpnxbpl_input_node_30_content\", \"ulhxutpyxfnwihpnxbpl_input_node_8_content\": \"ulhxutpyxfnwihpnxbpl_input_node_31_content\", \"ulhxutpyxfnwihpnxbpl_input_node_9_content\": \"ulhxutpyxfnwihpnxbpl_input_node_31_content\", \"ulhxutpyxfnwihpnxbpl_input_node_10_content\": \"ulhxutpyxfnwihpnxbpl_input_node_32_content\", \"ulhxutpyxfnwihpnxbpl_input_node_11_content\": \"ulhxutpyxfnwihpnxbpl_input_node_32_content\", \"ulhxutpyxfnwihpnxbpl_input_node_12_content\": \"ulhxutpyxfnwihpnxbpl_input_node_44_content\", \"ulhxutpyxfnwihpnxbpl_input_node_13_content\": \"ulhxutpyxfnwihpnxbpl_input_node_44_content\", \"ulhxutpyxfnwihpnxbpl_input_node_14_content\": \"ulhxutpyxfnwihpnxbpl_input_node_44_content\", \"ulhxutpyxfnwihpnxbpl_input_node_15_content\": \"ulhxutpyxfnwihpnxbpl_input_node_44_content\", \"ulhxutpyxfnwihpnxbpl_input_node_16_content\": \"ulhxutpyxfnwihpnxbpl_input_node_16_content\", \"ulhxutpyxfnwihpnxbpl_input_node_17_content\": \"ulhxutpyxfnwihpnxbpl_input_node_48_content\", \"ulhxutpyxfnwihpnxbpl_input_node_18_content\": \"ulhxutpyxfnwihpnxbpl_input_node_48_content\", \"ulhxutpyxfnwihpnxbpl_input_node_19_content\": \"ulhxutpyxfnwihpnxbpl_input_node_48_content\", \"ulhxutpyxfnwihpnxbpl_input_node_20_content\": \"ulhxutpyxfnwihpnxbpl_input_node_48_content\", \"ulhxutpyxfnwihpnxbpl_input_node_21_content\": \"ulhxutpyxfnwihpnxbpl_input_node_48_content\", \"ulhxutpyxfnwihpnxbpl_input_node_22_content\": \"ulhxutpyxfnwihpnxbpl_input_node_48_content\", \"ulhxutpyxfnwihpnxbpl_input_node_23_content\": \"ulhxutpyxfnwihpnxbpl_input_node_48_content\", \"ulhxutpyxfnwihpnxbpl_input_node_24_content\": \"ulhxutpyxfnwihpnxbpl_input_node_48_content\", \"ulhxutpyxfnwihpnxbpl_input_node_25_content\": \"ulhxutpyxfnwihpnxbpl_input_node_48_content\", \"ulhxutpyxfnwihpnxbpl_input_node_26_content\": \"ulhxutpyxfnwihpnxbpl_input_node_26_content\"}, \"ulhxutpyxfnwihpnxbpl_output_flat_token_2\": {\"ulhxutpyxfnwihpnxbpl_input_node_0_content\": \"ulhxutpyxfnwihpnxbpl_input_node_39_content\", \"ulhxutpyxfnwihpnxbpl_input_node_1_content\": \"ulhxutpyxfnwihpnxbpl_input_node_39_content\", \"ulhxutpyxfnwihpnxbpl_input_node_2_content\": \"ulhxutpyxfnwihpnxbpl_input_node_39_content\", \"ulhxutpyxfnwihpnxbpl_input_node_3_content\": \"ulhxutpyxfnwihpnxbpl_input_node_39_content\", \"ulhxutpyxfnwihpnxbpl_input_node_4_content\": \"ulhxutpyxfnwihpnxbpl_input_node_29_content\", \"ulhxutpyxfnwihpnxbpl_input_node_5_content\": \"ulhxutpyxfnwihpnxbpl_input_node_29_content\", \"ulhxutpyxfnwihpnxbpl_input_node_6_content\": \"ulhxutpyxfnwihpnxbpl_input_node_30_content\", \"ulhxutpyxfnwihpnxbpl_input_node_7_content\": \"ulhxutpyxfnwihpnxbpl_input_node_30_content\", \"ulhxutpyxfnwihpnxbpl_input_node_8_content\": \"ulhxutpyxfnwihpnxbpl_input_node_31_content\", \"ulhxutpyxfnwihpnxbpl_input_node_9_content\": \"ulhxutpyxfnwihpnxbpl_input_node_31_content\", \"ulhxutpyxfnwihpnxbpl_input_node_10_content\": \"ulhxutpyxfnwihpnxbpl_input_node_32_content\", \"ulhxutpyxfnwihpnxbpl_input_node_11_content\": \"ulhxutpyxfnwihpnxbpl_input_node_32_content\", \"ulhxutpyxfnwihpnxbpl_input_node_12_content\": \"ulhxutpyxfnwihpnxbpl_input_node_44_content\", \"ulhxutpyxfnwihpnxbpl_input_node_13_content\": \"ulhxutpyxfnwihpnxbpl_input_node_44_content\", \"ulhxutpyxfnwihpnxbpl_input_node_14_content\": \"ulhxutpyxfnwihpnxbpl_input_node_44_content\", \"ulhxutpyxfnwihpnxbpl_input_node_15_content\": \"ulhxutpyxfnwihpnxbpl_input_node_44_content\", \"ulhxutpyxfnwihpnxbpl_input_node_16_content\": \"ulhxutpyxfnwihpnxbpl_input_node_16_content\", \"ulhxutpyxfnwihpnxbpl_input_node_17_content\": \"ulhxutpyxfnwihpnxbpl_input_node_48_content\", \"ulhxutpyxfnwihpnxbpl_input_node_18_content\": \"ulhxutpyxfnwihpnxbpl_input_node_48_content\", \"ulhxutpyxfnwihpnxbpl_input_node_19_content\": \"ulhxutpyxfnwihpnxbpl_input_node_48_content\", \"ulhxutpyxfnwihpnxbpl_input_node_20_content\": \"ulhxutpyxfnwihpnxbpl_input_node_48_content\", \"ulhxutpyxfnwihpnxbpl_input_node_21_content\": \"ulhxutpyxfnwihpnxbpl_input_node_48_content\", \"ulhxutpyxfnwihpnxbpl_input_node_22_content\": \"ulhxutpyxfnwihpnxbpl_input_node_48_content\", \"ulhxutpyxfnwihpnxbpl_input_node_23_content\": \"ulhxutpyxfnwihpnxbpl_input_node_48_content\", \"ulhxutpyxfnwihpnxbpl_input_node_24_content\": \"ulhxutpyxfnwihpnxbpl_input_node_48_content\", \"ulhxutpyxfnwihpnxbpl_input_node_25_content\": \"ulhxutpyxfnwihpnxbpl_input_node_48_content\", \"ulhxutpyxfnwihpnxbpl_input_node_26_content\": \"ulhxutpyxfnwihpnxbpl_input_node_26_content\"}}\n",
       "</script> \n",
       " \n",
       "          </div>\n",
       "      </div>\n",
       "    </div>\n",
       "    </html>\n",
       "    "
      ],
      "text/plain": [
       "<IPython.core.display.HTML object>"
      ]
     },
     "metadata": {},
     "output_type": "display_data"
    }
   ],
   "source": [
    "shap.plots.text(shap_values)"
   ]
  },
  {
   "cell_type": "markdown",
   "id": "italian-martin",
   "metadata": {},
   "source": [
    "## Input Partition Tree - Dendrogram"
   ]
  },
  {
   "cell_type": "code",
   "execution_count": 11,
   "id": "radical-harris",
   "metadata": {},
   "outputs": [],
   "source": [
    "from scipy.cluster.hierarchy import dendrogram, linkage\n",
    "from matplotlib import pyplot as plt"
   ]
  },
  {
   "cell_type": "code",
   "execution_count": 12,
   "id": "directed-seattle",
   "metadata": {},
   "outputs": [],
   "source": [
    "# internal code manipulates cluster matrix with negative values\n",
    "# to graph cluster matrix in dendrogram, need to clean by ensuring distances are increasing \n",
    "def clean_cluster(Z):\n",
    "    if Z.min() < 0:\n",
    "        Z[:, 2] += abs(Z.min()) + 1\n",
    "    for i in range(1, len(Z)):\n",
    "        if Z[i][2] < Z[i-1][2]: # distance at index 2\n",
    "            Z[i][2] = Z[i-1][2]\n",
    "    Z[-1][2] = Z[-2][2] + 10 # last row's distance is extremely large, so make it a more reasonable value"
   ]
  },
  {
   "cell_type": "code",
   "execution_count": 13,
   "id": "homeless-foundation",
   "metadata": {},
   "outputs": [
    {
     "name": "stdout",
     "output_type": "stream",
     "text": [
      "[[ 0.  1.  1.  2.]\n",
      " [ 2.  3. 14.  2.]\n",
      " [ 4.  5. 14.  2.]\n",
      " [ 6.  7. 14.  2.]\n",
      " [ 8.  9. 14.  2.]\n",
      " [10. 11. 14.  2.]\n",
      " [12. 13. 14.  2.]\n",
      " [17. 18. 14.  2.]\n",
      " [19. 20. 14.  2.]\n",
      " [21. 22. 14.  2.]\n",
      " [23. 24. 14.  2.]\n",
      " [33. 14. 15.  3.]\n",
      " [27. 28. 16.  4.]\n",
      " [29. 30. 16.  4.]\n",
      " [31. 32. 16.  4.]\n",
      " [34. 35. 16.  4.]\n",
      " [36. 37. 16.  4.]\n",
      " [38. 15. 16.  4.]\n",
      " [43. 25. 16.  5.]\n",
      " [39. 40. 20.  8.]\n",
      " [41. 44. 20.  8.]\n",
      " [42. 45. 20.  9.]\n",
      " [46. 47. 28. 16.]\n",
      " [48. 26. 42. 10.]\n",
      " [49. 16. 49. 17.]\n",
      " [51. 50. 59. 27.]]\n"
     ]
    }
   ],
   "source": [
    "Z = shap_values[0].abs.clustering\n",
    "clean_cluster(Z)\n",
    "print(Z)"
   ]
  },
  {
   "cell_type": "code",
   "execution_count": 14,
   "id": "honey-difference",
   "metadata": {},
   "outputs": [
    {
     "name": "stdout",
     "output_type": "stream",
     "text": [
      "[' ', 'A ', 'boy ', 'is ', 'jumping ', 'on ', 'skate ', 'board ', 'in ', 'the ', 'middle ', 'of ', 'a ', 'red ', 'bridge ', '. ', '</s> ', '</s> ', 'The ', 'boy ', 'sk ', 'ates ', 'down ', 'the ', 'sidewalk ', '. ', ' ']\n"
     ]
    }
   ],
   "source": [
    "# clean labels of unusal characters\n",
    "labels_arr = []\n",
    "for token in shap_values[0].data:\n",
    "    if token[0] == 'Ġ':\n",
    "        labels_arr.append(token[1:])\n",
    "    else:\n",
    "        labels_arr.append(token)\n",
    "print(labels_arr)\n"
   ]
  },
  {
   "cell_type": "code",
   "execution_count": 15,
   "id": "empty-divide",
   "metadata": {
    "scrolled": true
   },
   "outputs": [
    {
     "data": {
      "image/png": "[encoded data removed]",
      "text/plain": [
       "<Figure size 2592x720 with 1 Axes>"
      ]
     },
     "metadata": {
      "needs_background": "light"
     },
     "output_type": "display_data"
    }
   ],
   "source": [
    "fig = plt.figure(figsize=(len(Z) + 10, 10))\n",
    "dn = dendrogram(Z, labels=labels_arr)\n",
    "plt.show()"
   ]
  },
  {
   "cell_type": "markdown",
   "id": "further-sword",
   "metadata": {},
   "source": [
    "## Benchmarking"
   ]
  },
  {
   "cell_type": "code",
   "execution_count": 16,
   "id": "mature-submission",
   "metadata": {},
   "outputs": [],
   "source": [
    "sort_order = 'positive'\n",
    "perturbation = 'keep'"
   ]
  },
  {
   "cell_type": "code",
   "execution_count": 17,
   "id": "sublime-reason",
   "metadata": {},
   "outputs": [],
   "source": [
    "from shap import benchmark"
   ]
  },
  {
   "cell_type": "code",
   "execution_count": 18,
   "id": "breeding-roulette",
   "metadata": {},
   "outputs": [
    {
     "data": {
      "image/png": "[encoded data removed]",
      "text/plain": [
       "<Figure size 432x288 with 1 Axes>"
      ]
     },
     "metadata": {
      "needs_background": "light"
     },
     "output_type": "display_data"
    }
   ],
   "source": [
    "sper = benchmark.perturbation.SequentialPerturbation(explainer.model, explainer.masker, sort_order, perturbation)\n",
    "xs, ys, auc = sper.model_score(shap_values, [decoded])\n",
    "sper.plot(xs, ys, auc)"
   ]
  },
  {
   "cell_type": "code",
   "execution_count": null,
   "id": "liked-lounge",
   "metadata": {},
   "outputs": [],
   "source": []
  }
 ],
 "metadata": {
  "kernelspec": {
   "display_name": "Python 3",
   "language": "python",
   "name": "python3"
  },
  "language_info": {
   "codemirror_mode": {
    "name": "ipython",
    "version": 3
   },
   "file_extension": ".py",
   "mimetype": "text/x-python",
   "name": "python",
   "nbconvert_exporter": "python",
   "pygments_lexer": "ipython3",
   "version": "3.7.9"
  }
 },
 "nbformat": 4,
 "nbformat_minor": 5
}

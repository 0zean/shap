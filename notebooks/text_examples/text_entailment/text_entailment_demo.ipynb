{
 "cells": [
  {
   "cell_type": "markdown",
   "id": "desirable-above",
   "metadata": {},
   "source": [
    "# Multi-Input Text Explanation: Textual Entailment with Facebook BART\n"
   ]
  },
  {
   "cell_type": "markdown",
   "id": "packed-capitol",
   "metadata": {},
   "source": [
    "This notebook demonstrates how to get explanations for the output of the Facebook BART model trained on the mnli dataset and used for textual entailment. \n",
    "\n",
    "BART: https://huggingface.co/facebook/bart-large-mnli\n"
   ]
  },
  {
   "cell_type": "code",
   "execution_count": 1,
   "id": "prescription-terrorist",
   "metadata": {},
   "outputs": [],
   "source": [
    "import numpy as np\n",
    "from transformers import AutoModelForSequenceClassification, AutoTokenizer\n",
    "import shap\n",
    "from datasets import load_dataset"
   ]
  },
  {
   "cell_type": "markdown",
   "id": "written-network",
   "metadata": {},
   "source": [
    "### Load model and tokenizer"
   ]
  },
  {
   "cell_type": "code",
   "execution_count": 2,
   "id": "meaning-terminology",
   "metadata": {},
   "outputs": [
    {
     "name": "stderr",
     "output_type": "stream",
     "text": [
      "Some weights of the model checkpoint at facebook/bart-large-mnli were not used when initializing BartForSequenceClassification: ['model.encoder.version', 'model.decoder.version']\n",
      "- This IS expected if you are initializing BartForSequenceClassification from the checkpoint of a model trained on another task or with another architecture (e.g. initializing a BertForSequenceClassification model from a BertForPreTraining model).\n",
      "- This IS NOT expected if you are initializing BartForSequenceClassification from the checkpoint of a model that you expect to be exactly identical (initializing a BertForSequenceClassification model from a BertForSequenceClassification model).\n"
     ]
    }
   ],
   "source": [
    "model = AutoModelForSequenceClassification.from_pretrained(\"facebook/bart-large-mnli\")\n",
    "tokenizer = AutoTokenizer.from_pretrained(\"facebook/bart-large-mnli\")"
   ]
  },
  {
   "cell_type": "code",
   "execution_count": 3,
   "id": "general-sessions",
   "metadata": {},
   "outputs": [
    {
     "name": "stderr",
     "output_type": "stream",
     "text": [
      "Reusing dataset snli (C:\\Users\\v-jocelinsu\\.cache\\huggingface\\datasets\\snli\\plain_text\\1.0.0\\bb1102591c6230bd78813e229d5dd4c7fbf4fc478cec28f298761eb69e5b537c)\n"
     ]
    },
    {
     "name": "stdout",
     "output_type": "stream",
     "text": [
      "Premise: A boy is jumping on skateboard in the middle of a red bridge.\n",
      "Hypothesis: The boy skates down the sidewalk.\n",
      "The true label is: contradiction\n"
     ]
    }
   ],
   "source": [
    "# load dataset\n",
    "dataset = load_dataset(\"snli\")\n",
    "snli_label_map = {0: 'entailment', 1: 'neutral', 2: 'contradiction'}\n",
    "example_ind = 6\n",
    "premise, hypothesis, label = ( dataset['train']['premise'][example_ind], \n",
    "                              dataset['train']['hypothesis'][example_ind], \n",
    "                              dataset['train']['label'][example_ind] )\n",
    "print('Premise: ' + premise)\n",
    "print('Hypothesis: ' + hypothesis)\n",
    "true_label = snli_label_map[label]\n",
    "print('The true label is: {true_label}'.format(true_label=true_label))"
   ]
  },
  {
   "cell_type": "code",
   "execution_count": 4,
   "id": "concerned-sequence",
   "metadata": {
    "scrolled": true
   },
   "outputs": [
    {
     "name": "stdout",
     "output_type": "stream",
     "text": [
      "contradiction probability: 99.95%\n",
      "neutral probability: 0.03%\n",
      "entailment probability: 0.02%\n"
     ]
    }
   ],
   "source": [
    "# test model\n",
    "input_ids = tokenizer.encode(premise, hypothesis, return_tensors='pt')\n",
    "logits = model(input_ids)[0]\n",
    "probs = logits.softmax(dim=1)\n",
    "\n",
    "bart_label_map = {0: 'contradiction', 1: 'neutral', 2: 'entailment'}\n",
    "for i, lab in bart_label_map.items():\n",
    "    print('{lab} probability: {prob:0.2f}%'.format(lab=lab, prob=probs[0][i] * 100))\n"
   ]
  },
  {
   "cell_type": "markdown",
   "id": "ready-majority",
   "metadata": {},
   "source": [
    "## Run shap values"
   ]
  },
  {
   "cell_type": "code",
   "execution_count": 5,
   "id": "sunrise-modification",
   "metadata": {},
   "outputs": [],
   "source": [
    "import scipy as sp\n",
    "import torch\n",
    "\n",
    "# wrapper function for model\n",
    "# takes in masked string which is in the form: premise <separator token(s)> hypothesis \n",
    "def f(x): \n",
    "    outputs = []\n",
    "    for _x in x:\n",
    "        encoding = torch.tensor([tokenizer.encode(_x)])\n",
    "        output = model(encoding)[0].detach().cpu().numpy() \n",
    "        outputs.append(output[0])\n",
    "    outputs = np.array(outputs)\n",
    "    scores = (np.exp(outputs).T / np.exp(outputs).sum(-1)).T\n",
    "    val = sp.special.logit(scores)\n",
    "    return val"
   ]
  },
  {
   "cell_type": "code",
   "execution_count": 6,
   "id": "realistic-survivor",
   "metadata": {},
   "outputs": [
    {
     "name": "stderr",
     "output_type": "stream",
     "text": [
      "explainers.Partition is still in an alpha state, so use with caution...\n"
     ]
    }
   ],
   "source": [
    "# Construct explainer\n",
    "bart_labels = ['contradiction', 'entailment', 'neutral']    \n",
    "explainer = shap.Explainer(f, tokenizer, output_names=bart_labels)"
   ]
  },
  {
   "cell_type": "code",
   "execution_count": 7,
   "id": "cardiovascular-deposit",
   "metadata": {},
   "outputs": [
    {
     "name": "stdout",
     "output_type": "stream",
     "text": [
      "A boy is jumping on skateboard in the middle of a red bridge.</s></s>The boy skates down the sidewalk.\n"
     ]
    }
   ],
   "source": [
    "# encode then decode premise, hypothesis to get concatenated sentences\n",
    "encoded = tokenizer(premise, hypothesis)['input_ids'][1:-1] # ignore the start and end tokens, since tokenizer will naturally add them\n",
    "decoded = tokenizer.decode(encoded)\n",
    "print(decoded)"
   ]
  },
  {
   "cell_type": "code",
   "execution_count": 8,
   "id": "retired-scheduling",
   "metadata": {},
   "outputs": [
    {
     "data": {
      "application/vnd.jupyter.widget-view+json": {
       "model_id": "",
       "version_major": 2,
       "version_minor": 0
      },
      "text/plain": [
       "HBox(children=(FloatProgress(value=0.0, max=48.0), HTML(value='')))"
      ]
     },
     "metadata": {},
     "output_type": "display_data"
    },
    {
     "name": "stderr",
     "output_type": "stream",
     "text": [
      "Partition explainer: 2it [00:15, 15.78s/it]                                                                            "
     ]
    },
    {
     "name": "stdout",
     "output_type": "stream",
     "text": [
      ".values =\n",
      "array([[[-0.03363032,  0.0686294 , -0.19693293],\n",
      "        [-0.03363032,  0.0686294 , -0.19693293],\n",
      "        [-0.03363032,  0.0686294 , -0.19693293],\n",
      "        [-0.03363032,  0.0686294 , -0.19693293],\n",
      "        [-0.35364948,  0.24342118,  0.05151178],\n",
      "        [-0.35364948,  0.24342118,  0.05151178],\n",
      "        [-0.35364948,  0.24342118,  0.05151178],\n",
      "        [-0.35364948,  0.24342118,  0.05151178],\n",
      "        [ 0.49053347, -0.37554936, -0.49134417],\n",
      "        [ 0.49053347, -0.37554936, -0.49134417],\n",
      "        [ 0.49053347, -0.37554936, -0.49134417],\n",
      "        [ 0.49053347, -0.37554936, -0.49134417],\n",
      "        [ 0.56363714, -0.45293712, -0.46598371],\n",
      "        [ 0.56363714, -0.45293712, -0.46598371],\n",
      "        [ 0.56363714, -0.45293712, -0.46598371],\n",
      "        [ 0.56363714, -0.45293712, -0.46598371],\n",
      "        [ 0.        ,  0.        ,  0.        ],\n",
      "        [ 0.2765862 , -0.33341086, -0.00374915],\n",
      "        [ 0.2765862 , -0.33341086, -0.00374915],\n",
      "        [ 0.2765862 , -0.33341086, -0.00374915],\n",
      "        [ 0.2765862 , -0.33341086, -0.00374915],\n",
      "        [ 1.11942109, -0.83424252, -0.87465686],\n",
      "        [ 1.11942109, -0.83424252, -0.87465686],\n",
      "        [ 1.40467014, -1.02040398, -1.22031389],\n",
      "        [ 1.40467014, -1.02040398, -1.22031389],\n",
      "        [ 0.49575316, -0.24273262, -0.23971747],\n",
      "        [ 0.        ,  0.        ,  0.        ]]])\n",
      "\n",
      ".base_values =\n",
      "array([[-1.6151073 , -0.76175129,  0.06343345]])\n",
      "\n",
      ".data =\n",
      "array([['', 'A ', 'boy ', 'is ', 'jumping ', 'on ', 'skate', 'board ',\n",
      "        'in ', 'the ', 'middle ', 'of ', 'a ', 'red ', 'bridge', '.',\n",
      "        '</s>', '</s>', 'The ', 'boy ', 'sk', 'ates ', 'down ', 'the ',\n",
      "        'sidewalk', '.', '']], dtype='<U8')\n"
     ]
    },
    {
     "name": "stderr",
     "output_type": "stream",
     "text": [
      "\n"
     ]
    }
   ],
   "source": [
    "shap_values = explainer([decoded]) # wrap input in list\n",
    "print(shap_values)"
   ]
  },
  {
   "cell_type": "markdown",
   "id": "declared-contractor",
   "metadata": {},
   "source": [
    "## Explanation Visualization"
   ]
  },
  {
   "cell_type": "code",
   "execution_count": 9,
   "id": "automated-dating",
   "metadata": {},
   "outputs": [
    {
     "data": {
      "text/html": [
       "<br/><b>0th instance:</b><br/>"
      ],
      "text/plain": [
       "<IPython.core.display.HTML object>"
      ]
     },
     "metadata": {},
     "output_type": "display_data"
    },
    {
     "data": {
      "text/html": [
       "\n",
       "    <script>\n",
       "        function selectVizType_snambutiawclphucexlu(selectObject) {\n",
       "\n",
       "          /* Hide all viz */\n",
       "\n",
       "            var elements = document.getElementsByClassName(\"snambutiawclphucexlu_viz_container\")\n",
       "          for (var i = 0; i < elements.length; i++){\n",
       "              elements[i].style.display = 'none';\n",
       "          }\n",
       "\n",
       "          var value = selectObject.value;\n",
       "          if ( value === \"saliency-plot\" ){\n",
       "              document.getElementById('snambutiawclphucexlu_saliency_plot_container').style.display  = \"block\";\n",
       "          }\n",
       "          else if ( value === \"heatmap\" ) {\n",
       "              document.getElementById('snambutiawclphucexlu_heatmap_container').style.display  = \"block\";\n",
       "          }\n",
       "        }\n",
       "    </script>\n",
       "    \n",
       "    <html>\n",
       "    <div id=\"snambutiawclphucexlu_viz_container\">\n",
       "      <div id=\"snambutiawclphucexlu_viz_header\" style=\"padding:15px;border-style:solid;margin:5px;font-family:sans-serif;font-weight:bold;\">\n",
       "        Visualization Type:\n",
       "        <select name=\"viz_type\" id=\"snambutiawclphucexlu_viz_type\" onchange=\"selectVizType_snambutiawclphucexlu(this)\">\n",
       "          <option value=\"heatmap\" selected=\"selected\">Input/Output - Heatmap</option>\n",
       "          <option value=\"saliency-plot\">Saliency Plot</option>\n",
       "        </select>\n",
       "      </div>\n",
       "      <div id=\"snambutiawclphucexlu_content\" style=\"padding:15px;border-style:solid;margin:5px;\">\n",
       "          <div id = \"snambutiawclphucexlu_saliency_plot_container\" class=\"snambutiawclphucexlu_viz_container\" style=\"display:none\"> \n",
       "              \n",
       "        <div id=\"qzudtoieoqdiywnvbzam_saliency_plot\" class=\"qzudtoieoqdiywnvbzam_viz_content\">\n",
       "            <div style=\"margin:5px;font-family:sans-serif;font-weight:bold;\">\n",
       "                <span style=\"font-size: 20px;\"> Saliency Plot </span>\n",
       "                <br>\n",
       "                x-axis: Output Text\n",
       "                <br>\n",
       "                y-axis: Input Text\n",
       "            </div>\n",
       "            <table border = \"1\" cellpadding = \"5\" cellspacing = \"5\" style=\"overflow-x:scroll;display:block;\"><tr><th></th><th>A boy is </th><th>jumping on skateboard </th><th>in the middle of </th><th>a red bridge.</th><th>&lt;/s&gt;</th><th>&lt;/s&gt;The boy sk</th><th>ates down the sidewalk</th><th>.</th><th></th></tr><tr><th>contradiction</th><th style=\"background:rgba(30.0, 136.0, 229.0, 0.022539116656763607)\">-0.135</th><th style=\"background:rgba(30.0, 136.0, 229.0, 0.27478708655179246)\">-1.415</th><th style=\"background:rgba(255.0, 13.0, 87.0, 0.3851455733808676)\">1.962</th><th style=\"background:rgba(255.0, 13.0, 87.0, 0.44820756585462457)\">2.255</th><th style=\"background:rgba(230.2941176470614, 26.505882352939775, 102.59215686274348, 0.0)\">0.0</th><th style=\"background:rgba(255.0, 13.0, 87.0, 0.219607843137255)\">1.106</th><th style=\"background:rgba(255.0, 13.0, 87.0, 1.0)\">5.048</th><th style=\"background:rgba(255.0, 13.0, 87.0, 0.09348385818974037)\">0.496</th><th style=\"background:rgba(230.2941176470614, 26.505882352939775, 102.59215686274348, 0.0)\">0.0</th></tr><tr><th>entailment</th><th style=\"background:rgba(255.0, 13.0, 87.0, 0.04618736383442265)\">0.275</th><th style=\"background:rgba(255.0, 13.0, 87.0, 0.1880768469003763)\">0.974</th><th style=\"background:rgba(30.0, 136.0, 229.0, 0.2984353337294513)\">-1.502</th><th style=\"background:rgba(30.0, 136.0, 229.0, 0.35361457714398903)\">-1.812</th><th style=\"background:rgba(230.2941176470614, 26.505882352939775, 102.59215686274348, 0.0)\">0.0</th><th style=\"background:rgba(30.0, 136.0, 229.0, 0.25902158843335304)\">-1.334</th><th style=\"background:rgba(30.0, 136.0, 229.0, 0.7398692810457517)\">-3.709</th><th style=\"background:rgba(30.0, 136.0, 229.0, 0.04618736383442258)\">-0.243</th><th style=\"background:rgba(230.2941176470614, 26.505882352939775, 102.59215686274348, 0.0)\">0.0</th></tr><tr><th>neutral</th><th style=\"background:rgba(30.0, 136.0, 229.0, 0.14866310160427798)\">-0.788</th><th style=\"background:rgba(255.0, 13.0, 87.0, 0.03830461477520289)\">0.206</th><th style=\"background:rgba(30.0, 136.0, 229.0, 0.3851455733808674)\">-1.965</th><th style=\"background:rgba(30.0, 136.0, 229.0, 0.36938007526242816)\">-1.864</th><th style=\"background:rgba(230.2941176470614, 26.505882352939775, 102.59215686274348, 0.0)\">0.0</th><th style=\"background:rgba(54.70588235294111, 122.49411764705886, 213.40784313725496, 0.0)\">-0.015</th><th style=\"background:rgba(30.0, 136.0, 229.0, 0.8344622697563874)\">-4.19</th><th style=\"background:rgba(30.0, 136.0, 229.0, 0.04618736383442258)\">-0.24</th><th style=\"background:rgba(230.2941176470614, 26.505882352939775, 102.59215686274348, 0.0)\">0.0</th></tr></table>\n",
       "        </div>\n",
       "    \n",
       "          </div>\n",
       "          \n",
       "          <div id = \"snambutiawclphucexlu_heatmap_container\" class=\"snambutiawclphucexlu_viz_container\">\n",
       "              \n",
       "        <div id=\"cenmcsxpkthjngxsufze_heatmap\" class=\"cenmcsxpkthjngxsufze_viz_content\">\n",
       "          <div id=\"cenmcsxpkthjngxsufze_heatmap_header\" style=\"padding:15px;margin:5px;font-family:sans-serif;font-weight:bold;\">\n",
       "            <div style=\"display:inline\">\n",
       "              <span style=\"font-size: 20px;\"> Input/Output - Heatmap </span>\n",
       "            </div>\n",
       "            <div style=\"display:inline;float:right\">\n",
       "              Layout :\n",
       "              <select name=\"alignment\" id=\"cenmcsxpkthjngxsufze_alignment\" onchange=\"selectAlignment_cenmcsxpkthjngxsufze(this)\">\n",
       "                <option value=\"left-right\" selected=\"selected\">Left/Right</option>\n",
       "                <option value=\"top-bottom\">Top/Bottom</option>\n",
       "              </select>\n",
       "            </div>\n",
       "          </div>\n",
       "          <div id=\"cenmcsxpkthjngxsufze_heatmap_content\" style=\"display:flex;\">\n",
       "            <div id=\"cenmcsxpkthjngxsufze_input_container\" style=\"padding:15px;border-style:solid;margin:5px;flex:1;\">\n",
       "              <div id=\"cenmcsxpkthjngxsufze_input_header\" style=\"margin:5px;font-weight:bold;font-family:sans-serif;margin-bottom:10px\">\n",
       "                Input Text\n",
       "              </div>\n",
       "              <div id=\"cenmcsxpkthjngxsufze_input_content\" style=\"margin:5px;font-family:sans-serif;\">\n",
       "                  <div id=\"cenmcsxpkthjngxsufze_input_node_52_container\" style=\"display:inline;text-align:center\"><div id=\"cenmcsxpkthjngxsufze_input_node_52_label\" style=\"display:none; padding-top: 0px; font-size:12px;\"></div><div id=\"cenmcsxpkthjngxsufze_input_node_52_content\" style=\"display:inline;\"><div id=\"cenmcsxpkthjngxsufze_input_node_51_container\" style=\"display:inline;text-align:center\"><div id=\"cenmcsxpkthjngxsufze_input_node_51_label\" style=\"display:none; padding-top: 0px; font-size:12px;\"></div><div id=\"cenmcsxpkthjngxsufze_input_node_51_content\" style=\"display:inline;\"><div id=\"cenmcsxpkthjngxsufze_input_node_49_container\" style=\"display:inline;text-align:center\"><div id=\"cenmcsxpkthjngxsufze_input_node_49_label\" style=\"display:none; padding-top: 0px; font-size:12px;\"></div><div id=\"cenmcsxpkthjngxsufze_input_node_49_content\" style=\"display:inline;\"><div id=\"cenmcsxpkthjngxsufze_input_node_46_container\" style=\"display:inline;text-align:center\"><div id=\"cenmcsxpkthjngxsufze_input_node_46_label\" style=\"display:none; padding-top: 0px; font-size:12px;\"></div><div id=\"cenmcsxpkthjngxsufze_input_node_46_content\" style=\"display:inline;\"><div id=\"cenmcsxpkthjngxsufze_input_node_39_container\" style=\"display:inline;text-align:center\"><div id=\"cenmcsxpkthjngxsufze_input_node_39_label\" style=\"display:none; padding-top: 0px; font-size:12px;\"></div><div id=\"cenmcsxpkthjngxsufze_input_node_39_content\" style=\"display:inline;\"><div id=\"cenmcsxpkthjngxsufze_input_node_27_container\" style=\"display:inline;text-align:center\"><div id=\"cenmcsxpkthjngxsufze_input_node_27_label\" style=\"display:none; padding-top: 0px; font-size:12px;\"></div><div id=\"cenmcsxpkthjngxsufze_input_node_27_content\" style=\"display:inline;\"><div id=\"cenmcsxpkthjngxsufze_input_node_0_container\" style=\"display:inline;text-align:center\"><div id=\"cenmcsxpkthjngxsufze_input_node_0_label\" style=\"display:none; padding-top: 0px; font-size:12px;\"></div><div id=\"cenmcsxpkthjngxsufze_input_node_0_content\"style='display: inline; background:transparent; border-radius: 3px; padding: 0px;cursor: default;cursor: pointer;'onmouseover=\"onMouseHoverFlat_cenmcsxpkthjngxsufze(this.id)\" onmouseout=\"onMouseOutFlat_cenmcsxpkthjngxsufze(this.id)\" onclick=\"onMouseClickFlat_cenmcsxpkthjngxsufze(this.id)\" ></div></div><div id=\"cenmcsxpkthjngxsufze_input_node_1_container\" style=\"display:inline;text-align:center\"><div id=\"cenmcsxpkthjngxsufze_input_node_1_label\" style=\"display:none; padding-top: 0px; font-size:12px;\"></div><div id=\"cenmcsxpkthjngxsufze_input_node_1_content\"style='display: inline; background:transparent; border-radius: 3px; padding: 0px;cursor: default;cursor: pointer;'onmouseover=\"onMouseHoverFlat_cenmcsxpkthjngxsufze(this.id)\" onmouseout=\"onMouseOutFlat_cenmcsxpkthjngxsufze(this.id)\" onclick=\"onMouseClickFlat_cenmcsxpkthjngxsufze(this.id)\" >A </div></div></div></div><div id=\"cenmcsxpkthjngxsufze_input_node_28_container\" style=\"display:inline;text-align:center\"><div id=\"cenmcsxpkthjngxsufze_input_node_28_label\" style=\"display:none; padding-top: 0px; font-size:12px;\"></div><div id=\"cenmcsxpkthjngxsufze_input_node_28_content\" style=\"display:inline;\"><div id=\"cenmcsxpkthjngxsufze_input_node_2_container\" style=\"display:inline;text-align:center\"><div id=\"cenmcsxpkthjngxsufze_input_node_2_label\" style=\"display:none; padding-top: 0px; font-size:12px;\"></div><div id=\"cenmcsxpkthjngxsufze_input_node_2_content\"style='display: inline; background:transparent; border-radius: 3px; padding: 0px;cursor: default;cursor: pointer;'onmouseover=\"onMouseHoverFlat_cenmcsxpkthjngxsufze(this.id)\" onmouseout=\"onMouseOutFlat_cenmcsxpkthjngxsufze(this.id)\" onclick=\"onMouseClickFlat_cenmcsxpkthjngxsufze(this.id)\" >boy </div></div><div id=\"cenmcsxpkthjngxsufze_input_node_3_container\" style=\"display:inline;text-align:center\"><div id=\"cenmcsxpkthjngxsufze_input_node_3_label\" style=\"display:none; padding-top: 0px; font-size:12px;\"></div><div id=\"cenmcsxpkthjngxsufze_input_node_3_content\"style='display: inline; background:transparent; border-radius: 3px; padding: 0px;cursor: default;cursor: pointer;'onmouseover=\"onMouseHoverFlat_cenmcsxpkthjngxsufze(this.id)\" onmouseout=\"onMouseOutFlat_cenmcsxpkthjngxsufze(this.id)\" onclick=\"onMouseClickFlat_cenmcsxpkthjngxsufze(this.id)\" >is </div></div></div></div></div></div><div id=\"cenmcsxpkthjngxsufze_input_node_40_container\" style=\"display:inline;text-align:center\"><div id=\"cenmcsxpkthjngxsufze_input_node_40_label\" style=\"display:none; padding-top: 0px; font-size:12px;\"></div><div id=\"cenmcsxpkthjngxsufze_input_node_40_content\" style=\"display:inline;\"><div id=\"cenmcsxpkthjngxsufze_input_node_29_container\" style=\"display:inline;text-align:center\"><div id=\"cenmcsxpkthjngxsufze_input_node_29_label\" style=\"display:none; padding-top: 0px; font-size:12px;\"></div><div id=\"cenmcsxpkthjngxsufze_input_node_29_content\" style=\"display:inline;\"><div id=\"cenmcsxpkthjngxsufze_input_node_4_container\" style=\"display:inline;text-align:center\"><div id=\"cenmcsxpkthjngxsufze_input_node_4_label\" style=\"display:none; padding-top: 0px; font-size:12px;\"></div><div id=\"cenmcsxpkthjngxsufze_input_node_4_content\"style='display: inline; background:transparent; border-radius: 3px; padding: 0px;cursor: default;cursor: pointer;'onmouseover=\"onMouseHoverFlat_cenmcsxpkthjngxsufze(this.id)\" onmouseout=\"onMouseOutFlat_cenmcsxpkthjngxsufze(this.id)\" onclick=\"onMouseClickFlat_cenmcsxpkthjngxsufze(this.id)\" >jumping </div></div><div id=\"cenmcsxpkthjngxsufze_input_node_5_container\" style=\"display:inline;text-align:center\"><div id=\"cenmcsxpkthjngxsufze_input_node_5_label\" style=\"display:none; padding-top: 0px; font-size:12px;\"></div><div id=\"cenmcsxpkthjngxsufze_input_node_5_content\"style='display: inline; background:transparent; border-radius: 3px; padding: 0px;cursor: default;cursor: pointer;'onmouseover=\"onMouseHoverFlat_cenmcsxpkthjngxsufze(this.id)\" onmouseout=\"onMouseOutFlat_cenmcsxpkthjngxsufze(this.id)\" onclick=\"onMouseClickFlat_cenmcsxpkthjngxsufze(this.id)\" >on </div></div></div></div><div id=\"cenmcsxpkthjngxsufze_input_node_30_container\" style=\"display:inline;text-align:center\"><div id=\"cenmcsxpkthjngxsufze_input_node_30_label\" style=\"display:none; padding-top: 0px; font-size:12px;\"></div><div id=\"cenmcsxpkthjngxsufze_input_node_30_content\" style=\"display:inline;\"><div id=\"cenmcsxpkthjngxsufze_input_node_6_container\" style=\"display:inline;text-align:center\"><div id=\"cenmcsxpkthjngxsufze_input_node_6_label\" style=\"display:none; padding-top: 0px; font-size:12px;\"></div><div id=\"cenmcsxpkthjngxsufze_input_node_6_content\"style='display: inline; background:transparent; border-radius: 3px; padding: 0px;cursor: default;cursor: pointer;'onmouseover=\"onMouseHoverFlat_cenmcsxpkthjngxsufze(this.id)\" onmouseout=\"onMouseOutFlat_cenmcsxpkthjngxsufze(this.id)\" onclick=\"onMouseClickFlat_cenmcsxpkthjngxsufze(this.id)\" >skate</div></div><div id=\"cenmcsxpkthjngxsufze_input_node_7_container\" style=\"display:inline;text-align:center\"><div id=\"cenmcsxpkthjngxsufze_input_node_7_label\" style=\"display:none; padding-top: 0px; font-size:12px;\"></div><div id=\"cenmcsxpkthjngxsufze_input_node_7_content\"style='display: inline; background:transparent; border-radius: 3px; padding: 0px;cursor: default;cursor: pointer;'onmouseover=\"onMouseHoverFlat_cenmcsxpkthjngxsufze(this.id)\" onmouseout=\"onMouseOutFlat_cenmcsxpkthjngxsufze(this.id)\" onclick=\"onMouseClickFlat_cenmcsxpkthjngxsufze(this.id)\" >board </div></div></div></div></div></div></div></div><div id=\"cenmcsxpkthjngxsufze_input_node_47_container\" style=\"display:inline;text-align:center\"><div id=\"cenmcsxpkthjngxsufze_input_node_47_label\" style=\"display:none; padding-top: 0px; font-size:12px;\"></div><div id=\"cenmcsxpkthjngxsufze_input_node_47_content\" style=\"display:inline;\"><div id=\"cenmcsxpkthjngxsufze_input_node_41_container\" style=\"display:inline;text-align:center\"><div id=\"cenmcsxpkthjngxsufze_input_node_41_label\" style=\"display:none; padding-top: 0px; font-size:12px;\"></div><div id=\"cenmcsxpkthjngxsufze_input_node_41_content\" style=\"display:inline;\"><div id=\"cenmcsxpkthjngxsufze_input_node_31_container\" style=\"display:inline;text-align:center\"><div id=\"cenmcsxpkthjngxsufze_input_node_31_label\" style=\"display:none; padding-top: 0px; font-size:12px;\"></div><div id=\"cenmcsxpkthjngxsufze_input_node_31_content\" style=\"display:inline;\"><div id=\"cenmcsxpkthjngxsufze_input_node_8_container\" style=\"display:inline;text-align:center\"><div id=\"cenmcsxpkthjngxsufze_input_node_8_label\" style=\"display:none; padding-top: 0px; font-size:12px;\"></div><div id=\"cenmcsxpkthjngxsufze_input_node_8_content\"style='display: inline; background:transparent; border-radius: 3px; padding: 0px;cursor: default;cursor: pointer;'onmouseover=\"onMouseHoverFlat_cenmcsxpkthjngxsufze(this.id)\" onmouseout=\"onMouseOutFlat_cenmcsxpkthjngxsufze(this.id)\" onclick=\"onMouseClickFlat_cenmcsxpkthjngxsufze(this.id)\" >in </div></div><div id=\"cenmcsxpkthjngxsufze_input_node_9_container\" style=\"display:inline;text-align:center\"><div id=\"cenmcsxpkthjngxsufze_input_node_9_label\" style=\"display:none; padding-top: 0px; font-size:12px;\"></div><div id=\"cenmcsxpkthjngxsufze_input_node_9_content\"style='display: inline; background:transparent; border-radius: 3px; padding: 0px;cursor: default;cursor: pointer;'onmouseover=\"onMouseHoverFlat_cenmcsxpkthjngxsufze(this.id)\" onmouseout=\"onMouseOutFlat_cenmcsxpkthjngxsufze(this.id)\" onclick=\"onMouseClickFlat_cenmcsxpkthjngxsufze(this.id)\" >the </div></div></div></div><div id=\"cenmcsxpkthjngxsufze_input_node_32_container\" style=\"display:inline;text-align:center\"><div id=\"cenmcsxpkthjngxsufze_input_node_32_label\" style=\"display:none; padding-top: 0px; font-size:12px;\"></div><div id=\"cenmcsxpkthjngxsufze_input_node_32_content\" style=\"display:inline;\"><div id=\"cenmcsxpkthjngxsufze_input_node_10_container\" style=\"display:inline;text-align:center\"><div id=\"cenmcsxpkthjngxsufze_input_node_10_label\" style=\"display:none; padding-top: 0px; font-size:12px;\"></div><div id=\"cenmcsxpkthjngxsufze_input_node_10_content\"style='display: inline; background:transparent; border-radius: 3px; padding: 0px;cursor: default;cursor: pointer;'onmouseover=\"onMouseHoverFlat_cenmcsxpkthjngxsufze(this.id)\" onmouseout=\"onMouseOutFlat_cenmcsxpkthjngxsufze(this.id)\" onclick=\"onMouseClickFlat_cenmcsxpkthjngxsufze(this.id)\" >middle </div></div><div id=\"cenmcsxpkthjngxsufze_input_node_11_container\" style=\"display:inline;text-align:center\"><div id=\"cenmcsxpkthjngxsufze_input_node_11_label\" style=\"display:none; padding-top: 0px; font-size:12px;\"></div><div id=\"cenmcsxpkthjngxsufze_input_node_11_content\"style='display: inline; background:transparent; border-radius: 3px; padding: 0px;cursor: default;cursor: pointer;'onmouseover=\"onMouseHoverFlat_cenmcsxpkthjngxsufze(this.id)\" onmouseout=\"onMouseOutFlat_cenmcsxpkthjngxsufze(this.id)\" onclick=\"onMouseClickFlat_cenmcsxpkthjngxsufze(this.id)\" >of </div></div></div></div></div></div><div id=\"cenmcsxpkthjngxsufze_input_node_44_container\" style=\"display:inline;text-align:center\"><div id=\"cenmcsxpkthjngxsufze_input_node_44_label\" style=\"display:none; padding-top: 0px; font-size:12px;\"></div><div id=\"cenmcsxpkthjngxsufze_input_node_44_content\" style=\"display:inline;\"><div id=\"cenmcsxpkthjngxsufze_input_node_38_container\" style=\"display:inline;text-align:center\"><div id=\"cenmcsxpkthjngxsufze_input_node_38_label\" style=\"display:none; padding-top: 0px; font-size:12px;\"></div><div id=\"cenmcsxpkthjngxsufze_input_node_38_content\" style=\"display:inline;\"><div id=\"cenmcsxpkthjngxsufze_input_node_33_container\" style=\"display:inline;text-align:center\"><div id=\"cenmcsxpkthjngxsufze_input_node_33_label\" style=\"display:none; padding-top: 0px; font-size:12px;\"></div><div id=\"cenmcsxpkthjngxsufze_input_node_33_content\" style=\"display:inline;\"><div id=\"cenmcsxpkthjngxsufze_input_node_12_container\" style=\"display:inline;text-align:center\"><div id=\"cenmcsxpkthjngxsufze_input_node_12_label\" style=\"display:none; padding-top: 0px; font-size:12px;\"></div><div id=\"cenmcsxpkthjngxsufze_input_node_12_content\"style='display: inline; background:transparent; border-radius: 3px; padding: 0px;cursor: default;cursor: pointer;'onmouseover=\"onMouseHoverFlat_cenmcsxpkthjngxsufze(this.id)\" onmouseout=\"onMouseOutFlat_cenmcsxpkthjngxsufze(this.id)\" onclick=\"onMouseClickFlat_cenmcsxpkthjngxsufze(this.id)\" >a </div></div><div id=\"cenmcsxpkthjngxsufze_input_node_13_container\" style=\"display:inline;text-align:center\"><div id=\"cenmcsxpkthjngxsufze_input_node_13_label\" style=\"display:none; padding-top: 0px; font-size:12px;\"></div><div id=\"cenmcsxpkthjngxsufze_input_node_13_content\"style='display: inline; background:transparent; border-radius: 3px; padding: 0px;cursor: default;cursor: pointer;'onmouseover=\"onMouseHoverFlat_cenmcsxpkthjngxsufze(this.id)\" onmouseout=\"onMouseOutFlat_cenmcsxpkthjngxsufze(this.id)\" onclick=\"onMouseClickFlat_cenmcsxpkthjngxsufze(this.id)\" >red </div></div></div></div><div id=\"cenmcsxpkthjngxsufze_input_node_14_container\" style=\"display:inline;text-align:center\"><div id=\"cenmcsxpkthjngxsufze_input_node_14_label\" style=\"display:none; padding-top: 0px; font-size:12px;\"></div><div id=\"cenmcsxpkthjngxsufze_input_node_14_content\"style='display: inline; background:transparent; border-radius: 3px; padding: 0px;cursor: default;cursor: pointer;'onmouseover=\"onMouseHoverFlat_cenmcsxpkthjngxsufze(this.id)\" onmouseout=\"onMouseOutFlat_cenmcsxpkthjngxsufze(this.id)\" onclick=\"onMouseClickFlat_cenmcsxpkthjngxsufze(this.id)\" >bridge</div></div></div></div><div id=\"cenmcsxpkthjngxsufze_input_node_15_container\" style=\"display:inline;text-align:center\"><div id=\"cenmcsxpkthjngxsufze_input_node_15_label\" style=\"display:none; padding-top: 0px; font-size:12px;\"></div><div id=\"cenmcsxpkthjngxsufze_input_node_15_content\"style='display: inline; background:transparent; border-radius: 3px; padding: 0px;cursor: default;cursor: pointer;'onmouseover=\"onMouseHoverFlat_cenmcsxpkthjngxsufze(this.id)\" onmouseout=\"onMouseOutFlat_cenmcsxpkthjngxsufze(this.id)\" onclick=\"onMouseClickFlat_cenmcsxpkthjngxsufze(this.id)\" >.</div></div></div></div></div></div></div></div><div id=\"cenmcsxpkthjngxsufze_input_node_16_container\" style=\"display:inline;text-align:center\"><div id=\"cenmcsxpkthjngxsufze_input_node_16_label\" style=\"display:none; padding-top: 0px; font-size:12px;\"></div><div id=\"cenmcsxpkthjngxsufze_input_node_16_content\"style='display: inline; background:transparent; border-radius: 3px; padding: 0px;cursor: default;cursor: pointer;'onmouseover=\"onMouseHoverFlat_cenmcsxpkthjngxsufze(this.id)\" onmouseout=\"onMouseOutFlat_cenmcsxpkthjngxsufze(this.id)\" onclick=\"onMouseClickFlat_cenmcsxpkthjngxsufze(this.id)\" >&lt;/s&gt;</div></div></div></div><div id=\"cenmcsxpkthjngxsufze_input_node_50_container\" style=\"display:inline;text-align:center\"><div id=\"cenmcsxpkthjngxsufze_input_node_50_label\" style=\"display:none; padding-top: 0px; font-size:12px;\"></div><div id=\"cenmcsxpkthjngxsufze_input_node_50_content\" style=\"display:inline;\"><div id=\"cenmcsxpkthjngxsufze_input_node_48_container\" style=\"display:inline;text-align:center\"><div id=\"cenmcsxpkthjngxsufze_input_node_48_label\" style=\"display:none; padding-top: 0px; font-size:12px;\"></div><div id=\"cenmcsxpkthjngxsufze_input_node_48_content\" style=\"display:inline;\"><div id=\"cenmcsxpkthjngxsufze_input_node_42_container\" style=\"display:inline;text-align:center\"><div id=\"cenmcsxpkthjngxsufze_input_node_42_label\" style=\"display:none; padding-top: 0px; font-size:12px;\"></div><div id=\"cenmcsxpkthjngxsufze_input_node_42_content\" style=\"display:inline;\"><div id=\"cenmcsxpkthjngxsufze_input_node_34_container\" style=\"display:inline;text-align:center\"><div id=\"cenmcsxpkthjngxsufze_input_node_34_label\" style=\"display:none; padding-top: 0px; font-size:12px;\"></div><div id=\"cenmcsxpkthjngxsufze_input_node_34_content\" style=\"display:inline;\"><div id=\"cenmcsxpkthjngxsufze_input_node_17_container\" style=\"display:inline;text-align:center\"><div id=\"cenmcsxpkthjngxsufze_input_node_17_label\" style=\"display:none; padding-top: 0px; font-size:12px;\"></div><div id=\"cenmcsxpkthjngxsufze_input_node_17_content\"style='display: inline; background:transparent; border-radius: 3px; padding: 0px;cursor: default;cursor: pointer;'onmouseover=\"onMouseHoverFlat_cenmcsxpkthjngxsufze(this.id)\" onmouseout=\"onMouseOutFlat_cenmcsxpkthjngxsufze(this.id)\" onclick=\"onMouseClickFlat_cenmcsxpkthjngxsufze(this.id)\" >&lt;/s&gt;</div></div><div id=\"cenmcsxpkthjngxsufze_input_node_18_container\" style=\"display:inline;text-align:center\"><div id=\"cenmcsxpkthjngxsufze_input_node_18_label\" style=\"display:none; padding-top: 0px; font-size:12px;\"></div><div id=\"cenmcsxpkthjngxsufze_input_node_18_content\"style='display: inline; background:transparent; border-radius: 3px; padding: 0px;cursor: default;cursor: pointer;'onmouseover=\"onMouseHoverFlat_cenmcsxpkthjngxsufze(this.id)\" onmouseout=\"onMouseOutFlat_cenmcsxpkthjngxsufze(this.id)\" onclick=\"onMouseClickFlat_cenmcsxpkthjngxsufze(this.id)\" >The </div></div></div></div><div id=\"cenmcsxpkthjngxsufze_input_node_35_container\" style=\"display:inline;text-align:center\"><div id=\"cenmcsxpkthjngxsufze_input_node_35_label\" style=\"display:none; padding-top: 0px; font-size:12px;\"></div><div id=\"cenmcsxpkthjngxsufze_input_node_35_content\" style=\"display:inline;\"><div id=\"cenmcsxpkthjngxsufze_input_node_19_container\" style=\"display:inline;text-align:center\"><div id=\"cenmcsxpkthjngxsufze_input_node_19_label\" style=\"display:none; padding-top: 0px; font-size:12px;\"></div><div id=\"cenmcsxpkthjngxsufze_input_node_19_content\"style='display: inline; background:transparent; border-radius: 3px; padding: 0px;cursor: default;cursor: pointer;'onmouseover=\"onMouseHoverFlat_cenmcsxpkthjngxsufze(this.id)\" onmouseout=\"onMouseOutFlat_cenmcsxpkthjngxsufze(this.id)\" onclick=\"onMouseClickFlat_cenmcsxpkthjngxsufze(this.id)\" >boy </div></div><div id=\"cenmcsxpkthjngxsufze_input_node_20_container\" style=\"display:inline;text-align:center\"><div id=\"cenmcsxpkthjngxsufze_input_node_20_label\" style=\"display:none; padding-top: 0px; font-size:12px;\"></div><div id=\"cenmcsxpkthjngxsufze_input_node_20_content\"style='display: inline; background:transparent; border-radius: 3px; padding: 0px;cursor: default;cursor: pointer;'onmouseover=\"onMouseHoverFlat_cenmcsxpkthjngxsufze(this.id)\" onmouseout=\"onMouseOutFlat_cenmcsxpkthjngxsufze(this.id)\" onclick=\"onMouseClickFlat_cenmcsxpkthjngxsufze(this.id)\" >sk</div></div></div></div></div></div><div id=\"cenmcsxpkthjngxsufze_input_node_45_container\" style=\"display:inline;text-align:center\"><div id=\"cenmcsxpkthjngxsufze_input_node_45_label\" style=\"display:none; padding-top: 0px; font-size:12px;\"></div><div id=\"cenmcsxpkthjngxsufze_input_node_45_content\" style=\"display:inline;\"><div id=\"cenmcsxpkthjngxsufze_input_node_43_container\" style=\"display:inline;text-align:center\"><div id=\"cenmcsxpkthjngxsufze_input_node_43_label\" style=\"display:none; padding-top: 0px; font-size:12px;\"></div><div id=\"cenmcsxpkthjngxsufze_input_node_43_content\" style=\"display:inline;\"><div id=\"cenmcsxpkthjngxsufze_input_node_36_container\" style=\"display:inline;text-align:center\"><div id=\"cenmcsxpkthjngxsufze_input_node_36_label\" style=\"display:none; padding-top: 0px; font-size:12px;\"></div><div id=\"cenmcsxpkthjngxsufze_input_node_36_content\" style=\"display:inline;\"><div id=\"cenmcsxpkthjngxsufze_input_node_21_container\" style=\"display:inline;text-align:center\"><div id=\"cenmcsxpkthjngxsufze_input_node_21_label\" style=\"display:none; padding-top: 0px; font-size:12px;\"></div><div id=\"cenmcsxpkthjngxsufze_input_node_21_content\"style='display: inline; background:transparent; border-radius: 3px; padding: 0px;cursor: default;cursor: pointer;'onmouseover=\"onMouseHoverFlat_cenmcsxpkthjngxsufze(this.id)\" onmouseout=\"onMouseOutFlat_cenmcsxpkthjngxsufze(this.id)\" onclick=\"onMouseClickFlat_cenmcsxpkthjngxsufze(this.id)\" >ates </div></div><div id=\"cenmcsxpkthjngxsufze_input_node_22_container\" style=\"display:inline;text-align:center\"><div id=\"cenmcsxpkthjngxsufze_input_node_22_label\" style=\"display:none; padding-top: 0px; font-size:12px;\"></div><div id=\"cenmcsxpkthjngxsufze_input_node_22_content\"style='display: inline; background:transparent; border-radius: 3px; padding: 0px;cursor: default;cursor: pointer;'onmouseover=\"onMouseHoverFlat_cenmcsxpkthjngxsufze(this.id)\" onmouseout=\"onMouseOutFlat_cenmcsxpkthjngxsufze(this.id)\" onclick=\"onMouseClickFlat_cenmcsxpkthjngxsufze(this.id)\" >down </div></div></div></div><div id=\"cenmcsxpkthjngxsufze_input_node_37_container\" style=\"display:inline;text-align:center\"><div id=\"cenmcsxpkthjngxsufze_input_node_37_label\" style=\"display:none; padding-top: 0px; font-size:12px;\"></div><div id=\"cenmcsxpkthjngxsufze_input_node_37_content\" style=\"display:inline;\"><div id=\"cenmcsxpkthjngxsufze_input_node_23_container\" style=\"display:inline;text-align:center\"><div id=\"cenmcsxpkthjngxsufze_input_node_23_label\" style=\"display:none; padding-top: 0px; font-size:12px;\"></div><div id=\"cenmcsxpkthjngxsufze_input_node_23_content\"style='display: inline; background:transparent; border-radius: 3px; padding: 0px;cursor: default;cursor: pointer;'onmouseover=\"onMouseHoverFlat_cenmcsxpkthjngxsufze(this.id)\" onmouseout=\"onMouseOutFlat_cenmcsxpkthjngxsufze(this.id)\" onclick=\"onMouseClickFlat_cenmcsxpkthjngxsufze(this.id)\" >the </div></div><div id=\"cenmcsxpkthjngxsufze_input_node_24_container\" style=\"display:inline;text-align:center\"><div id=\"cenmcsxpkthjngxsufze_input_node_24_label\" style=\"display:none; padding-top: 0px; font-size:12px;\"></div><div id=\"cenmcsxpkthjngxsufze_input_node_24_content\"style='display: inline; background:transparent; border-radius: 3px; padding: 0px;cursor: default;cursor: pointer;'onmouseover=\"onMouseHoverFlat_cenmcsxpkthjngxsufze(this.id)\" onmouseout=\"onMouseOutFlat_cenmcsxpkthjngxsufze(this.id)\" onclick=\"onMouseClickFlat_cenmcsxpkthjngxsufze(this.id)\" >sidewalk</div></div></div></div></div></div><div id=\"cenmcsxpkthjngxsufze_input_node_25_container\" style=\"display:inline;text-align:center\"><div id=\"cenmcsxpkthjngxsufze_input_node_25_label\" style=\"display:none; padding-top: 0px; font-size:12px;\"></div><div id=\"cenmcsxpkthjngxsufze_input_node_25_content\"style='display: inline; background:transparent; border-radius: 3px; padding: 0px;cursor: default;cursor: pointer;'onmouseover=\"onMouseHoverFlat_cenmcsxpkthjngxsufze(this.id)\" onmouseout=\"onMouseOutFlat_cenmcsxpkthjngxsufze(this.id)\" onclick=\"onMouseClickFlat_cenmcsxpkthjngxsufze(this.id)\" >.</div></div></div></div></div></div><div id=\"cenmcsxpkthjngxsufze_input_node_26_container\" style=\"display:inline;text-align:center\"><div id=\"cenmcsxpkthjngxsufze_input_node_26_label\" style=\"display:none; padding-top: 0px; font-size:12px;\"></div><div id=\"cenmcsxpkthjngxsufze_input_node_26_content\"style='display: inline; background:transparent; border-radius: 3px; padding: 0px;cursor: default;cursor: pointer;'onmouseover=\"onMouseHoverFlat_cenmcsxpkthjngxsufze(this.id)\" onmouseout=\"onMouseOutFlat_cenmcsxpkthjngxsufze(this.id)\" onclick=\"onMouseClickFlat_cenmcsxpkthjngxsufze(this.id)\" ></div></div></div></div></div></div>\n",
       "              </div>\n",
       "            </div>\n",
       "            <div id=\"cenmcsxpkthjngxsufze_output_container\" style=\"padding:15px;border-style:solid;margin:5px;flex:1;\">\n",
       "              <div id=\"cenmcsxpkthjngxsufze_output_header\" style=\"margin:5px;font-weight:bold;font-family:sans-serif;margin-bottom:10px\">\n",
       "                Output Text\n",
       "              </div>\n",
       "              <div id=\"cenmcsxpkthjngxsufze_output_content\" style=\"margin:5px;font-family:sans-serif;\">\n",
       "                  <div style='display:inline; text-align:center;'><div id='cenmcsxpkthjngxsufze_output_flat_value_label_0'style='display:none;color: #999; padding-top: 0px; font-size:12px;'></div><div id='cenmcsxpkthjngxsufze_output_flat_token_0'style='display: inline; background:transparent; border-radius: 3px; padding: 0px;cursor: default;cursor: pointer;'onmouseover=\"onMouseHoverFlat_cenmcsxpkthjngxsufze(this.id)\" onmouseout=\"onMouseOutFlat_cenmcsxpkthjngxsufze(this.id)\" onclick=\"onMouseClickFlat_cenmcsxpkthjngxsufze(this.id)\" >contradiction </div></div><div style='display:inline; text-align:center;'><div id='cenmcsxpkthjngxsufze_output_flat_value_label_1'style='display:none;color: #999; padding-top: 0px; font-size:12px;'></div><div id='cenmcsxpkthjngxsufze_output_flat_token_1'style='display: inline; background:transparent; border-radius: 3px; padding: 0px;cursor: default;cursor: pointer;'onmouseover=\"onMouseHoverFlat_cenmcsxpkthjngxsufze(this.id)\" onmouseout=\"onMouseOutFlat_cenmcsxpkthjngxsufze(this.id)\" onclick=\"onMouseClickFlat_cenmcsxpkthjngxsufze(this.id)\" >entailment </div></div><div style='display:inline; text-align:center;'><div id='cenmcsxpkthjngxsufze_output_flat_value_label_2'style='display:none;color: #999; padding-top: 0px; font-size:12px;'></div><div id='cenmcsxpkthjngxsufze_output_flat_token_2'style='display: inline; background:transparent; border-radius: 3px; padding: 0px;cursor: default;cursor: pointer;'onmouseover=\"onMouseHoverFlat_cenmcsxpkthjngxsufze(this.id)\" onmouseout=\"onMouseOutFlat_cenmcsxpkthjngxsufze(this.id)\" onclick=\"onMouseClickFlat_cenmcsxpkthjngxsufze(this.id)\" >neutral </div></div>\n",
       "              </div>\n",
       "            </div>\n",
       "          </div>\n",
       "        </div>\n",
       "    \n",
       "        <script>\n",
       "            function selectAlignment_cenmcsxpkthjngxsufze(selectObject) {\n",
       "                var value = selectObject.value;\n",
       "                if ( value === \"left-right\" ){\n",
       "                  document.getElementById('cenmcsxpkthjngxsufze_heatmap_content').style.display  = \"flex\";\n",
       "                }\n",
       "                else if ( value === \"top-bottom\" ) {\n",
       "                  document.getElementById('cenmcsxpkthjngxsufze_heatmap_content').style.display  = \"inline\";\n",
       "                }\n",
       "            }\n",
       "            \n",
       "            var cenmcsxpkthjngxsufze_heatmap_flat_state = null;\n",
       "            \n",
       "            function onMouseHoverFlat_cenmcsxpkthjngxsufze(id) {\n",
       "                if (cenmcsxpkthjngxsufze_heatmap_flat_state === null) {\n",
       "                    setBackgroundColors_cenmcsxpkthjngxsufze(id);\n",
       "                    document.getElementById(id).style.backgroundColor  = \"grey\";\n",
       "                }\n",
       "                \n",
       "                if (getIdSide_cenmcsxpkthjngxsufze(id) === 'input' && getIdSide_cenmcsxpkthjngxsufze(cenmcsxpkthjngxsufze_heatmap_flat_state) === 'output'){\n",
       "                \n",
       "                    label_content_id = token_id_to_node_id_mapping_cenmcsxpkthjngxsufze[cenmcsxpkthjngxsufze_heatmap_flat_state][id];\n",
       "                    \n",
       "                    if (document.getElementById(label_content_id).previousElementSibling.style.display == 'none'){\n",
       "                        document.getElementById(label_content_id).style.textShadow = \"0px 0px 1px #000000\";\n",
       "                    }\n",
       "                    \n",
       "                }\n",
       "                \n",
       "            }\n",
       "            \n",
       "            function onMouseOutFlat_cenmcsxpkthjngxsufze(id) {\n",
       "                if (cenmcsxpkthjngxsufze_heatmap_flat_state === null) {\n",
       "                    cleanValuesAndColors_cenmcsxpkthjngxsufze(id);\n",
       "                    document.getElementById(id).style.backgroundColor  = \"transparent\";\n",
       "                }\n",
       "                \n",
       "                if (getIdSide_cenmcsxpkthjngxsufze(id) === 'input' && getIdSide_cenmcsxpkthjngxsufze(cenmcsxpkthjngxsufze_heatmap_flat_state) === 'output'){\n",
       "                \n",
       "                    label_content_id = token_id_to_node_id_mapping_cenmcsxpkthjngxsufze[cenmcsxpkthjngxsufze_heatmap_flat_state][id];\n",
       "                    \n",
       "                    if (document.getElementById(label_content_id).previousElementSibling.style.display == 'none'){\n",
       "                        document.getElementById(label_content_id).style.textShadow = \"inherit\";\n",
       "                    }\n",
       "                    \n",
       "                }\n",
       "                \n",
       "            }\n",
       "\n",
       "            function onMouseClickFlat_cenmcsxpkthjngxsufze(id) {\n",
       "                if (cenmcsxpkthjngxsufze_heatmap_flat_state === id) {\n",
       "                    \n",
       "                    // If the clicked token was already selected\n",
       "                    \n",
       "                    document.getElementById(id).style.backgroundColor  = \"transparent\";\n",
       "                    cleanValuesAndColors_cenmcsxpkthjngxsufze(id);\n",
       "                    cenmcsxpkthjngxsufze_heatmap_flat_state = null;\n",
       "                }\n",
       "                else {\n",
       "                    if (cenmcsxpkthjngxsufze_heatmap_flat_state === null) {\n",
       "                    \n",
       "                        // No token previously selected, new token clicked on\n",
       "                    \n",
       "                        cleanValuesAndColors_cenmcsxpkthjngxsufze(id)\n",
       "                        cenmcsxpkthjngxsufze_heatmap_flat_state = id;\n",
       "                        document.getElementById(id).style.backgroundColor  = \"grey\";\n",
       "                        setLabelValues_cenmcsxpkthjngxsufze(id);\n",
       "                        setBackgroundColors_cenmcsxpkthjngxsufze(id);\n",
       "                    }\n",
       "                    else {\n",
       "                        if (getIdSide_cenmcsxpkthjngxsufze(cenmcsxpkthjngxsufze_heatmap_flat_state) === getIdSide_cenmcsxpkthjngxsufze(id)) {\n",
       "                        \n",
       "                            // User clicked a token on the same side as the currently selected token\n",
       "                            \n",
       "                            cleanValuesAndColors_cenmcsxpkthjngxsufze(cenmcsxpkthjngxsufze_heatmap_flat_state)\n",
       "                            document.getElementById(cenmcsxpkthjngxsufze_heatmap_flat_state).style.backgroundColor  = \"transparent\";\n",
       "                            cenmcsxpkthjngxsufze_heatmap_flat_state = id;\n",
       "                            document.getElementById(id).style.backgroundColor  = \"grey\";\n",
       "                            setLabelValues_cenmcsxpkthjngxsufze(id);\n",
       "                            setBackgroundColors_cenmcsxpkthjngxsufze(id);\n",
       "                        }\n",
       "                        else{\n",
       "                            \n",
       "                            if (getIdSide_cenmcsxpkthjngxsufze(id) === 'input') {\n",
       "                                label_content_id = token_id_to_node_id_mapping_cenmcsxpkthjngxsufze[cenmcsxpkthjngxsufze_heatmap_flat_state][id];\n",
       "                                \n",
       "                                if (document.getElementById(label_content_id).previousElementSibling.style.display == 'none') {\n",
       "                                    document.getElementById(label_content_id).previousElementSibling.style.display = 'block';\n",
       "                                    document.getElementById(label_content_id).parentNode.style.display = 'inline-block';\n",
       "                                    document.getElementById(label_content_id).style.textShadow = \"0px 0px 1px #000000\";\n",
       "                                  }\n",
       "                                else {\n",
       "                                    document.getElementById(label_content_id).previousElementSibling.style.display = 'none';\n",
       "                                    document.getElementById(label_content_id).parentNode.style.display = 'inline';\n",
       "                                    document.getElementById(label_content_id).style.textShadow  = \"inherit\"; \n",
       "                                  }\n",
       "                                \n",
       "                            }\n",
       "                            else {\n",
       "                                if (document.getElementById(id).previousElementSibling.style.display == 'none') {\n",
       "                                    document.getElementById(id).previousElementSibling.style.display = 'block';\n",
       "                                    document.getElementById(id).parentNode.style.display = 'inline-block';\n",
       "                                  }\n",
       "                                else {\n",
       "                                    document.getElementById(id).previousElementSibling.style.display = 'none';\n",
       "                                    document.getElementById(id).parentNode.style.display = 'inline';\n",
       "                                  }\n",
       "                            }\n",
       "                        \n",
       "                        }\n",
       "                    }\n",
       "                \n",
       "                }\n",
       "            }\n",
       "\n",
       "            function setLabelValues_cenmcsxpkthjngxsufze(id) {\n",
       "                for(const token in shap_values_cenmcsxpkthjngxsufze[id]){\n",
       "                    document.getElementById(token).innerHTML = shap_values_cenmcsxpkthjngxsufze[id][token];\n",
       "                    document.getElementById(token).nextElementSibling.title = 'SHAP Value : ' + shap_values_cenmcsxpkthjngxsufze[id][token];\n",
       "                }\n",
       "            }\n",
       "\n",
       "            function setBackgroundColors_cenmcsxpkthjngxsufze(id) {\n",
       "                for(const token in colors_cenmcsxpkthjngxsufze[id]){\n",
       "                    document.getElementById(token).style.backgroundColor  = colors_cenmcsxpkthjngxsufze[id][token];\n",
       "                }\n",
       "            }\n",
       "\n",
       "            function cleanValuesAndColors_cenmcsxpkthjngxsufze(id) {\n",
       "                for(const token in shap_values_cenmcsxpkthjngxsufze[id]){\n",
       "                    document.getElementById(token).innerHTML = \"\";\n",
       "                    document.getElementById(token).nextElementSibling.title = \"\";\n",
       "                }\n",
       "                 for(const token in colors_cenmcsxpkthjngxsufze[id]){\n",
       "                    document.getElementById(token).style.backgroundColor  = \"transparent\";\n",
       "                    document.getElementById(token).previousElementSibling.style.display = 'none';\n",
       "                    document.getElementById(token).parentNode.style.display = 'inline';\n",
       "                    document.getElementById(token).style.textShadow  = \"inherit\"; \n",
       "                }\n",
       "            }\n",
       "            \n",
       "            function getIdSide_cenmcsxpkthjngxsufze(id) {\n",
       "                if (id === null) {\n",
       "                    return 'null'\n",
       "                }\n",
       "                return id.split(\"_\")[1];\n",
       "            }\n",
       "        </script>\n",
       "    <script> colors_cenmcsxpkthjngxsufze = {\"cenmcsxpkthjngxsufze_input_node_0_content\": {\"cenmcsxpkthjngxsufze_output_flat_token_0\": \"rgba(54.70588235294111, 122.49411764705886, 213.40784313725496, 0.0)\", \"cenmcsxpkthjngxsufze_output_flat_token_1\": \"rgba(255.0, 13.0, 87.0, 0.00677361853832443)\", \"cenmcsxpkthjngxsufze_output_flat_token_2\": \"rgba(30.0, 136.0, 229.0, 0.03830461477520309)\"}, \"cenmcsxpkthjngxsufze_input_node_1_content\": {\"cenmcsxpkthjngxsufze_output_flat_token_0\": \"rgba(54.70588235294111, 122.49411764705886, 213.40784313725496, 0.0)\", \"cenmcsxpkthjngxsufze_output_flat_token_1\": \"rgba(255.0, 13.0, 87.0, 0.00677361853832443)\", \"cenmcsxpkthjngxsufze_output_flat_token_2\": \"rgba(30.0, 136.0, 229.0, 0.03830461477520309)\"}, \"cenmcsxpkthjngxsufze_input_node_2_content\": {\"cenmcsxpkthjngxsufze_output_flat_token_0\": \"rgba(54.70588235294111, 122.49411764705886, 213.40784313725496, 0.0)\", \"cenmcsxpkthjngxsufze_output_flat_token_1\": \"rgba(255.0, 13.0, 87.0, 0.00677361853832443)\", \"cenmcsxpkthjngxsufze_output_flat_token_2\": \"rgba(30.0, 136.0, 229.0, 0.03830461477520309)\"}, \"cenmcsxpkthjngxsufze_input_node_3_content\": {\"cenmcsxpkthjngxsufze_output_flat_token_0\": \"rgba(54.70588235294111, 122.49411764705886, 213.40784313725496, 0.0)\", \"cenmcsxpkthjngxsufze_output_flat_token_1\": \"rgba(255.0, 13.0, 87.0, 0.00677361853832443)\", \"cenmcsxpkthjngxsufze_output_flat_token_2\": \"rgba(30.0, 136.0, 229.0, 0.03830461477520309)\"}, \"cenmcsxpkthjngxsufze_input_node_4_content\": {\"cenmcsxpkthjngxsufze_output_flat_token_0\": \"rgba(30.0, 136.0, 229.0, 0.06983561101208147)\", \"cenmcsxpkthjngxsufze_output_flat_token_1\": \"rgba(255.0, 13.0, 87.0, 0.04618736383442265)\", \"cenmcsxpkthjngxsufze_output_flat_token_2\": \"rgba(255.0, 13.0, 87.0, 0.00677361853832443)\"}, \"cenmcsxpkthjngxsufze_input_node_5_content\": {\"cenmcsxpkthjngxsufze_output_flat_token_0\": \"rgba(30.0, 136.0, 229.0, 0.06983561101208147)\", \"cenmcsxpkthjngxsufze_output_flat_token_1\": \"rgba(255.0, 13.0, 87.0, 0.04618736383442265)\", \"cenmcsxpkthjngxsufze_output_flat_token_2\": \"rgba(255.0, 13.0, 87.0, 0.00677361853832443)\"}, \"cenmcsxpkthjngxsufze_input_node_6_content\": {\"cenmcsxpkthjngxsufze_output_flat_token_0\": \"rgba(30.0, 136.0, 229.0, 0.06983561101208147)\", \"cenmcsxpkthjngxsufze_output_flat_token_1\": \"rgba(255.0, 13.0, 87.0, 0.04618736383442265)\", \"cenmcsxpkthjngxsufze_output_flat_token_2\": \"rgba(255.0, 13.0, 87.0, 0.00677361853832443)\"}, \"cenmcsxpkthjngxsufze_input_node_7_content\": {\"cenmcsxpkthjngxsufze_output_flat_token_0\": \"rgba(30.0, 136.0, 229.0, 0.06983561101208147)\", \"cenmcsxpkthjngxsufze_output_flat_token_1\": \"rgba(255.0, 13.0, 87.0, 0.04618736383442265)\", \"cenmcsxpkthjngxsufze_output_flat_token_2\": \"rgba(255.0, 13.0, 87.0, 0.00677361853832443)\"}, \"cenmcsxpkthjngxsufze_input_node_8_content\": {\"cenmcsxpkthjngxsufze_output_flat_token_0\": \"rgba(255.0, 13.0, 87.0, 0.09348385818974037)\", \"cenmcsxpkthjngxsufze_output_flat_token_1\": \"rgba(30.0, 136.0, 229.0, 0.06983561101208147)\", \"cenmcsxpkthjngxsufze_output_flat_token_2\": \"rgba(30.0, 136.0, 229.0, 0.09348385818974048)\"}, \"cenmcsxpkthjngxsufze_input_node_9_content\": {\"cenmcsxpkthjngxsufze_output_flat_token_0\": \"rgba(255.0, 13.0, 87.0, 0.09348385818974037)\", \"cenmcsxpkthjngxsufze_output_flat_token_1\": \"rgba(30.0, 136.0, 229.0, 0.06983561101208147)\", \"cenmcsxpkthjngxsufze_output_flat_token_2\": \"rgba(30.0, 136.0, 229.0, 0.09348385818974048)\"}, \"cenmcsxpkthjngxsufze_input_node_10_content\": {\"cenmcsxpkthjngxsufze_output_flat_token_0\": \"rgba(255.0, 13.0, 87.0, 0.09348385818974037)\", \"cenmcsxpkthjngxsufze_output_flat_token_1\": \"rgba(30.0, 136.0, 229.0, 0.06983561101208147)\", \"cenmcsxpkthjngxsufze_output_flat_token_2\": \"rgba(30.0, 136.0, 229.0, 0.09348385818974048)\"}, \"cenmcsxpkthjngxsufze_input_node_11_content\": {\"cenmcsxpkthjngxsufze_output_flat_token_0\": \"rgba(255.0, 13.0, 87.0, 0.09348385818974037)\", \"cenmcsxpkthjngxsufze_output_flat_token_1\": \"rgba(30.0, 136.0, 229.0, 0.06983561101208147)\", \"cenmcsxpkthjngxsufze_output_flat_token_2\": \"rgba(30.0, 136.0, 229.0, 0.09348385818974048)\"}, \"cenmcsxpkthjngxsufze_input_node_12_content\": {\"cenmcsxpkthjngxsufze_output_flat_token_0\": \"rgba(255.0, 13.0, 87.0, 0.10924935630817992)\", \"cenmcsxpkthjngxsufze_output_flat_token_1\": \"rgba(30.0, 136.0, 229.0, 0.08560110913052085)\", \"cenmcsxpkthjngxsufze_output_flat_token_2\": \"rgba(30.0, 136.0, 229.0, 0.09348385818974048)\"}, \"cenmcsxpkthjngxsufze_input_node_13_content\": {\"cenmcsxpkthjngxsufze_output_flat_token_0\": \"rgba(255.0, 13.0, 87.0, 0.10924935630817992)\", \"cenmcsxpkthjngxsufze_output_flat_token_1\": \"rgba(30.0, 136.0, 229.0, 0.08560110913052085)\", \"cenmcsxpkthjngxsufze_output_flat_token_2\": \"rgba(30.0, 136.0, 229.0, 0.09348385818974048)\"}, \"cenmcsxpkthjngxsufze_input_node_14_content\": {\"cenmcsxpkthjngxsufze_output_flat_token_0\": \"rgba(255.0, 13.0, 87.0, 0.10924935630817992)\", \"cenmcsxpkthjngxsufze_output_flat_token_1\": \"rgba(30.0, 136.0, 229.0, 0.08560110913052085)\", \"cenmcsxpkthjngxsufze_output_flat_token_2\": \"rgba(30.0, 136.0, 229.0, 0.09348385818974048)\"}, \"cenmcsxpkthjngxsufze_input_node_15_content\": {\"cenmcsxpkthjngxsufze_output_flat_token_0\": \"rgba(255.0, 13.0, 87.0, 0.10924935630817992)\", \"cenmcsxpkthjngxsufze_output_flat_token_1\": \"rgba(30.0, 136.0, 229.0, 0.08560110913052085)\", \"cenmcsxpkthjngxsufze_output_flat_token_2\": \"rgba(30.0, 136.0, 229.0, 0.09348385818974048)\"}, \"cenmcsxpkthjngxsufze_input_node_16_content\": {\"cenmcsxpkthjngxsufze_output_flat_token_0\": \"rgba(230.2941176470614, 26.505882352939775, 102.59215686274348, 0.0)\", \"cenmcsxpkthjngxsufze_output_flat_token_1\": \"rgba(230.2941176470614, 26.505882352939775, 102.59215686274348, 0.0)\", \"cenmcsxpkthjngxsufze_output_flat_token_2\": \"rgba(230.2941176470614, 26.505882352939775, 102.59215686274348, 0.0)\"}, \"cenmcsxpkthjngxsufze_input_node_17_content\": {\"cenmcsxpkthjngxsufze_output_flat_token_0\": \"rgba(255.0, 13.0, 87.0, 0.05407011289364243)\", \"cenmcsxpkthjngxsufze_output_flat_token_1\": \"rgba(30.0, 136.0, 229.0, 0.06195286195286191)\", \"cenmcsxpkthjngxsufze_output_flat_token_2\": \"rgba(54.70588235294111, 122.49411764705886, 213.40784313725496, 0.0)\"}, \"cenmcsxpkthjngxsufze_input_node_18_content\": {\"cenmcsxpkthjngxsufze_output_flat_token_0\": \"rgba(255.0, 13.0, 87.0, 0.05407011289364243)\", \"cenmcsxpkthjngxsufze_output_flat_token_1\": \"rgba(30.0, 136.0, 229.0, 0.06195286195286191)\", \"cenmcsxpkthjngxsufze_output_flat_token_2\": \"rgba(54.70588235294111, 122.49411764705886, 213.40784313725496, 0.0)\"}, \"cenmcsxpkthjngxsufze_input_node_19_content\": {\"cenmcsxpkthjngxsufze_output_flat_token_0\": \"rgba(255.0, 13.0, 87.0, 0.05407011289364243)\", \"cenmcsxpkthjngxsufze_output_flat_token_1\": \"rgba(30.0, 136.0, 229.0, 0.06195286195286191)\", \"cenmcsxpkthjngxsufze_output_flat_token_2\": \"rgba(54.70588235294111, 122.49411764705886, 213.40784313725496, 0.0)\"}, \"cenmcsxpkthjngxsufze_input_node_20_content\": {\"cenmcsxpkthjngxsufze_output_flat_token_0\": \"rgba(255.0, 13.0, 87.0, 0.05407011289364243)\", \"cenmcsxpkthjngxsufze_output_flat_token_1\": \"rgba(30.0, 136.0, 229.0, 0.06195286195286191)\", \"cenmcsxpkthjngxsufze_output_flat_token_2\": \"rgba(54.70588235294111, 122.49411764705886, 213.40784313725496, 0.0)\"}, \"cenmcsxpkthjngxsufze_input_node_21_content\": {\"cenmcsxpkthjngxsufze_output_flat_token_0\": \"rgba(255.0, 13.0, 87.0, 0.22749059219647458)\", \"cenmcsxpkthjngxsufze_output_flat_token_1\": \"rgba(30.0, 136.0, 229.0, 0.16442859972271748)\", \"cenmcsxpkthjngxsufze_output_flat_token_2\": \"rgba(30.0, 136.0, 229.0, 0.18019409784115656)\"}, \"cenmcsxpkthjngxsufze_input_node_22_content\": {\"cenmcsxpkthjngxsufze_output_flat_token_0\": \"rgba(255.0, 13.0, 87.0, 0.22749059219647458)\", \"cenmcsxpkthjngxsufze_output_flat_token_1\": \"rgba(30.0, 136.0, 229.0, 0.16442859972271748)\", \"cenmcsxpkthjngxsufze_output_flat_token_2\": \"rgba(30.0, 136.0, 229.0, 0.18019409784115656)\"}, \"cenmcsxpkthjngxsufze_input_node_23_content\": {\"cenmcsxpkthjngxsufze_output_flat_token_0\": \"rgba(255.0, 13.0, 87.0, 0.29055258467023165)\", \"cenmcsxpkthjngxsufze_output_flat_token_1\": \"rgba(30.0, 136.0, 229.0, 0.2038423450188156)\", \"cenmcsxpkthjngxsufze_output_flat_token_2\": \"rgba(30.0, 136.0, 229.0, 0.25113883937413345)\"}, \"cenmcsxpkthjngxsufze_input_node_24_content\": {\"cenmcsxpkthjngxsufze_output_flat_token_0\": \"rgba(255.0, 13.0, 87.0, 0.29055258467023165)\", \"cenmcsxpkthjngxsufze_output_flat_token_1\": \"rgba(30.0, 136.0, 229.0, 0.2038423450188156)\", \"cenmcsxpkthjngxsufze_output_flat_token_2\": \"rgba(30.0, 136.0, 229.0, 0.25113883937413345)\"}, \"cenmcsxpkthjngxsufze_input_node_25_content\": {\"cenmcsxpkthjngxsufze_output_flat_token_0\": \"rgba(255.0, 13.0, 87.0, 0.10136660724896006)\", \"cenmcsxpkthjngxsufze_output_flat_token_1\": \"rgba(30.0, 136.0, 229.0, 0.04618736383442258)\", \"cenmcsxpkthjngxsufze_output_flat_token_2\": \"rgba(30.0, 136.0, 229.0, 0.04618736383442258)\"}, \"cenmcsxpkthjngxsufze_input_node_26_content\": {\"cenmcsxpkthjngxsufze_output_flat_token_0\": \"rgba(230.2941176470614, 26.505882352939775, 102.59215686274348, 0.0)\", \"cenmcsxpkthjngxsufze_output_flat_token_1\": \"rgba(230.2941176470614, 26.505882352939775, 102.59215686274348, 0.0)\", \"cenmcsxpkthjngxsufze_output_flat_token_2\": \"rgba(230.2941176470614, 26.505882352939775, 102.59215686274348, 0.0)\"}, \"cenmcsxpkthjngxsufze_output_flat_token_0\": {\"cenmcsxpkthjngxsufze_input_node_39_content\": \"rgba(30.0, 136.0, 229.0, 0.022539116656763607)\", \"cenmcsxpkthjngxsufze_input_node_40_content\": \"rgba(30.0, 136.0, 229.0, 0.29055258467023176)\", \"cenmcsxpkthjngxsufze_input_node_41_content\": \"rgba(255.0, 13.0, 87.0, 0.4009110714993067)\", \"cenmcsxpkthjngxsufze_input_node_44_content\": \"rgba(255.0, 13.0, 87.0, 0.46397306397306415)\", \"cenmcsxpkthjngxsufze_input_node_16_content\": \"rgba(230.2941176470614, 26.505882352939775, 102.59215686274348, 0.0)\", \"cenmcsxpkthjngxsufze_input_node_42_content\": \"rgba(255.0, 13.0, 87.0, 0.22749059219647458)\", \"cenmcsxpkthjngxsufze_input_node_43_content\": \"rgba(255.0, 13.0, 87.0, 1.0)\", \"cenmcsxpkthjngxsufze_input_node_25_content\": \"rgba(255.0, 13.0, 87.0, 0.14078035254505847)\", \"cenmcsxpkthjngxsufze_input_node_26_content\": \"rgba(230.2941176470614, 26.505882352939775, 102.59215686274348, 0.0)\"}, \"cenmcsxpkthjngxsufze_output_flat_token_1\": {\"cenmcsxpkthjngxsufze_input_node_39_content\": \"rgba(255.0, 13.0, 87.0, 0.05407011289364243)\", \"cenmcsxpkthjngxsufze_input_node_40_content\": \"rgba(255.0, 13.0, 87.0, 0.1959595959595959)\", \"cenmcsxpkthjngxsufze_input_node_41_content\": \"rgba(30.0, 136.0, 229.0, 0.30631808278867095)\", \"cenmcsxpkthjngxsufze_input_node_44_content\": \"rgba(30.0, 136.0, 229.0, 0.36938007526242816)\", \"cenmcsxpkthjngxsufze_input_node_16_content\": \"rgba(230.2941176470614, 26.505882352939775, 102.59215686274348, 0.0)\", \"cenmcsxpkthjngxsufze_input_node_42_content\": \"rgba(30.0, 136.0, 229.0, 0.27478708655179246)\", \"cenmcsxpkthjngxsufze_input_node_43_content\": \"rgba(30.0, 136.0, 229.0, 0.7714002772826302)\", \"cenmcsxpkthjngxsufze_input_node_25_content\": \"rgba(30.0, 136.0, 229.0, 0.04618736383442258)\", \"cenmcsxpkthjngxsufze_input_node_26_content\": \"rgba(230.2941176470614, 26.505882352939775, 102.59215686274348, 0.0)\"}, \"cenmcsxpkthjngxsufze_output_flat_token_2\": {\"cenmcsxpkthjngxsufze_input_node_39_content\": \"rgba(30.0, 136.0, 229.0, 0.1565458506634977)\", \"cenmcsxpkthjngxsufze_input_node_40_content\": \"rgba(255.0, 13.0, 87.0, 0.03830461477520289)\", \"cenmcsxpkthjngxsufze_input_node_41_content\": \"rgba(30.0, 136.0, 229.0, 0.40091107149930677)\", \"cenmcsxpkthjngxsufze_input_node_44_content\": \"rgba(30.0, 136.0, 229.0, 0.3851455733808674)\", \"cenmcsxpkthjngxsufze_input_node_16_content\": \"rgba(230.2941176470614, 26.505882352939775, 102.59215686274348, 0.0)\", \"cenmcsxpkthjngxsufze_input_node_42_content\": \"rgba(54.70588235294111, 122.49411764705886, 213.40784313725496, 0.0)\", \"cenmcsxpkthjngxsufze_input_node_43_content\": \"rgba(30.0, 136.0, 229.0, 0.8108140225787285)\", \"cenmcsxpkthjngxsufze_input_node_25_content\": \"rgba(30.0, 136.0, 229.0, 0.10136660724896014)\", \"cenmcsxpkthjngxsufze_input_node_26_content\": \"rgba(230.2941176470614, 26.505882352939775, 102.59215686274348, 0.0)\"}}\n",
       " shap_values_cenmcsxpkthjngxsufze = {\"cenmcsxpkthjngxsufze_input_node_0_content\": {\"cenmcsxpkthjngxsufze_output_flat_value_label_0\": -0.034, \"cenmcsxpkthjngxsufze_output_flat_value_label_1\": 0.069, \"cenmcsxpkthjngxsufze_output_flat_value_label_2\": -0.197}, \"cenmcsxpkthjngxsufze_input_node_1_content\": {\"cenmcsxpkthjngxsufze_output_flat_value_label_0\": -0.034, \"cenmcsxpkthjngxsufze_output_flat_value_label_1\": 0.069, \"cenmcsxpkthjngxsufze_output_flat_value_label_2\": -0.197}, \"cenmcsxpkthjngxsufze_input_node_2_content\": {\"cenmcsxpkthjngxsufze_output_flat_value_label_0\": -0.034, \"cenmcsxpkthjngxsufze_output_flat_value_label_1\": 0.069, \"cenmcsxpkthjngxsufze_output_flat_value_label_2\": -0.197}, \"cenmcsxpkthjngxsufze_input_node_3_content\": {\"cenmcsxpkthjngxsufze_output_flat_value_label_0\": -0.034, \"cenmcsxpkthjngxsufze_output_flat_value_label_1\": 0.069, \"cenmcsxpkthjngxsufze_output_flat_value_label_2\": -0.197}, \"cenmcsxpkthjngxsufze_input_node_4_content\": {\"cenmcsxpkthjngxsufze_output_flat_value_label_0\": -0.354, \"cenmcsxpkthjngxsufze_output_flat_value_label_1\": 0.243, \"cenmcsxpkthjngxsufze_output_flat_value_label_2\": 0.052}, \"cenmcsxpkthjngxsufze_input_node_5_content\": {\"cenmcsxpkthjngxsufze_output_flat_value_label_0\": -0.354, \"cenmcsxpkthjngxsufze_output_flat_value_label_1\": 0.243, \"cenmcsxpkthjngxsufze_output_flat_value_label_2\": 0.052}, \"cenmcsxpkthjngxsufze_input_node_6_content\": {\"cenmcsxpkthjngxsufze_output_flat_value_label_0\": -0.354, \"cenmcsxpkthjngxsufze_output_flat_value_label_1\": 0.243, \"cenmcsxpkthjngxsufze_output_flat_value_label_2\": 0.052}, \"cenmcsxpkthjngxsufze_input_node_7_content\": {\"cenmcsxpkthjngxsufze_output_flat_value_label_0\": -0.354, \"cenmcsxpkthjngxsufze_output_flat_value_label_1\": 0.243, \"cenmcsxpkthjngxsufze_output_flat_value_label_2\": 0.052}, \"cenmcsxpkthjngxsufze_input_node_8_content\": {\"cenmcsxpkthjngxsufze_output_flat_value_label_0\": 0.491, \"cenmcsxpkthjngxsufze_output_flat_value_label_1\": -0.376, \"cenmcsxpkthjngxsufze_output_flat_value_label_2\": -0.491}, \"cenmcsxpkthjngxsufze_input_node_9_content\": {\"cenmcsxpkthjngxsufze_output_flat_value_label_0\": 0.491, \"cenmcsxpkthjngxsufze_output_flat_value_label_1\": -0.376, \"cenmcsxpkthjngxsufze_output_flat_value_label_2\": -0.491}, \"cenmcsxpkthjngxsufze_input_node_10_content\": {\"cenmcsxpkthjngxsufze_output_flat_value_label_0\": 0.491, \"cenmcsxpkthjngxsufze_output_flat_value_label_1\": -0.376, \"cenmcsxpkthjngxsufze_output_flat_value_label_2\": -0.491}, \"cenmcsxpkthjngxsufze_input_node_11_content\": {\"cenmcsxpkthjngxsufze_output_flat_value_label_0\": 0.491, \"cenmcsxpkthjngxsufze_output_flat_value_label_1\": -0.376, \"cenmcsxpkthjngxsufze_output_flat_value_label_2\": -0.491}, \"cenmcsxpkthjngxsufze_input_node_12_content\": {\"cenmcsxpkthjngxsufze_output_flat_value_label_0\": 0.564, \"cenmcsxpkthjngxsufze_output_flat_value_label_1\": -0.453, \"cenmcsxpkthjngxsufze_output_flat_value_label_2\": -0.466}, \"cenmcsxpkthjngxsufze_input_node_13_content\": {\"cenmcsxpkthjngxsufze_output_flat_value_label_0\": 0.564, \"cenmcsxpkthjngxsufze_output_flat_value_label_1\": -0.453, \"cenmcsxpkthjngxsufze_output_flat_value_label_2\": -0.466}, \"cenmcsxpkthjngxsufze_input_node_14_content\": {\"cenmcsxpkthjngxsufze_output_flat_value_label_0\": 0.564, \"cenmcsxpkthjngxsufze_output_flat_value_label_1\": -0.453, \"cenmcsxpkthjngxsufze_output_flat_value_label_2\": -0.466}, \"cenmcsxpkthjngxsufze_input_node_15_content\": {\"cenmcsxpkthjngxsufze_output_flat_value_label_0\": 0.564, \"cenmcsxpkthjngxsufze_output_flat_value_label_1\": -0.453, \"cenmcsxpkthjngxsufze_output_flat_value_label_2\": -0.466}, \"cenmcsxpkthjngxsufze_input_node_16_content\": {\"cenmcsxpkthjngxsufze_output_flat_value_label_0\": 0.0, \"cenmcsxpkthjngxsufze_output_flat_value_label_1\": 0.0, \"cenmcsxpkthjngxsufze_output_flat_value_label_2\": 0.0}, \"cenmcsxpkthjngxsufze_input_node_17_content\": {\"cenmcsxpkthjngxsufze_output_flat_value_label_0\": 0.277, \"cenmcsxpkthjngxsufze_output_flat_value_label_1\": -0.333, \"cenmcsxpkthjngxsufze_output_flat_value_label_2\": -0.004}, \"cenmcsxpkthjngxsufze_input_node_18_content\": {\"cenmcsxpkthjngxsufze_output_flat_value_label_0\": 0.277, \"cenmcsxpkthjngxsufze_output_flat_value_label_1\": -0.333, \"cenmcsxpkthjngxsufze_output_flat_value_label_2\": -0.004}, \"cenmcsxpkthjngxsufze_input_node_19_content\": {\"cenmcsxpkthjngxsufze_output_flat_value_label_0\": 0.277, \"cenmcsxpkthjngxsufze_output_flat_value_label_1\": -0.333, \"cenmcsxpkthjngxsufze_output_flat_value_label_2\": -0.004}, \"cenmcsxpkthjngxsufze_input_node_20_content\": {\"cenmcsxpkthjngxsufze_output_flat_value_label_0\": 0.277, \"cenmcsxpkthjngxsufze_output_flat_value_label_1\": -0.333, \"cenmcsxpkthjngxsufze_output_flat_value_label_2\": -0.004}, \"cenmcsxpkthjngxsufze_input_node_21_content\": {\"cenmcsxpkthjngxsufze_output_flat_value_label_0\": 1.119, \"cenmcsxpkthjngxsufze_output_flat_value_label_1\": -0.834, \"cenmcsxpkthjngxsufze_output_flat_value_label_2\": -0.875}, \"cenmcsxpkthjngxsufze_input_node_22_content\": {\"cenmcsxpkthjngxsufze_output_flat_value_label_0\": 1.119, \"cenmcsxpkthjngxsufze_output_flat_value_label_1\": -0.834, \"cenmcsxpkthjngxsufze_output_flat_value_label_2\": -0.875}, \"cenmcsxpkthjngxsufze_input_node_23_content\": {\"cenmcsxpkthjngxsufze_output_flat_value_label_0\": 1.405, \"cenmcsxpkthjngxsufze_output_flat_value_label_1\": -1.02, \"cenmcsxpkthjngxsufze_output_flat_value_label_2\": -1.22}, \"cenmcsxpkthjngxsufze_input_node_24_content\": {\"cenmcsxpkthjngxsufze_output_flat_value_label_0\": 1.405, \"cenmcsxpkthjngxsufze_output_flat_value_label_1\": -1.02, \"cenmcsxpkthjngxsufze_output_flat_value_label_2\": -1.22}, \"cenmcsxpkthjngxsufze_input_node_25_content\": {\"cenmcsxpkthjngxsufze_output_flat_value_label_0\": 0.496, \"cenmcsxpkthjngxsufze_output_flat_value_label_1\": -0.243, \"cenmcsxpkthjngxsufze_output_flat_value_label_2\": -0.24}, \"cenmcsxpkthjngxsufze_input_node_26_content\": {\"cenmcsxpkthjngxsufze_output_flat_value_label_0\": 0.0, \"cenmcsxpkthjngxsufze_output_flat_value_label_1\": 0.0, \"cenmcsxpkthjngxsufze_output_flat_value_label_2\": 0.0}, \"cenmcsxpkthjngxsufze_output_flat_token_0\": {\"cenmcsxpkthjngxsufze_input_node_39_label\": \"-0.135/4\", \"cenmcsxpkthjngxsufze_input_node_40_label\": \"-1.415/4\", \"cenmcsxpkthjngxsufze_input_node_41_label\": \"1.962/4\", \"cenmcsxpkthjngxsufze_input_node_44_label\": \"2.255/4\", \"cenmcsxpkthjngxsufze_input_node_16_label\": \"0.0\", \"cenmcsxpkthjngxsufze_input_node_42_label\": \"1.106/4\", \"cenmcsxpkthjngxsufze_input_node_43_label\": \"4.857/4\", \"cenmcsxpkthjngxsufze_input_node_25_label\": \"0.687\", \"cenmcsxpkthjngxsufze_input_node_26_label\": \"0.0\"}, \"cenmcsxpkthjngxsufze_output_flat_token_1\": {\"cenmcsxpkthjngxsufze_input_node_39_label\": \"0.275/4\", \"cenmcsxpkthjngxsufze_input_node_40_label\": \"0.974/4\", \"cenmcsxpkthjngxsufze_input_node_41_label\": \"-1.502/4\", \"cenmcsxpkthjngxsufze_input_node_44_label\": \"-1.812/4\", \"cenmcsxpkthjngxsufze_input_node_16_label\": \"0.0\", \"cenmcsxpkthjngxsufze_input_node_42_label\": \"-1.334/4\", \"cenmcsxpkthjngxsufze_input_node_43_label\": \"-3.72/4\", \"cenmcsxpkthjngxsufze_input_node_25_label\": \"-0.232\", \"cenmcsxpkthjngxsufze_input_node_26_label\": \"0.0\"}, \"cenmcsxpkthjngxsufze_output_flat_token_2\": {\"cenmcsxpkthjngxsufze_input_node_39_label\": \"-0.788/4\", \"cenmcsxpkthjngxsufze_input_node_40_label\": \"0.206/4\", \"cenmcsxpkthjngxsufze_input_node_41_label\": \"-1.965/4\", \"cenmcsxpkthjngxsufze_input_node_44_label\": \"-1.864/4\", \"cenmcsxpkthjngxsufze_input_node_16_label\": \"0.0\", \"cenmcsxpkthjngxsufze_input_node_42_label\": \"-0.015/4\", \"cenmcsxpkthjngxsufze_input_node_43_label\": \"-3.929/4\", \"cenmcsxpkthjngxsufze_input_node_25_label\": \"-0.501\", \"cenmcsxpkthjngxsufze_input_node_26_label\": \"0.0\"}}\n",
       " token_id_to_node_id_mapping_cenmcsxpkthjngxsufze = {\"cenmcsxpkthjngxsufze_output_flat_token_0\": {\"cenmcsxpkthjngxsufze_input_node_0_content\": \"cenmcsxpkthjngxsufze_input_node_39_content\", \"cenmcsxpkthjngxsufze_input_node_1_content\": \"cenmcsxpkthjngxsufze_input_node_39_content\", \"cenmcsxpkthjngxsufze_input_node_2_content\": \"cenmcsxpkthjngxsufze_input_node_39_content\", \"cenmcsxpkthjngxsufze_input_node_3_content\": \"cenmcsxpkthjngxsufze_input_node_39_content\", \"cenmcsxpkthjngxsufze_input_node_4_content\": \"cenmcsxpkthjngxsufze_input_node_40_content\", \"cenmcsxpkthjngxsufze_input_node_5_content\": \"cenmcsxpkthjngxsufze_input_node_40_content\", \"cenmcsxpkthjngxsufze_input_node_6_content\": \"cenmcsxpkthjngxsufze_input_node_40_content\", \"cenmcsxpkthjngxsufze_input_node_7_content\": \"cenmcsxpkthjngxsufze_input_node_40_content\", \"cenmcsxpkthjngxsufze_input_node_8_content\": \"cenmcsxpkthjngxsufze_input_node_41_content\", \"cenmcsxpkthjngxsufze_input_node_9_content\": \"cenmcsxpkthjngxsufze_input_node_41_content\", \"cenmcsxpkthjngxsufze_input_node_10_content\": \"cenmcsxpkthjngxsufze_input_node_41_content\", \"cenmcsxpkthjngxsufze_input_node_11_content\": \"cenmcsxpkthjngxsufze_input_node_41_content\", \"cenmcsxpkthjngxsufze_input_node_12_content\": \"cenmcsxpkthjngxsufze_input_node_44_content\", \"cenmcsxpkthjngxsufze_input_node_13_content\": \"cenmcsxpkthjngxsufze_input_node_44_content\", \"cenmcsxpkthjngxsufze_input_node_14_content\": \"cenmcsxpkthjngxsufze_input_node_44_content\", \"cenmcsxpkthjngxsufze_input_node_15_content\": \"cenmcsxpkthjngxsufze_input_node_44_content\", \"cenmcsxpkthjngxsufze_input_node_16_content\": \"cenmcsxpkthjngxsufze_input_node_16_content\", \"cenmcsxpkthjngxsufze_input_node_17_content\": \"cenmcsxpkthjngxsufze_input_node_42_content\", \"cenmcsxpkthjngxsufze_input_node_18_content\": \"cenmcsxpkthjngxsufze_input_node_42_content\", \"cenmcsxpkthjngxsufze_input_node_19_content\": \"cenmcsxpkthjngxsufze_input_node_42_content\", \"cenmcsxpkthjngxsufze_input_node_20_content\": \"cenmcsxpkthjngxsufze_input_node_42_content\", \"cenmcsxpkthjngxsufze_input_node_21_content\": \"cenmcsxpkthjngxsufze_input_node_43_content\", \"cenmcsxpkthjngxsufze_input_node_22_content\": \"cenmcsxpkthjngxsufze_input_node_43_content\", \"cenmcsxpkthjngxsufze_input_node_23_content\": \"cenmcsxpkthjngxsufze_input_node_43_content\", \"cenmcsxpkthjngxsufze_input_node_24_content\": \"cenmcsxpkthjngxsufze_input_node_43_content\", \"cenmcsxpkthjngxsufze_input_node_25_content\": \"cenmcsxpkthjngxsufze_input_node_25_content\", \"cenmcsxpkthjngxsufze_input_node_26_content\": \"cenmcsxpkthjngxsufze_input_node_26_content\"}, \"cenmcsxpkthjngxsufze_output_flat_token_1\": {\"cenmcsxpkthjngxsufze_input_node_0_content\": \"cenmcsxpkthjngxsufze_input_node_39_content\", \"cenmcsxpkthjngxsufze_input_node_1_content\": \"cenmcsxpkthjngxsufze_input_node_39_content\", \"cenmcsxpkthjngxsufze_input_node_2_content\": \"cenmcsxpkthjngxsufze_input_node_39_content\", \"cenmcsxpkthjngxsufze_input_node_3_content\": \"cenmcsxpkthjngxsufze_input_node_39_content\", \"cenmcsxpkthjngxsufze_input_node_4_content\": \"cenmcsxpkthjngxsufze_input_node_40_content\", \"cenmcsxpkthjngxsufze_input_node_5_content\": \"cenmcsxpkthjngxsufze_input_node_40_content\", \"cenmcsxpkthjngxsufze_input_node_6_content\": \"cenmcsxpkthjngxsufze_input_node_40_content\", \"cenmcsxpkthjngxsufze_input_node_7_content\": \"cenmcsxpkthjngxsufze_input_node_40_content\", \"cenmcsxpkthjngxsufze_input_node_8_content\": \"cenmcsxpkthjngxsufze_input_node_41_content\", \"cenmcsxpkthjngxsufze_input_node_9_content\": \"cenmcsxpkthjngxsufze_input_node_41_content\", \"cenmcsxpkthjngxsufze_input_node_10_content\": \"cenmcsxpkthjngxsufze_input_node_41_content\", \"cenmcsxpkthjngxsufze_input_node_11_content\": \"cenmcsxpkthjngxsufze_input_node_41_content\", \"cenmcsxpkthjngxsufze_input_node_12_content\": \"cenmcsxpkthjngxsufze_input_node_44_content\", \"cenmcsxpkthjngxsufze_input_node_13_content\": \"cenmcsxpkthjngxsufze_input_node_44_content\", \"cenmcsxpkthjngxsufze_input_node_14_content\": \"cenmcsxpkthjngxsufze_input_node_44_content\", \"cenmcsxpkthjngxsufze_input_node_15_content\": \"cenmcsxpkthjngxsufze_input_node_44_content\", \"cenmcsxpkthjngxsufze_input_node_16_content\": \"cenmcsxpkthjngxsufze_input_node_16_content\", \"cenmcsxpkthjngxsufze_input_node_17_content\": \"cenmcsxpkthjngxsufze_input_node_42_content\", \"cenmcsxpkthjngxsufze_input_node_18_content\": \"cenmcsxpkthjngxsufze_input_node_42_content\", \"cenmcsxpkthjngxsufze_input_node_19_content\": \"cenmcsxpkthjngxsufze_input_node_42_content\", \"cenmcsxpkthjngxsufze_input_node_20_content\": \"cenmcsxpkthjngxsufze_input_node_42_content\", \"cenmcsxpkthjngxsufze_input_node_21_content\": \"cenmcsxpkthjngxsufze_input_node_43_content\", \"cenmcsxpkthjngxsufze_input_node_22_content\": \"cenmcsxpkthjngxsufze_input_node_43_content\", \"cenmcsxpkthjngxsufze_input_node_23_content\": \"cenmcsxpkthjngxsufze_input_node_43_content\", \"cenmcsxpkthjngxsufze_input_node_24_content\": \"cenmcsxpkthjngxsufze_input_node_43_content\", \"cenmcsxpkthjngxsufze_input_node_25_content\": \"cenmcsxpkthjngxsufze_input_node_25_content\", \"cenmcsxpkthjngxsufze_input_node_26_content\": \"cenmcsxpkthjngxsufze_input_node_26_content\"}, \"cenmcsxpkthjngxsufze_output_flat_token_2\": {\"cenmcsxpkthjngxsufze_input_node_0_content\": \"cenmcsxpkthjngxsufze_input_node_39_content\", \"cenmcsxpkthjngxsufze_input_node_1_content\": \"cenmcsxpkthjngxsufze_input_node_39_content\", \"cenmcsxpkthjngxsufze_input_node_2_content\": \"cenmcsxpkthjngxsufze_input_node_39_content\", \"cenmcsxpkthjngxsufze_input_node_3_content\": \"cenmcsxpkthjngxsufze_input_node_39_content\", \"cenmcsxpkthjngxsufze_input_node_4_content\": \"cenmcsxpkthjngxsufze_input_node_40_content\", \"cenmcsxpkthjngxsufze_input_node_5_content\": \"cenmcsxpkthjngxsufze_input_node_40_content\", \"cenmcsxpkthjngxsufze_input_node_6_content\": \"cenmcsxpkthjngxsufze_input_node_40_content\", \"cenmcsxpkthjngxsufze_input_node_7_content\": \"cenmcsxpkthjngxsufze_input_node_40_content\", \"cenmcsxpkthjngxsufze_input_node_8_content\": \"cenmcsxpkthjngxsufze_input_node_41_content\", \"cenmcsxpkthjngxsufze_input_node_9_content\": \"cenmcsxpkthjngxsufze_input_node_41_content\", \"cenmcsxpkthjngxsufze_input_node_10_content\": \"cenmcsxpkthjngxsufze_input_node_41_content\", \"cenmcsxpkthjngxsufze_input_node_11_content\": \"cenmcsxpkthjngxsufze_input_node_41_content\", \"cenmcsxpkthjngxsufze_input_node_12_content\": \"cenmcsxpkthjngxsufze_input_node_44_content\", \"cenmcsxpkthjngxsufze_input_node_13_content\": \"cenmcsxpkthjngxsufze_input_node_44_content\", \"cenmcsxpkthjngxsufze_input_node_14_content\": \"cenmcsxpkthjngxsufze_input_node_44_content\", \"cenmcsxpkthjngxsufze_input_node_15_content\": \"cenmcsxpkthjngxsufze_input_node_44_content\", \"cenmcsxpkthjngxsufze_input_node_16_content\": \"cenmcsxpkthjngxsufze_input_node_16_content\", \"cenmcsxpkthjngxsufze_input_node_17_content\": \"cenmcsxpkthjngxsufze_input_node_42_content\", \"cenmcsxpkthjngxsufze_input_node_18_content\": \"cenmcsxpkthjngxsufze_input_node_42_content\", \"cenmcsxpkthjngxsufze_input_node_19_content\": \"cenmcsxpkthjngxsufze_input_node_42_content\", \"cenmcsxpkthjngxsufze_input_node_20_content\": \"cenmcsxpkthjngxsufze_input_node_42_content\", \"cenmcsxpkthjngxsufze_input_node_21_content\": \"cenmcsxpkthjngxsufze_input_node_43_content\", \"cenmcsxpkthjngxsufze_input_node_22_content\": \"cenmcsxpkthjngxsufze_input_node_43_content\", \"cenmcsxpkthjngxsufze_input_node_23_content\": \"cenmcsxpkthjngxsufze_input_node_43_content\", \"cenmcsxpkthjngxsufze_input_node_24_content\": \"cenmcsxpkthjngxsufze_input_node_43_content\", \"cenmcsxpkthjngxsufze_input_node_25_content\": \"cenmcsxpkthjngxsufze_input_node_25_content\", \"cenmcsxpkthjngxsufze_input_node_26_content\": \"cenmcsxpkthjngxsufze_input_node_26_content\"}}\n",
       "</script> \n",
       " \n",
       "          </div>\n",
       "      </div>\n",
       "    </div>\n",
       "    </html>\n",
       "    "
      ],
      "text/plain": [
       "<IPython.core.display.HTML object>"
      ]
     },
     "metadata": {},
     "output_type": "display_data"
    }
   ],
   "source": [
    "shap.plots.text(shap_values)"
   ]
  },
  {
   "cell_type": "markdown",
   "id": "italian-martin",
   "metadata": {},
   "source": [
    "## Input Partition Tree - Dendrogram"
   ]
  },
  {
   "cell_type": "code",
   "execution_count": 10,
   "id": "radical-harris",
   "metadata": {},
   "outputs": [],
   "source": [
    "from scipy.cluster.hierarchy import dendrogram, linkage\n",
    "from matplotlib import pyplot as plt"
   ]
  },
  {
   "cell_type": "code",
   "execution_count": 11,
   "id": "homeless-foundation",
   "metadata": {},
   "outputs": [
    {
     "name": "stdout",
     "output_type": "stream",
     "text": [
      "[[ 0.  1. 12.  2.]\n",
      " [ 2.  3. 12.  2.]\n",
      " [ 4.  5. 12.  2.]\n",
      " [ 6.  7. 12.  2.]\n",
      " [ 8.  9. 12.  2.]\n",
      " [10. 11. 12.  2.]\n",
      " [12. 13. 12.  2.]\n",
      " [17. 18. 12.  2.]\n",
      " [19. 20. 12.  2.]\n",
      " [21. 22. 12.  2.]\n",
      " [23. 24. 12.  2.]\n",
      " [33. 14. 13.  3.]\n",
      " [27. 28. 14.  4.]\n",
      " [29. 30. 14.  4.]\n",
      " [31. 32. 14.  4.]\n",
      " [34. 35. 14.  4.]\n",
      " [36. 37. 14.  4.]\n",
      " [38. 15. 15.  4.]\n",
      " [43. 25. 16.  5.]\n",
      " [39. 40. 18.  8.]\n",
      " [41. 44. 18.  8.]\n",
      " [42. 45. 19.  9.]\n",
      " [46. 47. 26. 16.]\n",
      " [48. 26. 40. 10.]\n",
      " [49. 16. 47. 17.]\n",
      " [51. 50. 57. 27.]]\n"
     ]
    }
   ],
   "source": [
    "Z = shap_values[0].abs.clustering\n",
    "Z[-1][2] = Z[-2][2] + 10 # last row's distance is extremely large, so make it a more reasonable value\n",
    "print(Z)"
   ]
  },
  {
   "cell_type": "code",
   "execution_count": 12,
   "id": "honey-difference",
   "metadata": {},
   "outputs": [
    {
     "name": "stdout",
     "output_type": "stream",
     "text": [
      "['' 'A ' 'boy ' 'is ' 'jumping ' 'on ' 'skate' 'board ' 'in ' 'the '\n",
      " 'middle ' 'of ' 'a ' 'red ' 'bridge' '.' '</s>' '</s>' 'The ' 'boy ' 'sk'\n",
      " 'ates ' 'down ' 'the ' 'sidewalk' '.' '']\n"
     ]
    }
   ],
   "source": [
    "labels_arr = shap_values[0].data\n",
    "\n",
    "# # clean labels of unusal characters (only for slow tokenizer, if use_fast=False)\n",
    "# labels_arr = []\n",
    "# for token in shap_values[0].data:\n",
    "#     if token[0] == 'Ġ':\n",
    "#         labels_arr.append(token[1:])\n",
    "#     else:\n",
    "#         labels_arr.append(token)\n",
    "print(labels_arr)\n"
   ]
  },
  {
   "cell_type": "code",
   "execution_count": 14,
   "id": "empty-divide",
   "metadata": {
    "scrolled": true
   },
   "outputs": [
    {
     "data": {
      "image/png": "[encoded data removed]",
      "text/plain": [
       "<Figure size 3312x1080 with 1 Axes>"
      ]
     },
     "metadata": {
      "needs_background": "light"
     },
     "output_type": "display_data"
    }
   ],
   "source": [
    "fig = plt.figure(figsize=(len(Z) + 20, 15))\n",
    "dn = dendrogram(Z, labels=labels_arr)\n",
    "plt.show()"
   ]
  },
  {
   "cell_type": "markdown",
   "id": "further-sword",
   "metadata": {},
   "source": [
    "## Benchmarking"
   ]
  },
  {
   "cell_type": "code",
   "execution_count": 15,
   "id": "mature-submission",
   "metadata": {},
   "outputs": [],
   "source": [
    "sort_order = 'positive'\n",
    "perturbation = 'keep'"
   ]
  },
  {
   "cell_type": "code",
   "execution_count": 16,
   "id": "sublime-reason",
   "metadata": {},
   "outputs": [],
   "source": [
    "from shap import benchmark"
   ]
  },
  {
   "cell_type": "code",
   "execution_count": 17,
   "id": "breeding-roulette",
   "metadata": {},
   "outputs": [
    {
     "data": {
      "application/vnd.jupyter.widget-view+json": {
       "model_id": "",
       "version_major": 2,
       "version_minor": 0
      },
      "text/plain": [
       "HBox(children=(FloatProgress(value=0.0, max=1.0), HTML(value='')))"
      ]
     },
     "metadata": {},
     "output_type": "display_data"
    },
    {
     "data": {
      "image/png": "[encoded data removed]",
      "text/plain": [
       "<Figure size 432x288 with 1 Axes>"
      ]
     },
     "metadata": {
      "needs_background": "light"
     },
     "output_type": "display_data"
    }
   ],
   "source": [
    "sper = benchmark.perturbation.SequentialPerturbation(explainer.model, explainer.masker, sort_order, perturbation)\n",
    "xs, ys, auc = sper.model_score(shap_values, [decoded])\n",
    "sper.plot(xs, ys, auc)"
   ]
  },
  {
   "cell_type": "code",
   "execution_count": null,
   "id": "liked-lounge",
   "metadata": {},
   "outputs": [],
   "source": []
  }
 ],
 "metadata": {
  "kernelspec": {
   "display_name": "Python 3",
   "language": "python",
   "name": "python3"
  },
  "language_info": {
   "codemirror_mode": {
    "name": "ipython",
    "version": 3
   },
   "file_extension": ".py",
   "mimetype": "text/x-python",
   "name": "python",
   "nbconvert_exporter": "python",
   "pygments_lexer": "ipython3",
   "version": "3.7.9"
  }
 },
 "nbformat": 4,
 "nbformat_minor": 5
}
